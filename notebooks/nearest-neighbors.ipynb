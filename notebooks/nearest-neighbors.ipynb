{
 "cells": [
  {
   "cell_type": "code",
   "execution_count": 1,
   "metadata": {
    "_cell_guid": "b1076dfc-b9ad-4769-8c92-a6c4dae69d19",
    "_uuid": "8f2839f25d086af736a60e9eeb907d3b93b6e0e5"
   },
   "outputs": [],
   "source": [
    "import warnings\n",
    "warnings.filterwarnings(\"ignore\")"
   ]
  },
  {
   "cell_type": "markdown",
   "metadata": {},
   "source": [
    "## Importing Libraries"
   ]
  },
  {
   "cell_type": "code",
   "execution_count": 28,
   "metadata": {},
   "outputs": [],
   "source": [
    "import cudf\n",
    "import cupy\n",
    "from cuml.feature_extraction.text import TfidfVectorizer\n",
    "from cuml.neighbors import NearestNeighbors\n",
    "\n",
    "import pandas as pd\n",
    "import matplotlib.pyplot as plt\n",
    "import seaborn as sns"
   ]
  },
  {
   "cell_type": "code",
   "execution_count": 4,
   "metadata": {},
   "outputs": [
    {
     "name": "stdout",
     "output_type": "stream",
     "text": [
      "CuDF: 0.16.0\n"
     ]
    }
   ],
   "source": [
    "print(f\"CuDF: {cudf.__version__}\")"
   ]
  },
  {
   "cell_type": "code",
   "execution_count": 5,
   "metadata": {},
   "outputs": [],
   "source": [
    "plt.rcParams[\"figure.figsize\"] = (15, 12)\n",
    "sns.set_style(\"darkgrid\")"
   ]
  },
  {
   "cell_type": "code",
   "execution_count": 29,
   "metadata": {},
   "outputs": [],
   "source": [
    "pd.set_option(\"display.max_colwidth\", None)"
   ]
  },
  {
   "cell_type": "markdown",
   "metadata": {},
   "source": [
    "## Nearest Neighbors\n",
    "\n",
    "Check if for cases with similar reviews, what's the score distribution"
   ]
  },
  {
   "cell_type": "code",
   "execution_count": 6,
   "metadata": {},
   "outputs": [],
   "source": [
    "df = cudf.read_csv(\"../input/intermediate-food-reviews/food_reviews.csv\")"
   ]
  },
  {
   "cell_type": "code",
   "execution_count": 7,
   "metadata": {},
   "outputs": [
    {
     "data": {
      "text/plain": [
       "(395003, 5)"
      ]
     },
     "execution_count": 7,
     "metadata": {},
     "output_type": "execute_result"
    }
   ],
   "source": [
    "df.shape"
   ]
  },
  {
   "cell_type": "code",
   "execution_count": 8,
   "metadata": {},
   "outputs": [],
   "source": [
    "df[\"Summary\"] = df[\"Summary\"].str.strip().str.capitalize()"
   ]
  },
  {
   "cell_type": "code",
   "execution_count": 9,
   "metadata": {},
   "outputs": [
    {
     "data": {
      "text/html": [
       "<div>\n",
       "<style scoped>\n",
       "    .dataframe tbody tr th:only-of-type {\n",
       "        vertical-align: middle;\n",
       "    }\n",
       "\n",
       "    .dataframe tbody tr th {\n",
       "        vertical-align: top;\n",
       "    }\n",
       "\n",
       "    .dataframe thead th {\n",
       "        text-align: right;\n",
       "    }\n",
       "</style>\n",
       "<table border=\"1\" class=\"dataframe\">\n",
       "  <thead>\n",
       "    <tr style=\"text-align: right;\">\n",
       "      <th></th>\n",
       "      <th>ProductId</th>\n",
       "      <th>UserId</th>\n",
       "      <th>ProfileName</th>\n",
       "      <th>Score</th>\n",
       "      <th>Summary</th>\n",
       "    </tr>\n",
       "  </thead>\n",
       "  <tbody>\n",
       "    <tr>\n",
       "      <th>0</th>\n",
       "      <td>B001E4KFG0</td>\n",
       "      <td>A3SGXH7AUHU8GW</td>\n",
       "      <td>delmartian</td>\n",
       "      <td>5</td>\n",
       "      <td>Good quality dog food</td>\n",
       "    </tr>\n",
       "    <tr>\n",
       "      <th>1</th>\n",
       "      <td>B00813GRG4</td>\n",
       "      <td>A1D87F6ZCVE5NK</td>\n",
       "      <td>dll pa</td>\n",
       "      <td>1</td>\n",
       "      <td>Not as advertised</td>\n",
       "    </tr>\n",
       "    <tr>\n",
       "      <th>2</th>\n",
       "      <td>B000LQOCH0</td>\n",
       "      <td>ABXLMWJIXXAIN</td>\n",
       "      <td>Natalia Corres \"Natalia Corres\"</td>\n",
       "      <td>4</td>\n",
       "      <td>\"delight\" says it all</td>\n",
       "    </tr>\n",
       "    <tr>\n",
       "      <th>3</th>\n",
       "      <td>B000UA0QIQ</td>\n",
       "      <td>A395BORC6FGVXV</td>\n",
       "      <td>Karl</td>\n",
       "      <td>2</td>\n",
       "      <td>Cough medicine</td>\n",
       "    </tr>\n",
       "    <tr>\n",
       "      <th>4</th>\n",
       "      <td>B006K2ZZ7K</td>\n",
       "      <td>A1UQRSCLF8GW1T</td>\n",
       "      <td>Michael D. Bigham \"M. Wassir\"</td>\n",
       "      <td>5</td>\n",
       "      <td>Great taffy</td>\n",
       "    </tr>\n",
       "  </tbody>\n",
       "</table>\n",
       "</div>"
      ],
      "text/plain": [
       "    ProductId          UserId                      ProfileName  Score  \\\n",
       "0  B001E4KFG0  A3SGXH7AUHU8GW                       delmartian      5   \n",
       "1  B00813GRG4  A1D87F6ZCVE5NK                           dll pa      1   \n",
       "2  B000LQOCH0   ABXLMWJIXXAIN  Natalia Corres \"Natalia Corres\"      4   \n",
       "3  B000UA0QIQ  A395BORC6FGVXV                             Karl      2   \n",
       "4  B006K2ZZ7K  A1UQRSCLF8GW1T    Michael D. Bigham \"M. Wassir\"      5   \n",
       "\n",
       "                 Summary  \n",
       "0  Good quality dog food  \n",
       "1      Not as advertised  \n",
       "2  \"delight\" says it all  \n",
       "3         Cough medicine  \n",
       "4            Great taffy  "
      ]
     },
     "execution_count": 9,
     "metadata": {},
     "output_type": "execute_result"
    }
   ],
   "source": [
    "df.head()"
   ]
  },
  {
   "cell_type": "code",
   "execution_count": 31,
   "metadata": {},
   "outputs": [],
   "source": [
    "tfidf = TfidfVectorizer(stop_words='english', binary=True)\n",
    "summary_embeddings = tfidf.fit_transform(df[\"Summary\"].head(50000)).toarray()"
   ]
  },
  {
   "cell_type": "code",
   "execution_count": 32,
   "metadata": {},
   "outputs": [
    {
     "name": "stdout",
     "output_type": "stream",
     "text": [
      "Embeddings Shape: (50000, 10950)\n"
     ]
    }
   ],
   "source": [
    "print(f\"Embeddings Shape: {summary_embeddings.shape}\")"
   ]
  },
  {
   "cell_type": "code",
   "execution_count": 37,
   "metadata": {},
   "outputs": [],
   "source": [
    "num_neighbors = 100\n",
    "knn = NearestNeighbors(num_neighbors)"
   ]
  },
  {
   "cell_type": "code",
   "execution_count": 38,
   "metadata": {},
   "outputs": [
    {
     "data": {
      "text/plain": [
       "NearestNeighbors(n_neighbors=100, verbose=4, handle=<cuml.raft.common.handle.Handle object at 0x7f3a3b455c50>, algorithm='brute', metric='euclidean', p=2, metric_params=None, output_type='cupy')"
      ]
     },
     "execution_count": 38,
     "metadata": {},
     "output_type": "execute_result"
    }
   ],
   "source": [
    "knn.fit(summary_embeddings)"
   ]
  },
  {
   "cell_type": "code",
   "execution_count": 39,
   "metadata": {},
   "outputs": [],
   "source": [
    "distances, indices = knn.kneighbors(summary_embeddings)"
   ]
  },
  {
   "cell_type": "code",
   "execution_count": 44,
   "metadata": {},
   "outputs": [
    {
     "name": "stdout",
     "output_type": "stream",
     "text": [
      "     Summary  Score\n",
      "279    Yummy      5\n",
      "28    Yummy!      5\n",
      "260    Yummy      5\n",
      "663    Yummy      5\n",
      "770   Yummy!      5\n",
      "2834  Yummy!      5\n",
      "3079  Yummy!      5\n",
      "2690   Yummy      5\n",
      "2844   Yummy      5\n",
      "3722   Yummy      5\n",
      "\n",
      "              Summary  Score\n",
      "1554      Hot hot hot      5\n",
      "7172              Hot      1\n",
      "19074      Not so hot      3\n",
      "17689      Not so hot      2\n",
      "27802  Hot, hot, hot!      5\n",
      "32528  Hot! hot! hot!      5\n",
      "7485        Very hot!      5\n",
      "315              Hot!      5\n",
      "38177    It is so hot      5\n",
      "10473          Hot!!!      5\n",
      "\n",
      "                                                      Summary  Score\n",
      "9789   Totally awesome snack - low fat/high protein.  yum yum      5\n",
      "22079                                   High protein low fat!      5\n",
      "45255                            Awesome, high protein snack!      5\n",
      "35134                          High protein low calorie snack      5\n",
      "31219                                    Great low-fat snack!      5\n",
      "17377           High protein, low fat, tast great. expensive.      4\n",
      "17598                               Awesome flavor - low fat!      5\n",
      "41783                             Tasty but not low-fat snack      4\n",
      "9790                       Excellent --- low fat, high flavor      5\n",
      "24841                               They are totally awesome!      5\n",
      "\n",
      "                                               Summary  Score\n",
      "21501               Only good if dog is food motivated      2\n",
      "21353  Well made, but only for the very food motivated      3\n",
      "23817                                    Good dog food      5\n",
      "43024                                    Good dog food      4\n",
      "39100                                   Good dog food.      5\n",
      "13134                                    Good dog food      3\n",
      "5813                              A very good dog food      5\n",
      "1584                                     Good dog food      5\n",
      "4728                                     Good dog food      4\n",
      "49777                                    Good dog food      5\n",
      "\n",
      "                      Summary  Score\n",
      "32572           Great mustard      5\n",
      "49599           Great mustard      5\n",
      "33329           Great mustard      5\n",
      "5066            Great mustard      5\n",
      "32577        The only mustard      5\n",
      "10964       Best mustard ever      5\n",
      "41512       Best mustard ever      5\n",
      "41662           Best mustard.      5\n",
      "2521     Best. mustard. ever.      5\n",
      "38612  The best mustard ever!      5\n",
      "\n",
      "           Summary  Score\n",
      "652     Great buy!      5\n",
      "5765    Great buy!      5\n",
      "14365   Great buy!      5\n",
      "16514   Great buy!      4\n",
      "19999   Great buy!      5\n",
      "20760    Great buy      5\n",
      "20742    Great buy      5\n",
      "31491    Great buy      5\n",
      "40591  Great buy!!      5\n",
      "35974  Great buy!!      4\n",
      "\n",
      "                                                                                           Summary  \\\n",
      "49781                                                                    Dog developed gi problems   \n",
      "130                                                                                     Not for me   \n",
      "907                                                                                       Too thin   \n",
      "538    C h i p.....c h i p.....h o o r a y....!!!!!  :  )  ( b a c k y a r d.....b a r b e c u e )   \n",
      "4115                                                                                   Almost five   \n",
      "4382                                                                                     Too thin!   \n",
      "7070                                                                                  Not the same   \n",
      "1536                                                                                Not so much...   \n",
      "7061                                                                                  Never again!   \n",
      "6554                                                                                   Not so much   \n",
      "\n",
      "       Score  \n",
      "49781      1  \n",
      "130        2  \n",
      "907        3  \n",
      "538        5  \n",
      "4115       4  \n",
      "4382       1  \n",
      "7070       2  \n",
      "1536       2  \n",
      "7061       1  \n",
      "6554       1  \n",
      "\n",
      "                                                                                           Summary  \\\n",
      "7691                                                                               Love goats milk   \n",
      "7657                                                                                    Goats milk   \n",
      "7660                                         The most convienent way to store and drink goats milk   \n",
      "40540                                                                                     The milk   \n",
      "4115                                                                                   Almost five   \n",
      "130                                                                                     Not for me   \n",
      "907                                                                                       Too thin   \n",
      "538    C h i p.....c h i p.....h o o r a y....!!!!!  :  )  ( b a c k y a r d.....b a r b e c u e )   \n",
      "6417                                                                          Only if you can't...   \n",
      "7061                                                                                  Never again!   \n",
      "\n",
      "       Score  \n",
      "7691       5  \n",
      "7657       5  \n",
      "7660       5  \n",
      "40540      5  \n",
      "4115       4  \n",
      "130        2  \n",
      "907        3  \n",
      "538        5  \n",
      "6417       1  \n",
      "7061       1  \n",
      "\n",
      "                                         Summary  Score\n",
      "16651                    Good product good price      5\n",
      "30110              Good product at a good price.      5\n",
      "29118                Good price for good product      5\n",
      "13877                       Good price & product      5\n",
      "33702                    Good product good price      5\n",
      "42345  A very good product at a very good price.      5\n",
      "43205              Good product and a good price      5\n",
      "1344                    Good price, good product      5\n",
      "30050           A good price for a good product.      4\n",
      "49910                     Good product and price      4\n",
      "\n",
      "                      Summary  Score\n",
      "541       These are very good      4\n",
      "669   How this could be good?      1\n",
      "3341                Not good!      1\n",
      "3849                 Not good      1\n",
      "3860          Not good at all      1\n",
      "4742          Not good enough      2\n",
      "5143                Very good      5\n",
      "6431               Very good!      4\n",
      "5269       Good for on the go      4\n",
      "5407             Not too good      3\n",
      "\n"
     ]
    }
   ],
   "source": [
    "# evaluating random 10 samples\n",
    "for k in cupy.random.randint(low=0, high=50000, size=10):\n",
    "    print(df.loc[cupy.asnumpy(indices[k,:10]), [\"Summary\", \"Score\"]], end=\"\\n\\n\")"
   ]
  },
  {
   "cell_type": "code",
   "execution_count": null,
   "metadata": {},
   "outputs": [],
   "source": []
  }
 ],
 "metadata": {
  "kernelspec": {
   "display_name": "Python 3",
   "language": "python",
   "name": "python3"
  },
  "language_info": {
   "codemirror_mode": {
    "name": "ipython",
    "version": 3
   },
   "file_extension": ".py",
   "mimetype": "text/x-python",
   "name": "python",
   "nbconvert_exporter": "python",
   "pygments_lexer": "ipython3",
   "version": "3.7.10"
  },
  "toc": {
   "base_numbering": 1,
   "nav_menu": {},
   "number_sections": true,
   "sideBar": true,
   "skip_h1_title": false,
   "title_cell": "Table of Contents",
   "title_sidebar": "Contents",
   "toc_cell": false,
   "toc_position": {},
   "toc_section_display": true,
   "toc_window_display": false
  }
 },
 "nbformat": 4,
 "nbformat_minor": 4
}
