{
 "cells": [
  {
   "cell_type": "code",
   "execution_count": 1,
   "metadata": {},
   "outputs": [],
   "source": [
    "import warnings\n",
    "warnings.filterwarnings(\"ignore\")"
   ]
  },
  {
   "cell_type": "code",
   "execution_count": 2,
   "metadata": {},
   "outputs": [],
   "source": [
    "import sys"
   ]
  },
  {
   "cell_type": "code",
   "execution_count": 3,
   "metadata": {},
   "outputs": [],
   "source": [
    "# !pip -q install seaborn"
   ]
  },
  {
   "cell_type": "code",
   "execution_count": 4,
   "metadata": {},
   "outputs": [],
   "source": [
    "import pandas as pd\n",
    "import numpy as np\n",
    "import matplotlib.pyplot as plt\n",
    "import seaborn as sns"
   ]
  },
  {
   "cell_type": "code",
   "execution_count": 5,
   "metadata": {},
   "outputs": [
    {
     "data": {
      "text/plain": [
       "<Figure size 864x648 with 0 Axes>"
      ]
     },
     "metadata": {},
     "output_type": "display_data"
    }
   ],
   "source": [
    "_ = plt.figure(figsize=(12, 9))"
   ]
  },
  {
   "cell_type": "code",
   "execution_count": 6,
   "metadata": {},
   "outputs": [],
   "source": [
    "sns.set_style(\"darkgrid\")"
   ]
  },
  {
   "cell_type": "code",
   "execution_count": null,
   "metadata": {},
   "outputs": [],
   "source": []
  },
  {
   "cell_type": "markdown",
   "metadata": {},
   "source": [
    "## Load Data"
   ]
  },
  {
   "cell_type": "code",
   "execution_count": 7,
   "metadata": {},
   "outputs": [],
   "source": [
    "df = pd.read_csv(\"../data/raw/Reviews.csv\")"
   ]
  },
  {
   "cell_type": "code",
   "execution_count": 8,
   "metadata": {},
   "outputs": [
    {
     "data": {
      "text/plain": [
       "(568454, 10)"
      ]
     },
     "execution_count": 8,
     "metadata": {},
     "output_type": "execute_result"
    }
   ],
   "source": [
    "df.shape"
   ]
  },
  {
   "cell_type": "code",
   "execution_count": 9,
   "metadata": {},
   "outputs": [
    {
     "data": {
      "text/plain": [
       "467424856"
      ]
     },
     "execution_count": 9,
     "metadata": {},
     "output_type": "execute_result"
    }
   ],
   "source": [
    "sys.getsizeof(df)"
   ]
  },
  {
   "cell_type": "code",
   "execution_count": 10,
   "metadata": {},
   "outputs": [
    {
     "data": {
      "text/html": [
       "<div>\n",
       "<style scoped>\n",
       "    .dataframe tbody tr th:only-of-type {\n",
       "        vertical-align: middle;\n",
       "    }\n",
       "\n",
       "    .dataframe tbody tr th {\n",
       "        vertical-align: top;\n",
       "    }\n",
       "\n",
       "    .dataframe thead th {\n",
       "        text-align: right;\n",
       "    }\n",
       "</style>\n",
       "<table border=\"1\" class=\"dataframe\">\n",
       "  <thead>\n",
       "    <tr style=\"text-align: right;\">\n",
       "      <th></th>\n",
       "      <th>Id</th>\n",
       "      <th>ProductId</th>\n",
       "      <th>UserId</th>\n",
       "      <th>ProfileName</th>\n",
       "      <th>HelpfulnessNumerator</th>\n",
       "      <th>HelpfulnessDenominator</th>\n",
       "      <th>Score</th>\n",
       "      <th>Time</th>\n",
       "      <th>Summary</th>\n",
       "      <th>Text</th>\n",
       "    </tr>\n",
       "  </thead>\n",
       "  <tbody>\n",
       "    <tr>\n",
       "      <th>0</th>\n",
       "      <td>476767</td>\n",
       "      <td>B008BY7NSE</td>\n",
       "      <td>A35XEO8VRGERB9</td>\n",
       "      <td>loveit</td>\n",
       "      <td>0</td>\n",
       "      <td>0</td>\n",
       "      <td>5</td>\n",
       "      <td>1338076800</td>\n",
       "      <td>Not missing the fat at all!! LOVE IT!</td>\n",
       "      <td>I bought this as I am trying to cut out some f...</td>\n",
       "    </tr>\n",
       "    <tr>\n",
       "      <th>1</th>\n",
       "      <td>149003</td>\n",
       "      <td>B004Q3LBTG</td>\n",
       "      <td>A23L3VSN9LV9RN</td>\n",
       "      <td>mom2boys</td>\n",
       "      <td>2</td>\n",
       "      <td>2</td>\n",
       "      <td>1</td>\n",
       "      <td>1341187200</td>\n",
       "      <td>Great machine for a short amount of time - lea...</td>\n",
       "      <td>We ordered the Baby Brezza and I was excited t...</td>\n",
       "    </tr>\n",
       "    <tr>\n",
       "      <th>2</th>\n",
       "      <td>402510</td>\n",
       "      <td>B000EML7DS</td>\n",
       "      <td>A3IDV7GRSNHM5X</td>\n",
       "      <td>Noell Milota</td>\n",
       "      <td>1</td>\n",
       "      <td>2</td>\n",
       "      <td>2</td>\n",
       "      <td>1286841600</td>\n",
       "      <td>I like most low-carb snacks, but ...</td>\n",
       "      <td>These have a very odd flavor, and are WAY too ...</td>\n",
       "    </tr>\n",
       "    <tr>\n",
       "      <th>3</th>\n",
       "      <td>553105</td>\n",
       "      <td>B001E5E0TW</td>\n",
       "      <td>A2HS1RQ56EMB7V</td>\n",
       "      <td>Max Miller</td>\n",
       "      <td>1</td>\n",
       "      <td>1</td>\n",
       "      <td>5</td>\n",
       "      <td>1217721600</td>\n",
       "      <td>Good, strong coffee...</td>\n",
       "      <td>This coffee is perfect for those who enjoy a s...</td>\n",
       "    </tr>\n",
       "    <tr>\n",
       "      <th>4</th>\n",
       "      <td>543941</td>\n",
       "      <td>B006MONQMC</td>\n",
       "      <td>A1ZU55TM45Y2R8</td>\n",
       "      <td>J. Haggard</td>\n",
       "      <td>0</td>\n",
       "      <td>0</td>\n",
       "      <td>3</td>\n",
       "      <td>1339977600</td>\n",
       "      <td>It tastes like watered down fruit punch... no ...</td>\n",
       "      <td>I'm not one of those guys that likes fresh lem...</td>\n",
       "    </tr>\n",
       "  </tbody>\n",
       "</table>\n",
       "</div>"
      ],
      "text/plain": [
       "       Id   ProductId          UserId   ProfileName  HelpfulnessNumerator  \\\n",
       "0  476767  B008BY7NSE  A35XEO8VRGERB9        loveit                     0   \n",
       "1  149003  B004Q3LBTG  A23L3VSN9LV9RN      mom2boys                     2   \n",
       "2  402510  B000EML7DS  A3IDV7GRSNHM5X  Noell Milota                     1   \n",
       "3  553105  B001E5E0TW  A2HS1RQ56EMB7V    Max Miller                     1   \n",
       "4  543941  B006MONQMC  A1ZU55TM45Y2R8    J. Haggard                     0   \n",
       "\n",
       "   HelpfulnessDenominator  Score        Time  \\\n",
       "0                       0      5  1338076800   \n",
       "1                       2      1  1341187200   \n",
       "2                       2      2  1286841600   \n",
       "3                       1      5  1217721600   \n",
       "4                       0      3  1339977600   \n",
       "\n",
       "                                             Summary  \\\n",
       "0              Not missing the fat at all!! LOVE IT!   \n",
       "1  Great machine for a short amount of time - lea...   \n",
       "2               I like most low-carb snacks, but ...   \n",
       "3                             Good, strong coffee...   \n",
       "4  It tastes like watered down fruit punch... no ...   \n",
       "\n",
       "                                                Text  \n",
       "0  I bought this as I am trying to cut out some f...  \n",
       "1  We ordered the Baby Brezza and I was excited t...  \n",
       "2  These have a very odd flavor, and are WAY too ...  \n",
       "3  This coffee is perfect for those who enjoy a s...  \n",
       "4  I'm not one of those guys that likes fresh lem...  "
      ]
     },
     "execution_count": 10,
     "metadata": {},
     "output_type": "execute_result"
    }
   ],
   "source": [
    "df.sample(n=5).reset_index(drop=True)"
   ]
  },
  {
   "cell_type": "code",
   "execution_count": 11,
   "metadata": {},
   "outputs": [
    {
     "data": {
      "text/html": [
       "<div>\n",
       "<style scoped>\n",
       "    .dataframe tbody tr th:only-of-type {\n",
       "        vertical-align: middle;\n",
       "    }\n",
       "\n",
       "    .dataframe tbody tr th {\n",
       "        vertical-align: top;\n",
       "    }\n",
       "\n",
       "    .dataframe thead th {\n",
       "        text-align: right;\n",
       "    }\n",
       "</style>\n",
       "<table border=\"1\" class=\"dataframe\">\n",
       "  <thead>\n",
       "    <tr style=\"text-align: right;\">\n",
       "      <th></th>\n",
       "      <th>Id</th>\n",
       "      <th>HelpfulnessNumerator</th>\n",
       "      <th>HelpfulnessDenominator</th>\n",
       "      <th>Score</th>\n",
       "      <th>Time</th>\n",
       "    </tr>\n",
       "  </thead>\n",
       "  <tbody>\n",
       "    <tr>\n",
       "      <th>count</th>\n",
       "      <td>568454.000000</td>\n",
       "      <td>568454.000000</td>\n",
       "      <td>568454.00000</td>\n",
       "      <td>568454.000000</td>\n",
       "      <td>5.684540e+05</td>\n",
       "    </tr>\n",
       "    <tr>\n",
       "      <th>mean</th>\n",
       "      <td>284227.500000</td>\n",
       "      <td>1.743817</td>\n",
       "      <td>2.22881</td>\n",
       "      <td>4.183199</td>\n",
       "      <td>1.296257e+09</td>\n",
       "    </tr>\n",
       "    <tr>\n",
       "      <th>std</th>\n",
       "      <td>164098.679298</td>\n",
       "      <td>7.636513</td>\n",
       "      <td>8.28974</td>\n",
       "      <td>1.310436</td>\n",
       "      <td>4.804331e+07</td>\n",
       "    </tr>\n",
       "    <tr>\n",
       "      <th>min</th>\n",
       "      <td>1.000000</td>\n",
       "      <td>0.000000</td>\n",
       "      <td>0.00000</td>\n",
       "      <td>1.000000</td>\n",
       "      <td>9.393408e+08</td>\n",
       "    </tr>\n",
       "    <tr>\n",
       "      <th>25%</th>\n",
       "      <td>142114.250000</td>\n",
       "      <td>0.000000</td>\n",
       "      <td>0.00000</td>\n",
       "      <td>4.000000</td>\n",
       "      <td>1.271290e+09</td>\n",
       "    </tr>\n",
       "    <tr>\n",
       "      <th>50%</th>\n",
       "      <td>284227.500000</td>\n",
       "      <td>0.000000</td>\n",
       "      <td>1.00000</td>\n",
       "      <td>5.000000</td>\n",
       "      <td>1.311120e+09</td>\n",
       "    </tr>\n",
       "    <tr>\n",
       "      <th>75%</th>\n",
       "      <td>426340.750000</td>\n",
       "      <td>2.000000</td>\n",
       "      <td>2.00000</td>\n",
       "      <td>5.000000</td>\n",
       "      <td>1.332720e+09</td>\n",
       "    </tr>\n",
       "    <tr>\n",
       "      <th>max</th>\n",
       "      <td>568454.000000</td>\n",
       "      <td>866.000000</td>\n",
       "      <td>923.00000</td>\n",
       "      <td>5.000000</td>\n",
       "      <td>1.351210e+09</td>\n",
       "    </tr>\n",
       "  </tbody>\n",
       "</table>\n",
       "</div>"
      ],
      "text/plain": [
       "                  Id  HelpfulnessNumerator  HelpfulnessDenominator  \\\n",
       "count  568454.000000         568454.000000            568454.00000   \n",
       "mean   284227.500000              1.743817                 2.22881   \n",
       "std    164098.679298              7.636513                 8.28974   \n",
       "min         1.000000              0.000000                 0.00000   \n",
       "25%    142114.250000              0.000000                 0.00000   \n",
       "50%    284227.500000              0.000000                 1.00000   \n",
       "75%    426340.750000              2.000000                 2.00000   \n",
       "max    568454.000000            866.000000               923.00000   \n",
       "\n",
       "               Score          Time  \n",
       "count  568454.000000  5.684540e+05  \n",
       "mean        4.183199  1.296257e+09  \n",
       "std         1.310436  4.804331e+07  \n",
       "min         1.000000  9.393408e+08  \n",
       "25%         4.000000  1.271290e+09  \n",
       "50%         5.000000  1.311120e+09  \n",
       "75%         5.000000  1.332720e+09  \n",
       "max         5.000000  1.351210e+09  "
      ]
     },
     "execution_count": 11,
     "metadata": {},
     "output_type": "execute_result"
    }
   ],
   "source": [
    "df.describe()"
   ]
  },
  {
   "cell_type": "markdown",
   "metadata": {},
   "source": [
    "## Field wise Analysis"
   ]
  },
  {
   "cell_type": "markdown",
   "metadata": {},
   "source": [
    "### ProductId\n",
    "\n",
    "Unique for each different product"
   ]
  },
  {
   "cell_type": "code",
   "execution_count": 12,
   "metadata": {},
   "outputs": [
    {
     "data": {
      "text/plain": [
       "74258"
      ]
     },
     "execution_count": 12,
     "metadata": {},
     "output_type": "execute_result"
    }
   ],
   "source": [
    "df[\"ProductId\"].nunique()"
   ]
  },
  {
   "cell_type": "code",
   "execution_count": 13,
   "metadata": {},
   "outputs": [
    {
     "data": {
      "text/plain": [
       "B007JFMH8M    913\n",
       "B002QWHJOU    632\n",
       "B002QWP89S    632\n",
       "B002QWP8H0    632\n",
       "B0026RQTGE    632\n",
       "Name: ProductId, dtype: int64"
      ]
     },
     "execution_count": 13,
     "metadata": {},
     "output_type": "execute_result"
    }
   ],
   "source": [
    "df[\"ProductId\"].value_counts().head()"
   ]
  },
  {
   "cell_type": "code",
   "execution_count": 14,
   "metadata": {},
   "outputs": [
    {
     "data": {
      "text/plain": [
       "B0030N3JA2    4\n",
       "B006JQ2W6O    4\n",
       "B005DGICN8    4\n",
       "B001HNUADQ    4\n",
       "B005HGAV7O    4\n",
       "             ..\n",
       "B0000ZHYWM    1\n",
       "B001HN5O46    1\n",
       "B007JRYQ4I    1\n",
       "B005QTDV10    1\n",
       "B000LRG0KG    1\n",
       "Name: ProductId, Length: 50000, dtype: int64"
      ]
     },
     "execution_count": 14,
     "metadata": {},
     "output_type": "execute_result"
    }
   ],
   "source": [
    "df[\"ProductId\"].value_counts().tail(50000)"
   ]
  },
  {
   "cell_type": "markdown",
   "metadata": {},
   "source": [
    "### Making Sense of Data"
   ]
  },
  {
   "cell_type": "markdown",
   "metadata": {},
   "source": [
    "Check if product ids are of uniform length"
   ]
  },
  {
   "cell_type": "code",
   "execution_count": 15,
   "metadata": {},
   "outputs": [
    {
     "data": {
      "text/plain": [
       "10    568454\n",
       "Name: ProductId, dtype: int64"
      ]
     },
     "execution_count": 15,
     "metadata": {},
     "output_type": "execute_result"
    }
   ],
   "source": [
    "df[\"ProductId\"].str.len().value_counts()"
   ]
  },
  {
   "cell_type": "markdown",
   "metadata": {},
   "source": [
    "**TODO** - Implement a regex check to validate if all the product ids follow a particular pattern `B00[0-9][A-Z]*4[0-9|A-Z]*2`"
   ]
  },
  {
   "cell_type": "code",
   "execution_count": 16,
   "metadata": {},
   "outputs": [],
   "source": [
    "pd.set_option('display.max_colwidth', None)"
   ]
  },
  {
   "cell_type": "markdown",
   "metadata": {},
   "source": [
    "**Verify if the dataset contains text explicitly about food products. Here, we focus on products with single reviews**"
   ]
  },
  {
   "cell_type": "code",
   "execution_count": 17,
   "metadata": {},
   "outputs": [
    {
     "data": {
      "text/html": [
       "<div>\n",
       "<style scoped>\n",
       "    .dataframe tbody tr th:only-of-type {\n",
       "        vertical-align: middle;\n",
       "    }\n",
       "\n",
       "    .dataframe tbody tr th {\n",
       "        vertical-align: top;\n",
       "    }\n",
       "\n",
       "    .dataframe thead th {\n",
       "        text-align: right;\n",
       "    }\n",
       "</style>\n",
       "<table border=\"1\" class=\"dataframe\">\n",
       "  <thead>\n",
       "    <tr style=\"text-align: right;\">\n",
       "      <th></th>\n",
       "      <th>Text</th>\n",
       "    </tr>\n",
       "  </thead>\n",
       "  <tbody>\n",
       "    <tr>\n",
       "      <th>122627</th>\n",
       "      <td>I found them to be alittle on the hard side. but I loved the cranberries</td>\n",
       "    </tr>\n",
       "    <tr>\n",
       "      <th>164749</th>\n",
       "      <td>cant get this at my pet store any longer and it's all she'll eat. It arrived quickly and has made her very happy.</td>\n",
       "    </tr>\n",
       "    <tr>\n",
       "      <th>172107</th>\n",
       "      <td>This item shipped quickly and looked nice but it fell apart after about two weeks.  Look elsewhere for a komboloi.</td>\n",
       "    </tr>\n",
       "    <tr>\n",
       "      <th>302769</th>\n",
       "      <td>The couscous was very good.  Easy to follow directions on the container, and it turned out well.  The price is low too, which is a bonus.</td>\n",
       "    </tr>\n",
       "    <tr>\n",
       "      <th>419958</th>\n",
       "      <td>these were delicious in my kimchi fritters.  i soak the lentils for a few hours, then puree to make the batter base for the fritters.  i'm going to stock up.</td>\n",
       "    </tr>\n",
       "    <tr>\n",
       "      <th>438472</th>\n",
       "      <td>I've never done a review before so please bear with me... i live in rural wyoming, so even though this company boasted over night shipping, that means to me two days... i ordered monday feb 27 hoping for wed feb 29 delivery... and my confirmation email said delivery 29th or 30th... i was hoping for the 29th since that is our wedding anniversary... only get one every four years so it's gotta be special... low and behold their overnight delivery was truly overnight, even to my corner of the world... was glad that it was early and not late...&lt;br /&gt;&lt;br /&gt;had hubby open it up immediately because it was precious cargo... beautiful presentation for the product... thought i read where it couldn't be gift wrapped but this was beautifully gift wrapped... i know he loves it because he's a foodie, and works in the food industry world... he has been savouring every tidbit of the caviar as opposed to devouring it... thank you for your awesome product and service</td>\n",
       "    </tr>\n",
       "    <tr>\n",
       "      <th>440574</th>\n",
       "      <td>The product arrived earlier than I expected and was exactly what my husband was looking for. I would order again from this site.</td>\n",
       "    </tr>\n",
       "    <tr>\n",
       "      <th>530951</th>\n",
       "      <td>I liked this gum but the flavor didnt last as long as I thought it would</td>\n",
       "    </tr>\n",
       "    <tr>\n",
       "      <th>540775</th>\n",
       "      <td>I'm a huge fan of the Keurig but in the Summer I need my iced coffee and previously I've been using 2 k-cups, or a making a very small cup of iced coffee because I didn't want it to be watered down.  I like my coffee reasonably robust although not quite as strong as some popular coffee shops make it, and I like a big cup, 20 oz. So the small cup wasn't working out for me and using 2 k-cups meant I was plowing through my box in no time at all.  Today I discovered the Green Mountain French Vanilla Iced Coffee. I filled my 20 oz plastic cup with ice just like it said and set my Keurig to the cup size closest to 8 oz. YUMMY!!!!!!  It's exactly what I had hoped it would be. Usually even a small amount of half and half and the ice would make my coffee too light and watered down, but it didn't.  It was great, I'm hooked already and I've only had one cup.  Also in case you are wondering.  There are 2 less k-cups in the box, BUT each cup weighs  more, .60 ounces verses .45 ounces. They simply put more coffee in the iced k-cups and the result makes me really happy. Just had my last sip which has been sitting on ice while I write my review, still yummy!!!  Hope this review helps.</td>\n",
       "    </tr>\n",
       "    <tr>\n",
       "      <th>549606</th>\n",
       "      <td>Purchased this in hopes of flavoring coffee without sweetening it.I didn't find the flavor to be all that amazing but it was ok.If you made coffee with it then asked me to guess the flavor I wouldnt be able to.Maybe because I know its supposed to be macadamia nut that Im looking for the flavor and can find it?In the end I am still trying to find  good macadamia nut flavor.</td>\n",
       "    </tr>\n",
       "  </tbody>\n",
       "</table>\n",
       "</div>"
      ],
      "text/plain": [
       "                                                                                                                                                                                                                                                                                                                                                                                                                                                                                                                                                                                                                                                                                                                                                                                                                                                                                                                                                                                                                                                                                                                                                                                                                                       Text\n",
       "122627                                                                                                                                                                                                                                                                                                                                                                                                                                                                                                                                                                                                                                                                                                                                                                                                                                                                                                                                                                                                                                                                                                                                                             I found them to be alittle on the hard side. but I loved the cranberries\n",
       "164749                                                                                                                                                                                                                                                                                                                                                                                                                                                                                                                                                                                                                                                                                                                                                                                                                                                                                                                                                                                                                                                                                                                    cant get this at my pet store any longer and it's all she'll eat. It arrived quickly and has made her very happy.\n",
       "172107                                                                                                                                                                                                                                                                                                                                                                                                                                                                                                                                                                                                                                                                                                                                                                                                                                                                                                                                                                                                                                                                                                                   This item shipped quickly and looked nice but it fell apart after about two weeks.  Look elsewhere for a komboloi.\n",
       "302769                                                                                                                                                                                                                                                                                                                                                                                                                                                                                                                                                                                                                                                                                                                                                                                                                                                                                                                                                                                                                                                                                            The couscous was very good.  Easy to follow directions on the container, and it turned out well.  The price is low too, which is a bonus.\n",
       "419958                                                                                                                                                                                                                                                                                                                                                                                                                                                                                                                                                                                                                                                                                                                                                                                                                                                                                                                                                                                                                                                                        these were delicious in my kimchi fritters.  i soak the lentils for a few hours, then puree to make the batter base for the fritters.  i'm going to stock up.\n",
       "438472                                                                                                                                                                                                                                   I've never done a review before so please bear with me... i live in rural wyoming, so even though this company boasted over night shipping, that means to me two days... i ordered monday feb 27 hoping for wed feb 29 delivery... and my confirmation email said delivery 29th or 30th... i was hoping for the 29th since that is our wedding anniversary... only get one every four years so it's gotta be special... low and behold their overnight delivery was truly overnight, even to my corner of the world... was glad that it was early and not late...<br /><br />had hubby open it up immediately because it was precious cargo... beautiful presentation for the product... thought i read where it couldn't be gift wrapped but this was beautifully gift wrapped... i know he loves it because he's a foodie, and works in the food industry world... he has been savouring every tidbit of the caviar as opposed to devouring it... thank you for your awesome product and service\n",
       "440574                                                                                                                                                                                                                                                                                                                                                                                                                                                                                                                                                                                                                                                                                                                                                                                                                                                                                                                                                                                                                                                                                                     The product arrived earlier than I expected and was exactly what my husband was looking for. I would order again from this site.\n",
       "530951                                                                                                                                                                                                                                                                                                                                                                                                                                                                                                                                                                                                                                                                                                                                                                                                                                                                                                                                                                                                                                                                                                                                                             I liked this gum but the flavor didnt last as long as I thought it would\n",
       "540775  I'm a huge fan of the Keurig but in the Summer I need my iced coffee and previously I've been using 2 k-cups, or a making a very small cup of iced coffee because I didn't want it to be watered down.  I like my coffee reasonably robust although not quite as strong as some popular coffee shops make it, and I like a big cup, 20 oz. So the small cup wasn't working out for me and using 2 k-cups meant I was plowing through my box in no time at all.  Today I discovered the Green Mountain French Vanilla Iced Coffee. I filled my 20 oz plastic cup with ice just like it said and set my Keurig to the cup size closest to 8 oz. YUMMY!!!!!!  It's exactly what I had hoped it would be. Usually even a small amount of half and half and the ice would make my coffee too light and watered down, but it didn't.  It was great, I'm hooked already and I've only had one cup.  Also in case you are wondering.  There are 2 less k-cups in the box, BUT each cup weighs  more, .60 ounces verses .45 ounces. They simply put more coffee in the iced k-cups and the result makes me really happy. Just had my last sip which has been sitting on ice while I write my review, still yummy!!!  Hope this review helps.\n",
       "549606                                                                                                                                                                                                                                                                                                                                                                                                                                                                                                                                                                                                                                                                                                                                                                                                                                              Purchased this in hopes of flavoring coffee without sweetening it.I didn't find the flavor to be all that amazing but it was ok.If you made coffee with it then asked me to guess the flavor I wouldnt be able to.Maybe because I know its supposed to be macadamia nut that Im looking for the flavor and can find it?In the end I am still trying to find  good macadamia nut flavor."
      ]
     },
     "execution_count": 17,
     "metadata": {},
     "output_type": "execute_result"
    }
   ],
   "source": [
    "df.loc[df[\"ProductId\"].isin(df[\"ProductId\"].value_counts().tail(10).index.tolist())][\"Text\"].to_frame()"
   ]
  },
  {
   "cell_type": "code",
   "execution_count": 18,
   "metadata": {},
   "outputs": [
    {
     "data": {
      "text/html": [
       "<div>\n",
       "<style scoped>\n",
       "    .dataframe tbody tr th:only-of-type {\n",
       "        vertical-align: middle;\n",
       "    }\n",
       "\n",
       "    .dataframe tbody tr th {\n",
       "        vertical-align: top;\n",
       "    }\n",
       "\n",
       "    .dataframe thead th {\n",
       "        text-align: right;\n",
       "    }\n",
       "</style>\n",
       "<table border=\"1\" class=\"dataframe\">\n",
       "  <thead>\n",
       "    <tr style=\"text-align: right;\">\n",
       "      <th></th>\n",
       "      <th>Summary</th>\n",
       "    </tr>\n",
       "  </thead>\n",
       "  <tbody>\n",
       "    <tr>\n",
       "      <th>122627</th>\n",
       "      <td>raisins</td>\n",
       "    </tr>\n",
       "    <tr>\n",
       "      <th>164749</th>\n",
       "      <td>Pinnacle Cat Foo</td>\n",
       "    </tr>\n",
       "    <tr>\n",
       "      <th>172107</th>\n",
       "      <td>Poor Quality</td>\n",
       "    </tr>\n",
       "    <tr>\n",
       "      <th>302769</th>\n",
       "      <td>Good israeli couscous</td>\n",
       "    </tr>\n",
       "    <tr>\n",
       "      <th>419958</th>\n",
       "      <td>kimchi fritters</td>\n",
       "    </tr>\n",
       "    <tr>\n",
       "      <th>438472</th>\n",
       "      <td>Retailer exceeded my expectations</td>\n",
       "    </tr>\n",
       "    <tr>\n",
       "      <th>440574</th>\n",
       "      <td>wild game bags</td>\n",
       "    </tr>\n",
       "    <tr>\n",
       "      <th>530951</th>\n",
       "      <td>gum</td>\n",
       "    </tr>\n",
       "    <tr>\n",
       "      <th>540775</th>\n",
       "      <td>Iced coffe fan.</td>\n",
       "    </tr>\n",
       "    <tr>\n",
       "      <th>549606</th>\n",
       "      <td>Just ok in flavor</td>\n",
       "    </tr>\n",
       "  </tbody>\n",
       "</table>\n",
       "</div>"
      ],
      "text/plain": [
       "                                  Summary\n",
       "122627                            raisins\n",
       "164749                   Pinnacle Cat Foo\n",
       "172107                       Poor Quality\n",
       "302769              Good israeli couscous\n",
       "419958                    kimchi fritters\n",
       "438472  Retailer exceeded my expectations\n",
       "440574                     wild game bags\n",
       "530951                                gum\n",
       "540775                    Iced coffe fan.\n",
       "549606                  Just ok in flavor"
      ]
     },
     "execution_count": 18,
     "metadata": {},
     "output_type": "execute_result"
    }
   ],
   "source": [
    "df.loc[df[\"ProductId\"].isin(df[\"ProductId\"].value_counts().tail(10).index.tolist())][\"Summary\"].to_frame()"
   ]
  },
  {
   "cell_type": "markdown",
   "metadata": {},
   "source": [
    "Looks like Summary & Text are in sync & Summary is representative of the review text"
   ]
  },
  {
   "cell_type": "markdown",
   "metadata": {},
   "source": [
    "## UserId"
   ]
  },
  {
   "cell_type": "code",
   "execution_count": 19,
   "metadata": {},
   "outputs": [
    {
     "data": {
      "text/plain": [
       "count             568454\n",
       "unique            256059\n",
       "top       A3OXHLG6DIBRW8\n",
       "freq                 448\n",
       "Name: UserId, dtype: object"
      ]
     },
     "execution_count": 19,
     "metadata": {},
     "output_type": "execute_result"
    }
   ],
   "source": [
    "df[\"UserId\"].describe()"
   ]
  },
  {
   "cell_type": "markdown",
   "metadata": {},
   "source": [
    "About half of the reviewers are unique"
   ]
  },
  {
   "cell_type": "code",
   "execution_count": 20,
   "metadata": {},
   "outputs": [
    {
     "data": {
      "text/plain": [
       "A3OXHLG6DIBRW8    448\n",
       "A1YUL9PCJR3JTY    421\n",
       "AY12DBB0U420B     389\n",
       "A281NPSIMI1C2R    365\n",
       "A1Z54EM24Y40LL    256\n",
       "A1TMAVN4CEM8U8    204\n",
       "A2MUGFV2TDQ47K    201\n",
       "A3TVZM3ZIXG8YW    199\n",
       "A3PJZ8TU8FDQ1K    178\n",
       "AQQLWCMRNDFGI     176\n",
       "Name: UserId, dtype: int64"
      ]
     },
     "execution_count": 20,
     "metadata": {},
     "output_type": "execute_result"
    }
   ],
   "source": [
    "df[\"UserId\"].value_counts().head(10)"
   ]
  },
  {
   "cell_type": "code",
   "execution_count": 21,
   "metadata": {},
   "outputs": [
    {
     "data": {
      "text/plain": [
       "A1Y1KAC2PJ7M1B    2\n",
       "A25X40XDIO1UUC    2\n",
       "A21JSQVOW8PMGA    2\n",
       "A30Z47HY0H62J1    2\n",
       "A1TLZCRQ0ZYSYK    2\n",
       "                 ..\n",
       "A1UOV1B1MEBHJV    1\n",
       "A2JD4XS2LNC1IQ    1\n",
       "A1N1RW7PSK5YY3    1\n",
       "A35MMXF7Q1UYKT    1\n",
       "A3TIXFSB9JLJUZ    1\n",
       "Name: UserId, Length: 200000, dtype: int64"
      ]
     },
     "execution_count": 21,
     "metadata": {},
     "output_type": "execute_result"
    }
   ],
   "source": [
    "df[\"UserId\"].value_counts().tail(200000)"
   ]
  },
  {
   "cell_type": "markdown",
   "metadata": {},
   "source": [
    "Since about >0.2M of reviewers have a single review - it might be challenging to map their review text to scores."
   ]
  },
  {
   "cell_type": "code",
   "execution_count": 22,
   "metadata": {},
   "outputs": [
    {
     "data": {
      "text/plain": [
       "B000CQC050    4\n",
       "B000CQC05K    4\n",
       "B000CQID2Y    4\n",
       "B000CQG89Y    4\n",
       "B004OQBC8K    4\n",
       "             ..\n",
       "B003ULL816    1\n",
       "B0011X5S8Y    1\n",
       "B00472QKGU    1\n",
       "B000NU2QTU    1\n",
       "B0001M0ZTI    1\n",
       "Name: ProductId, Length: 309, dtype: int64"
      ]
     },
     "execution_count": 22,
     "metadata": {},
     "output_type": "execute_result"
    }
   ],
   "source": [
    "df.loc[df[\"UserId\"].str.strip()==\"A1YUL9PCJR3JTY\"][\"ProductId\"].value_counts()"
   ]
  },
  {
   "cell_type": "code",
   "execution_count": 23,
   "metadata": {},
   "outputs": [
    {
     "data": {
      "text/html": [
       "<div>\n",
       "<style scoped>\n",
       "    .dataframe tbody tr th:only-of-type {\n",
       "        vertical-align: middle;\n",
       "    }\n",
       "\n",
       "    .dataframe tbody tr th {\n",
       "        vertical-align: top;\n",
       "    }\n",
       "\n",
       "    .dataframe thead th {\n",
       "        text-align: right;\n",
       "    }\n",
       "</style>\n",
       "<table border=\"1\" class=\"dataframe\">\n",
       "  <thead>\n",
       "    <tr style=\"text-align: right;\">\n",
       "      <th></th>\n",
       "      <th>Text</th>\n",
       "      <th>Score</th>\n",
       "      <th>Summary</th>\n",
       "    </tr>\n",
       "  </thead>\n",
       "  <tbody>\n",
       "    <tr>\n",
       "      <th>179429</th>\n",
       "      <td>***&lt;br /&gt;Stash's Lemon Ginger Caffeine Free Herbal Tea is a basic lemon ginger tea, tasting strongly of ginger, and full of flavorings, and oddly, even contains soy. This is one of the better commercial highly processed, non-organic teas. I much prefer organic teas that are made without artificial flavorings and certainly without soy, but if you are not picky about herb teas, and are looking something very strongly flavored as an introduction to the world of teasans and decaffeinated beverages, this would be fine. If you like your tea more subtle, with true pure tastes, and can discern complex differences between natural and commercial teas, then this definitely is not for you, and I would recommend any Numi tea, Yogi Tea, Traditional Medicinals, or even Stash's organic line of teas (which comes in a wonderful Lemon Ginger Organic Tea!)&lt;br /&gt;&lt;br /&gt;Stash Lemon Ginger Tea contains ginger root, lemongrass, lemon flavor, safflower, hibiscus, citric acid, and soy.&lt;br /&gt;&lt;br /&gt;Unfortunately, nothing special.&lt;br /&gt;***</td>\n",
       "      <td>3</td>\n",
       "      <td>Basic Lemon Ginger Herbal Tea</td>\n",
       "    </tr>\n",
       "    <tr>\n",
       "      <th>179434</th>\n",
       "      <td>****&lt;br /&gt;Stash's Chamomile Caffeine Free Herbal Tea is one of their totally natural teas, containing only chamomile flowers. Although I do like this, it means that the tea is rather weak, but still a fine tea---just use two teabags. Many people will find this tea too subtle. I think that Stash's more natural teas seem to be a little mild and undistinguished, while their flavored teas are super-powerful, erring on the side of too powerful, overwhelming the tea drinker with all types of strong added flavorings. If I had to pick, I'd always take subtle, as you can make these teas, like this chamomile tea, stronger by doubling up on the bags, but you can't make the strongly flavored teas weaker!&lt;br /&gt;&lt;br /&gt;Stash Tea has been around for over 35 years, and they are moving in the direction of more organic and loose teas, more true flavors instead of added flavorings. I appreciate that their chamomile is so pure, but wish it could be a little more flavorful.&lt;br /&gt;&lt;br /&gt;Still, recommended.&lt;br /&gt;****</td>\n",
       "      <td>4</td>\n",
       "      <td>Subtle, Mild Chamomile Tea</td>\n",
       "    </tr>\n",
       "    <tr>\n",
       "      <th>179450</th>\n",
       "      <td>*****&lt;br /&gt;Stash's Licorice Spice Caffeine Free Herbal Tea has a the sweet flavor licorice teas are known for, along with several nice spices that complement the licorice in a lovely, more-subtle-than-chai way. Licorice Spice Tea contains licorice root, cinnamon, orange peel, star anise, sarsaparilla, natural vanilla flavor, natural orange flavor, natural clove flavor, natural cardamom flavor, and natural cinnamon flavor. Sweet and delicious!&lt;br /&gt;&lt;br /&gt;You don't need to add anything at all to Licorice Spice Tea, even if you normally like your tea sweetened. It is perfect just as is. It also has a very smooth taste, despite all of the flavorings. The tea bags come stamped with an expiration date, which I like, so that you can be sure the tea is fresh. The date on mine is 26 months away, so you can take your time :)&lt;br /&gt;&lt;br /&gt;Definitely recommended.&lt;br /&gt;*****</td>\n",
       "      <td>5</td>\n",
       "      <td>Sweet and Lovely Tea</td>\n",
       "    </tr>\n",
       "    <tr>\n",
       "      <th>179485</th>\n",
       "      <td>****&lt;br /&gt;Stash's Wild Raspberry Caffeine Free Herbal Tea is strong and fruity, great if you love the taste of raspberry and hibiscus, which I do. It contains hibiscus, orange peel, lemongrass, rosehips, natural raspberry flavor, licorice powder, and citric acid. The package says it also contains soy, but that makes little sense to me. It is a fine tasting herb tea.&lt;br /&gt;&lt;br /&gt;If you like a more subtle tea, you may not be crazy about Wild Raspberry. But if you like Celestial Seasonings and other commercial teas, I think that this is a good one. The reason I gave this tea four stars instead of five is that it isn't as pure as it could be (contains additives and flavorings) and I can tell. I prefer a more subtle tea. And I save five stars for the very best teas I've tried. But for those of you who like a lot of flavor, and can't taste the additives, it's just fine!&lt;br /&gt;&lt;br /&gt;Recommended.&lt;br /&gt;****</td>\n",
       "      <td>4</td>\n",
       "      <td>Hibiscus and Raspberry Delight</td>\n",
       "    </tr>\n",
       "  </tbody>\n",
       "</table>\n",
       "</div>"
      ],
      "text/plain": [
       "                                                                                                                                                                                                                                                                                                                                                                                                                                                                                                                                                                                                                                                                                                                                                                                                                                                                                                                                                                                                                                                                     Text  \\\n",
       "179429  ***<br />Stash's Lemon Ginger Caffeine Free Herbal Tea is a basic lemon ginger tea, tasting strongly of ginger, and full of flavorings, and oddly, even contains soy. This is one of the better commercial highly processed, non-organic teas. I much prefer organic teas that are made without artificial flavorings and certainly without soy, but if you are not picky about herb teas, and are looking something very strongly flavored as an introduction to the world of teasans and decaffeinated beverages, this would be fine. If you like your tea more subtle, with true pure tastes, and can discern complex differences between natural and commercial teas, then this definitely is not for you, and I would recommend any Numi tea, Yogi Tea, Traditional Medicinals, or even Stash's organic line of teas (which comes in a wonderful Lemon Ginger Organic Tea!)<br /><br />Stash Lemon Ginger Tea contains ginger root, lemongrass, lemon flavor, safflower, hibiscus, citric acid, and soy.<br /><br />Unfortunately, nothing special.<br />***   \n",
       "179434                     ****<br />Stash's Chamomile Caffeine Free Herbal Tea is one of their totally natural teas, containing only chamomile flowers. Although I do like this, it means that the tea is rather weak, but still a fine tea---just use two teabags. Many people will find this tea too subtle. I think that Stash's more natural teas seem to be a little mild and undistinguished, while their flavored teas are super-powerful, erring on the side of too powerful, overwhelming the tea drinker with all types of strong added flavorings. If I had to pick, I'd always take subtle, as you can make these teas, like this chamomile tea, stronger by doubling up on the bags, but you can't make the strongly flavored teas weaker!<br /><br />Stash Tea has been around for over 35 years, and they are moving in the direction of more organic and loose teas, more true flavors instead of added flavorings. I appreciate that their chamomile is so pure, but wish it could be a little more flavorful.<br /><br />Still, recommended.<br />****   \n",
       "179450                                                                                                                                                           *****<br />Stash's Licorice Spice Caffeine Free Herbal Tea has a the sweet flavor licorice teas are known for, along with several nice spices that complement the licorice in a lovely, more-subtle-than-chai way. Licorice Spice Tea contains licorice root, cinnamon, orange peel, star anise, sarsaparilla, natural vanilla flavor, natural orange flavor, natural clove flavor, natural cardamom flavor, and natural cinnamon flavor. Sweet and delicious!<br /><br />You don't need to add anything at all to Licorice Spice Tea, even if you normally like your tea sweetened. It is perfect just as is. It also has a very smooth taste, despite all of the flavorings. The tea bags come stamped with an expiration date, which I like, so that you can be sure the tea is fresh. The date on mine is 26 months away, so you can take your time :)<br /><br />Definitely recommended.<br />*****   \n",
       "179485                                                                                                                      ****<br />Stash's Wild Raspberry Caffeine Free Herbal Tea is strong and fruity, great if you love the taste of raspberry and hibiscus, which I do. It contains hibiscus, orange peel, lemongrass, rosehips, natural raspberry flavor, licorice powder, and citric acid. The package says it also contains soy, but that makes little sense to me. It is a fine tasting herb tea.<br /><br />If you like a more subtle tea, you may not be crazy about Wild Raspberry. But if you like Celestial Seasonings and other commercial teas, I think that this is a good one. The reason I gave this tea four stars instead of five is that it isn't as pure as it could be (contains additives and flavorings) and I can tell. I prefer a more subtle tea. And I save five stars for the very best teas I've tried. But for those of you who like a lot of flavor, and can't taste the additives, it's just fine!<br /><br />Recommended.<br />****   \n",
       "\n",
       "        Score                         Summary  \n",
       "179429      3   Basic Lemon Ginger Herbal Tea  \n",
       "179434      4      Subtle, Mild Chamomile Tea  \n",
       "179450      5            Sweet and Lovely Tea  \n",
       "179485      4  Hibiscus and Raspberry Delight  "
      ]
     },
     "execution_count": 23,
     "metadata": {},
     "output_type": "execute_result"
    }
   ],
   "source": [
    "df.loc[(df[\"UserId\"].str.strip()==\"A1YUL9PCJR3JTY\") & (df[\"ProductId\"]==\"B000CQC050\")][[\"Text\", \"Score\", \"Summary\"]]"
   ]
  },
  {
   "cell_type": "markdown",
   "metadata": {},
   "source": [
    "**For different productids a single reviewer has same review text**"
   ]
  },
  {
   "cell_type": "markdown",
   "metadata": {},
   "source": [
    "**Can use the text between last two breaks as an additional data field**"
   ]
  },
  {
   "cell_type": "markdown",
   "metadata": {},
   "source": [
    "## ProfileName"
   ]
  },
  {
   "cell_type": "code",
   "execution_count": 24,
   "metadata": {},
   "outputs": [
    {
     "data": {
      "text/plain": [
       "(213222, 256059)"
      ]
     },
     "execution_count": 24,
     "metadata": {},
     "output_type": "execute_result"
    }
   ],
   "source": [
    "df[\"ProfileName\"].str.strip().str.upper().nunique(), df[\"UserId\"].str.strip().str.upper().nunique()"
   ]
  },
  {
   "cell_type": "code",
   "execution_count": 25,
   "metadata": {},
   "outputs": [
    {
     "name": "stdout",
     "output_type": "stream",
     "text": [
      "Karl\n",
      "R. James\n",
      "LT\n",
      "Becca\n",
      "Greg\n",
      "Garrett\n",
      "Peggy\n",
      "Doug\n",
      "Chet\n",
      "Marie\n"
     ]
    }
   ],
   "source": [
    "count = 0\n",
    "\n",
    "for name in df[\"ProfileName\"].unique():\n",
    "    if df.loc[df[\"ProfileName\"]==name][\"UserId\"].nunique() > 2:\n",
    "        print(name)\n",
    "        count += 1\n",
    "    if count==10:\n",
    "        break"
   ]
  },
  {
   "cell_type": "code",
   "execution_count": 26,
   "metadata": {},
   "outputs": [
    {
     "data": {
      "text/html": [
       "<div>\n",
       "<style scoped>\n",
       "    .dataframe tbody tr th:only-of-type {\n",
       "        vertical-align: middle;\n",
       "    }\n",
       "\n",
       "    .dataframe tbody tr th {\n",
       "        vertical-align: top;\n",
       "    }\n",
       "\n",
       "    .dataframe thead th {\n",
       "        text-align: right;\n",
       "    }\n",
       "</style>\n",
       "<table border=\"1\" class=\"dataframe\">\n",
       "  <thead>\n",
       "    <tr style=\"text-align: right;\">\n",
       "      <th></th>\n",
       "      <th>ProfileName</th>\n",
       "      <th>UserId</th>\n",
       "      <th>Text</th>\n",
       "    </tr>\n",
       "  </thead>\n",
       "  <tbody>\n",
       "    <tr>\n",
       "      <th>12</th>\n",
       "      <td>LT</td>\n",
       "      <td>A327PCT23YH90</td>\n",
       "      <td>My cats have been happily eating Felidae Platinum for more than two years. I just got a new bag and the shape of the food is different. They tried the new food when I first put it in their bowls and now the bowls sit full and the kitties will not touch the food. I've noticed similar reviews related to formula changes in the past. Unfortunately, I now need to find a new food that my cats will eat.</td>\n",
       "    </tr>\n",
       "    <tr>\n",
       "      <th>64079</th>\n",
       "      <td>LT</td>\n",
       "      <td>AKSY4AKCMKXIW</td>\n",
       "      <td>I am very picky when it comes to coffee, but I've really been enjoying this product and would definitely recommend it to anyone for their choice of coffee. Very good flavor and just the right strength.</td>\n",
       "    </tr>\n",
       "    <tr>\n",
       "      <th>121009</th>\n",
       "      <td>LT</td>\n",
       "      <td>A2JZMZJ4D61RP0</td>\n",
       "      <td>Gluten Free Folks!  You will love these.  I buy them by the case.  They are a staple for me.  I do like rice cakes; but I like these much more.</td>\n",
       "    </tr>\n",
       "    <tr>\n",
       "      <th>249880</th>\n",
       "      <td>LT</td>\n",
       "      <td>A2E7AQO7EP45QB</td>\n",
       "      <td>The jerkey tasted great however I feel the cans were very underfilled. All the cans were under half full and I know its says .44 oz but good grief, two pinches and its gone. Over priced in my opinion.</td>\n",
       "    </tr>\n",
       "    <tr>\n",
       "      <th>287167</th>\n",
       "      <td>LT</td>\n",
       "      <td>A2NKIHD5MDFD0A</td>\n",
       "      <td>I use the Special K protein water mix with my daily protein drinks...it gives it an extra kick and taste great with all the favors I use; and ordering from Amazon was a breeze.  In fact, I had ordered the product and it was delivered immediately~~what service!!</td>\n",
       "    </tr>\n",
       "    <tr>\n",
       "      <th>306024</th>\n",
       "      <td>LT</td>\n",
       "      <td>A2QXOJWNPCYUWG</td>\n",
       "      <td>This product is delicious!  I got a bottle once at a little boutique store and sort of lost it in my fridge.  Well I found it again just recently after I had grilled pork chops.  Yum.  I had some with my pork chops AND on top of the baked potato.  I love the flavor and the texture.&lt;br /&gt;&lt;br /&gt;I've also had this with brie or cream cheese on crackers.  Yummmmm.  My bottle is now empty and I'm planning on looking at the grocery store tomorrow.  If they do NOT have it... I'll be back... probably buying 3 bottles.</td>\n",
       "    </tr>\n",
       "    <tr>\n",
       "      <th>315946</th>\n",
       "      <td>LT</td>\n",
       "      <td>A2JYPA4AL8ICG7</td>\n",
       "      <td>The item was advertised as having no MSG, there is a sticker attached to the package that says no MSG, however the original blue package lists monosodium glutamate (which is MSG!) as ingredient.</td>\n",
       "    </tr>\n",
       "    <tr>\n",
       "      <th>324824</th>\n",
       "      <td>LT</td>\n",
       "      <td>A3BWHISEIKAUCY</td>\n",
       "      <td>For those of you who like Indian food, and do not know how to cook it, or want to spend the time preparing the cuisine, these are a good way to get a decent meal on the table in the time it takes to make rice.  Though not as great tasting as the Real Deal, they are okay.  Our son is at college, living in an apartment, so makes a lot of his own meals.  He loves these as he knows he can have a meal on the table in 20 minutes.  These are also a good way to introduce those who have never had real Indian cuisine, since most are not that spicy/hot.  Buying an individual pouch can be expensive, but once you find ones you like, buy a case.  They keep forever in the pantry.</td>\n",
       "    </tr>\n",
       "    <tr>\n",
       "      <th>367646</th>\n",
       "      <td>LT</td>\n",
       "      <td>A3PPSOC2489H9N</td>\n",
       "      <td>This product works great on my hair as a hot oil treatment and conditioner.  It is also great for skin care and is gentle enough for children.</td>\n",
       "    </tr>\n",
       "    <tr>\n",
       "      <th>385749</th>\n",
       "      <td>LT</td>\n",
       "      <td>A2W911E5RJHZ02</td>\n",
       "      <td>One fizzie for 6 oz. of water is about right.  If you use a big glass, use more fizzies.&lt;br /&gt;&lt;br /&gt;It does have the artificial sweetener taste to it, but our kids love this stuff.  I bought them years ago, and they have asked for them regularly ever since.  The place I bought them no longer carries them and it FINALLy occured to me to check Amazon, and here they are!&lt;br /&gt;&lt;br /&gt;The biggest problem your kids will have is waiting for the fizzie to finish fizzing before drinking it to get the full flavor.  They will want to drink it while it is still fizzing.  That's how kids are.&lt;br /&gt;&lt;br /&gt;You would buy this instead of some other kid drink because, well, it fizzes and makes itself!  That's the fun of it.&lt;br /&gt;&lt;br /&gt;You get 6 boxes with 12 fizzies in each box.  Each fizzie is individually wrapped.&lt;br /&gt;&lt;br /&gt;Orange does seem to be the best working flavor.</td>\n",
       "    </tr>\n",
       "    <tr>\n",
       "      <th>413478</th>\n",
       "      <td>LT</td>\n",
       "      <td>A2FPEK8YNULOM6</td>\n",
       "      <td>I have clothing moths.I bought 5 boxes of this product and put it in my closets, living room &amp; storage area. Not one moth has been caught. Unfortunately, I know I still have clothing. moths</td>\n",
       "    </tr>\n",
       "    <tr>\n",
       "      <th>440533</th>\n",
       "      <td>LT</td>\n",
       "      <td>A21QJG7F9E0LMQ</td>\n",
       "      <td>My dogs are a little bit picky about treats, but they absolutely loved these! In fact, one of them even snuck in the pantry and grabbed the whole bag and tried to make off with them.  It was very cute and I will definitely order these again.</td>\n",
       "    </tr>\n",
       "    <tr>\n",
       "      <th>440692</th>\n",
       "      <td>LT</td>\n",
       "      <td>A327PCT23YH90</td>\n",
       "      <td>I chose to switch my cats to Felidae after the food they'd been eating for five years was discontinued and I had trouble finding something they liked that was safe for them to eat. Felidae seems to be one of the only brands not involved in the constant pet food recalls. I did start them on the non-senior variety and then moved to this when it was time to more closely watch their weight. They are healthy and shiny with fewer hairballs than they had in the past. UPDATE (June 13, 2012): I just got a new bag of this food. The formula seems to have changed (indicated by a new food shape), and my cats will no longer eat it.</td>\n",
       "    </tr>\n",
       "    <tr>\n",
       "      <th>464035</th>\n",
       "      <td>LT</td>\n",
       "      <td>A21QJG7F9E0LMQ</td>\n",
       "      <td>Product arrived quickly and the treats were very fresh! Will definitely order again when the dogs run out, these treats are low cal too which is an added bonus.</td>\n",
       "    </tr>\n",
       "    <tr>\n",
       "      <th>489672</th>\n",
       "      <td>LT</td>\n",
       "      <td>A2T4HURXU05SDQ</td>\n",
       "      <td>Black Tiger was my third Coffee People flavor after trying Donut Shop and Jet Fuel. Donut Shop is a bit weak for me and Jet Fuel was too strong, so I hoped this would be the perfect strength. The strength is right on, but this flavor has an overly bitter taste that really turns me off. It is drinkable, but I think I'll be going back to Donut Shop (which is super smooth) for my next order.</td>\n",
       "    </tr>\n",
       "  </tbody>\n",
       "</table>\n",
       "</div>"
      ],
      "text/plain": [
       "       ProfileName          UserId  \\\n",
       "12              LT   A327PCT23YH90   \n",
       "64079           LT   AKSY4AKCMKXIW   \n",
       "121009          LT  A2JZMZJ4D61RP0   \n",
       "249880          LT  A2E7AQO7EP45QB   \n",
       "287167          LT  A2NKIHD5MDFD0A   \n",
       "306024          LT  A2QXOJWNPCYUWG   \n",
       "315946          LT  A2JYPA4AL8ICG7   \n",
       "324824          LT  A3BWHISEIKAUCY   \n",
       "367646          LT  A3PPSOC2489H9N   \n",
       "385749          LT  A2W911E5RJHZ02   \n",
       "413478          LT  A2FPEK8YNULOM6   \n",
       "440533          LT  A21QJG7F9E0LMQ   \n",
       "440692          LT   A327PCT23YH90   \n",
       "464035          LT  A21QJG7F9E0LMQ   \n",
       "489672          LT  A2T4HURXU05SDQ   \n",
       "\n",
       "                                                                                                                                                                                                                                                                                                                                                                                                                                                                                                                                                                                                                                                                                                                                                                                                                                                                                                      Text  \n",
       "12                                                                                                                                                                                                                                                                                                                                                                                                                                                                                         My cats have been happily eating Felidae Platinum for more than two years. I just got a new bag and the shape of the food is different. They tried the new food when I first put it in their bowls and now the bowls sit full and the kitties will not touch the food. I've noticed similar reviews related to formula changes in the past. Unfortunately, I now need to find a new food that my cats will eat.  \n",
       "64079                                                                                                                                                                                                                                                                                                                                                                                                                                                                                                                                                                                                                                                                                            I am very picky when it comes to coffee, but I've really been enjoying this product and would definitely recommend it to anyone for their choice of coffee. Very good flavor and just the right strength.  \n",
       "121009                                                                                                                                                                                                                                                                                                                                                                                                                                                                                                                                                                                                                                                                                                                                                     Gluten Free Folks!  You will love these.  I buy them by the case.  They are a staple for me.  I do like rice cakes; but I like these much more.  \n",
       "249880                                                                                                                                                                                                                                                                                                                                                                                                                                                                                                                                                                                                                                                                                            The jerkey tasted great however I feel the cans were very underfilled. All the cans were under half full and I know its says .44 oz but good grief, two pinches and its gone. Over priced in my opinion.  \n",
       "287167                                                                                                                                                                                                                                                                                                                                                                                                                                                                                                                                                                                                                               I use the Special K protein water mix with my daily protein drinks...it gives it an extra kick and taste great with all the favors I use; and ordering from Amazon was a breeze.  In fact, I had ordered the product and it was delivered immediately~~what service!!  \n",
       "306024                                                                                                                                                                                                                                                                                                                                                                  This product is delicious!  I got a bottle once at a little boutique store and sort of lost it in my fridge.  Well I found it again just recently after I had grilled pork chops.  Yum.  I had some with my pork chops AND on top of the baked potato.  I love the flavor and the texture.<br /><br />I've also had this with brie or cream cheese on crackers.  Yummmmm.  My bottle is now empty and I'm planning on looking at the grocery store tomorrow.  If they do NOT have it... I'll be back... probably buying 3 bottles.  \n",
       "315946                                                                                                                                                                                                                                                                                                                                                                                                                                                                                                                                                                                                                                                                                                  The item was advertised as having no MSG, there is a sticker attached to the package that says no MSG, however the original blue package lists monosodium glutamate (which is MSG!) as ingredient.  \n",
       "324824                                                                                                                                                                                                   For those of you who like Indian food, and do not know how to cook it, or want to spend the time preparing the cuisine, these are a good way to get a decent meal on the table in the time it takes to make rice.  Though not as great tasting as the Real Deal, they are okay.  Our son is at college, living in an apartment, so makes a lot of his own meals.  He loves these as he knows he can have a meal on the table in 20 minutes.  These are also a good way to introduce those who have never had real Indian cuisine, since most are not that spicy/hot.  Buying an individual pouch can be expensive, but once you find ones you like, buy a case.  They keep forever in the pantry.  \n",
       "367646                                                                                                                                                                                                                                                                                                                                                                                                                                                                                                                                                                                                                                                                                                                                                      This product works great on my hair as a hot oil treatment and conditioner.  It is also great for skin care and is gentle enough for children.  \n",
       "385749  One fizzie for 6 oz. of water is about right.  If you use a big glass, use more fizzies.<br /><br />It does have the artificial sweetener taste to it, but our kids love this stuff.  I bought them years ago, and they have asked for them regularly ever since.  The place I bought them no longer carries them and it FINALLy occured to me to check Amazon, and here they are!<br /><br />The biggest problem your kids will have is waiting for the fizzie to finish fizzing before drinking it to get the full flavor.  They will want to drink it while it is still fizzing.  That's how kids are.<br /><br />You would buy this instead of some other kid drink because, well, it fizzes and makes itself!  That's the fun of it.<br /><br />You get 6 boxes with 12 fizzies in each box.  Each fizzie is individually wrapped.<br /><br />Orange does seem to be the best working flavor.  \n",
       "413478                                                                                                                                                                                                                                                                                                                                                                                                                                                                                                                                                                                                                                                                                                       I have clothing moths.I bought 5 boxes of this product and put it in my closets, living room & storage area. Not one moth has been caught. Unfortunately, I know I still have clothing. moths  \n",
       "440533                                                                                                                                                                                                                                                                                                                                                                                                                                                                                                                                                                                                                                                   My dogs are a little bit picky about treats, but they absolutely loved these! In fact, one of them even snuck in the pantry and grabbed the whole bag and tried to make off with them.  It was very cute and I will definitely order these again.  \n",
       "440692                                                                                                                                                                                                                                                   I chose to switch my cats to Felidae after the food they'd been eating for five years was discontinued and I had trouble finding something they liked that was safe for them to eat. Felidae seems to be one of the only brands not involved in the constant pet food recalls. I did start them on the non-senior variety and then moved to this when it was time to more closely watch their weight. They are healthy and shiny with fewer hairballs than they had in the past. UPDATE (June 13, 2012): I just got a new bag of this food. The formula seems to have changed (indicated by a new food shape), and my cats will no longer eat it.  \n",
       "464035                                                                                                                                                                                                                                                                                                                                                                                                                                                                                                                                                                                                                                                                                                                                    Product arrived quickly and the treats were very fresh! Will definitely order again when the dogs run out, these treats are low cal too which is an added bonus.  \n",
       "489672                                                                                                                                                                                                                                                                                                                                                                                                                                                                                             Black Tiger was my third Coffee People flavor after trying Donut Shop and Jet Fuel. Donut Shop is a bit weak for me and Jet Fuel was too strong, so I hoped this would be the perfect strength. The strength is right on, but this flavor has an overly bitter taste that really turns me off. It is drinkable, but I think I'll be going back to Donut Shop (which is super smooth) for my next order.  "
      ]
     },
     "execution_count": 26,
     "metadata": {},
     "output_type": "execute_result"
    }
   ],
   "source": [
    "df.loc[df[\"ProfileName\"].str.strip()==\"LT\"][[\"ProfileName\", \"UserId\", \"Text\"]]"
   ]
  },
  {
   "cell_type": "markdown",
   "metadata": {},
   "source": [
    "**Some profilenames have >1 UserIds - possibly because `ProfileName` field captures just the first name & these are very common names**\n",
    "\n",
    "> Text can still be used & are unique"
   ]
  },
  {
   "cell_type": "markdown",
   "metadata": {},
   "source": [
    "## HelpfulnessNumerator & HelpfulnessDenominator"
   ]
  },
  {
   "cell_type": "code",
   "execution_count": 27,
   "metadata": {},
   "outputs": [
    {
     "data": {
      "text/html": [
       "<div>\n",
       "<style scoped>\n",
       "    .dataframe tbody tr th:only-of-type {\n",
       "        vertical-align: middle;\n",
       "    }\n",
       "\n",
       "    .dataframe tbody tr th {\n",
       "        vertical-align: top;\n",
       "    }\n",
       "\n",
       "    .dataframe thead th {\n",
       "        text-align: right;\n",
       "    }\n",
       "</style>\n",
       "<table border=\"1\" class=\"dataframe\">\n",
       "  <thead>\n",
       "    <tr style=\"text-align: right;\">\n",
       "      <th></th>\n",
       "      <th>HelpfulnessNumerator</th>\n",
       "      <th>HelpfulnessDenominator</th>\n",
       "    </tr>\n",
       "  </thead>\n",
       "  <tbody>\n",
       "    <tr>\n",
       "      <th>count</th>\n",
       "      <td>568454.000000</td>\n",
       "      <td>568454.00000</td>\n",
       "    </tr>\n",
       "    <tr>\n",
       "      <th>mean</th>\n",
       "      <td>1.743817</td>\n",
       "      <td>2.22881</td>\n",
       "    </tr>\n",
       "    <tr>\n",
       "      <th>std</th>\n",
       "      <td>7.636513</td>\n",
       "      <td>8.28974</td>\n",
       "    </tr>\n",
       "    <tr>\n",
       "      <th>min</th>\n",
       "      <td>0.000000</td>\n",
       "      <td>0.00000</td>\n",
       "    </tr>\n",
       "    <tr>\n",
       "      <th>25%</th>\n",
       "      <td>0.000000</td>\n",
       "      <td>0.00000</td>\n",
       "    </tr>\n",
       "    <tr>\n",
       "      <th>50%</th>\n",
       "      <td>0.000000</td>\n",
       "      <td>1.00000</td>\n",
       "    </tr>\n",
       "    <tr>\n",
       "      <th>75%</th>\n",
       "      <td>2.000000</td>\n",
       "      <td>2.00000</td>\n",
       "    </tr>\n",
       "    <tr>\n",
       "      <th>max</th>\n",
       "      <td>866.000000</td>\n",
       "      <td>923.00000</td>\n",
       "    </tr>\n",
       "  </tbody>\n",
       "</table>\n",
       "</div>"
      ],
      "text/plain": [
       "       HelpfulnessNumerator  HelpfulnessDenominator\n",
       "count         568454.000000            568454.00000\n",
       "mean               1.743817                 2.22881\n",
       "std                7.636513                 8.28974\n",
       "min                0.000000                 0.00000\n",
       "25%                0.000000                 0.00000\n",
       "50%                0.000000                 1.00000\n",
       "75%                2.000000                 2.00000\n",
       "max              866.000000               923.00000"
      ]
     },
     "execution_count": 27,
     "metadata": {},
     "output_type": "execute_result"
    }
   ],
   "source": [
    "df[[\"HelpfulnessNumerator\", \"HelpfulnessDenominator\"]].describe()"
   ]
  },
  {
   "cell_type": "code",
   "execution_count": 28,
   "metadata": {},
   "outputs": [
    {
     "data": {
      "text/plain": [
       "0     303826\n",
       "1     116467\n",
       "2      53727\n",
       "3      29007\n",
       "4      16963\n",
       "5      11462\n",
       "6       7387\n",
       "7       5402\n",
       "8       3887\n",
       "9       3082\n",
       "10      2453\n",
       "11      2012\n",
       "12      1627\n",
       "13      1185\n",
       "14      1009\n",
       "Name: HelpfulnessNumerator, dtype: int64"
      ]
     },
     "execution_count": 28,
     "metadata": {},
     "output_type": "execute_result"
    }
   ],
   "source": [
    "df[\"HelpfulnessNumerator\"].value_counts().head(15)"
   ]
  },
  {
   "cell_type": "code",
   "execution_count": 29,
   "metadata": {},
   "outputs": [
    {
     "data": {
      "text/plain": [
       "<AxesSubplot:ylabel='Frequency'>"
      ]
     },
     "execution_count": 29,
     "metadata": {},
     "output_type": "execute_result"
    },
    {
     "data": {
      "image/png": "[encoded data removed]",
      "text/plain": [
       "<Figure size 432x288 with 1 Axes>"
      ]
     },
     "metadata": {},
     "output_type": "display_data"
    }
   ],
   "source": [
    "df[\"HelpfulnessNumerator\"].plot(kind=\"hist\")"
   ]
  },
  {
   "cell_type": "markdown",
   "metadata": {},
   "source": [
    "HelpfulnessNumerator - Upvote"
   ]
  },
  {
   "cell_type": "code",
   "execution_count": 30,
   "metadata": {},
   "outputs": [
    {
     "data": {
      "text/plain": [
       "0     270052\n",
       "1     112753\n",
       "2      61482\n",
       "3      34394\n",
       "4      22306\n",
       "5      14824\n",
       "6      10378\n",
       "7       7461\n",
       "8       5416\n",
       "9       4406\n",
       "10      3519\n",
       "11      2975\n",
       "12      2282\n",
       "13      1854\n",
       "14      1567\n",
       "Name: HelpfulnessDenominator, dtype: int64"
      ]
     },
     "execution_count": 30,
     "metadata": {},
     "output_type": "execute_result"
    }
   ],
   "source": [
    "df[\"HelpfulnessDenominator\"].value_counts().head(15)"
   ]
  },
  {
   "cell_type": "code",
   "execution_count": 31,
   "metadata": {},
   "outputs": [
    {
     "data": {
      "text/plain": [
       "2"
      ]
     },
     "execution_count": 31,
     "metadata": {},
     "output_type": "execute_result"
    }
   ],
   "source": [
    "df.loc[df[\"HelpfulnessNumerator\"]>df[\"HelpfulnessDenominator\"]].shape[0]"
   ]
  },
  {
   "cell_type": "code",
   "execution_count": 32,
   "metadata": {},
   "outputs": [
    {
     "data": {
      "text/plain": [
       "115091"
      ]
     },
     "execution_count": 32,
     "metadata": {},
     "output_type": "execute_result"
    }
   ],
   "source": [
    "df.loc[df[\"HelpfulnessNumerator\"]<df[\"HelpfulnessDenominator\"]].shape[0]"
   ]
  },
  {
   "cell_type": "code",
   "execution_count": 33,
   "metadata": {},
   "outputs": [],
   "source": [
    "diff = df[\"HelpfulnessDenominator\"] - df[\"HelpfulnessNumerator\"]"
   ]
  },
  {
   "cell_type": "code",
   "execution_count": 34,
   "metadata": {},
   "outputs": [
    {
     "data": {
      "text/plain": [
       "count    568454.000000\n",
       "mean          0.484993\n",
       "std           1.905591\n",
       "min          -2.000000\n",
       "25%           0.000000\n",
       "50%           0.000000\n",
       "75%           0.000000\n",
       "max         140.000000\n",
       "dtype: float64"
      ]
     },
     "execution_count": 34,
     "metadata": {},
     "output_type": "execute_result"
    }
   ],
   "source": [
    "diff.describe()"
   ]
  },
  {
   "cell_type": "code",
   "execution_count": 35,
   "metadata": {},
   "outputs": [
    {
     "data": {
      "image/png": "[encoded data removed]",
      "text/plain": [
       "<Figure size 432x288 with 1 Axes>"
      ]
     },
     "metadata": {},
     "output_type": "display_data"
    }
   ],
   "source": [
    "_ = diff.plot(kind=\"hist\")"
   ]
  },
  {
   "cell_type": "markdown",
   "metadata": {},
   "source": [
    "## Score"
   ]
  },
  {
   "cell_type": "code",
   "execution_count": 36,
   "metadata": {},
   "outputs": [
    {
     "data": {
      "text/plain": [
       "5    363122\n",
       "4     80655\n",
       "1     52268\n",
       "3     42640\n",
       "2     29769\n",
       "Name: Score, dtype: int64"
      ]
     },
     "execution_count": 36,
     "metadata": {},
     "output_type": "execute_result"
    }
   ],
   "source": [
    "df[\"Score\"].value_counts()"
   ]
  },
  {
   "cell_type": "markdown",
   "metadata": {},
   "source": [
    "Categorisation -\n",
    "\n",
    "* Scores 1 & 2 - Negative\n",
    "* Scores 4 & 5 - Positive"
   ]
  },
  {
   "cell_type": "code",
   "execution_count": 37,
   "metadata": {},
   "outputs": [],
   "source": [
    "df.loc[df[\"Score\"].isin([1, 2]), \"Class\"] = \"Negative\"\n",
    "df.loc[df[\"Score\"].isin([4, 5]), \"Class\"] = \"Positive\""
   ]
  },
  {
   "cell_type": "code",
   "execution_count": 38,
   "metadata": {},
   "outputs": [],
   "source": [
    "df = df.loc[df[\"Score\"].isin([1,2,4,5])]"
   ]
  },
  {
   "cell_type": "code",
   "execution_count": 39,
   "metadata": {},
   "outputs": [
    {
     "data": {
      "text/plain": [
       "(525814, 11)"
      ]
     },
     "execution_count": 39,
     "metadata": {},
     "output_type": "execute_result"
    }
   ],
   "source": [
    "df.shape"
   ]
  },
  {
   "cell_type": "code",
   "execution_count": 40,
   "metadata": {},
   "outputs": [],
   "source": [
    "df = df.drop(columns=[\"Score\"])"
   ]
  },
  {
   "cell_type": "markdown",
   "metadata": {},
   "source": [
    "**Depending upon Business requirement we have currently converted it to a binary classification. We can switch back to scoring based system anytime back**"
   ]
  },
  {
   "cell_type": "code",
   "execution_count": 41,
   "metadata": {},
   "outputs": [
    {
     "data": {
      "text/plain": [
       "Positive    443777\n",
       "Negative     82037\n",
       "Name: Class, dtype: int64"
      ]
     },
     "execution_count": 41,
     "metadata": {},
     "output_type": "execute_result"
    }
   ],
   "source": [
    "df[\"Class\"].value_counts()"
   ]
  },
  {
   "cell_type": "markdown",
   "metadata": {},
   "source": [
    "> Not Imbalanced neither balanced"
   ]
  },
  {
   "cell_type": "markdown",
   "metadata": {},
   "source": [
    "**Solutions for handling imbalance**\n",
    "- SMOTE\n",
    "- Undersampling\n",
    "- Oversampling\n",
    "\n",
    "https://towardsdatascience.com/metrics-to-evaluate-your-machine-learning-algorithm-f10ba6e38234"
   ]
  },
  {
   "cell_type": "markdown",
   "metadata": {},
   "source": [
    "## Summary"
   ]
  },
  {
   "cell_type": "code",
   "execution_count": 42,
   "metadata": {},
   "outputs": [
    {
     "data": {
      "text/plain": [
       "25"
      ]
     },
     "execution_count": 42,
     "metadata": {},
     "output_type": "execute_result"
    }
   ],
   "source": [
    "df[\"Summary\"].isna().sum()"
   ]
  },
  {
   "cell_type": "code",
   "execution_count": 43,
   "metadata": {},
   "outputs": [
    {
     "data": {
      "text/plain": [
       "(525814, 10)"
      ]
     },
     "execution_count": 43,
     "metadata": {},
     "output_type": "execute_result"
    }
   ],
   "source": [
    "df.shape"
   ]
  },
  {
   "cell_type": "markdown",
   "metadata": {},
   "source": [
    "**Ignored cases where Summary is NaN & text is duplicated**"
   ]
  },
  {
   "cell_type": "code",
   "execution_count": 50,
   "metadata": {
    "scrolled": true
   },
   "outputs": [
    {
     "data": {
      "text/html": [
       "<div>\n",
       "<style scoped>\n",
       "    .dataframe tbody tr th:only-of-type {\n",
       "        vertical-align: middle;\n",
       "    }\n",
       "\n",
       "    .dataframe tbody tr th {\n",
       "        vertical-align: top;\n",
       "    }\n",
       "\n",
       "    .dataframe thead th {\n",
       "        text-align: right;\n",
       "    }\n",
       "</style>\n",
       "<table border=\"1\" class=\"dataframe\">\n",
       "  <thead>\n",
       "    <tr style=\"text-align: right;\">\n",
       "      <th></th>\n",
       "      <th>Id</th>\n",
       "      <th>ProductId</th>\n",
       "      <th>UserId</th>\n",
       "      <th>ProfileName</th>\n",
       "      <th>HelpfulnessNumerator</th>\n",
       "      <th>HelpfulnessDenominator</th>\n",
       "      <th>Time</th>\n",
       "      <th>Summary</th>\n",
       "      <th>Text</th>\n",
       "      <th>Class</th>\n",
       "    </tr>\n",
       "  </thead>\n",
       "  <tbody>\n",
       "    <tr>\n",
       "      <th>33958</th>\n",
       "      <td>33959</td>\n",
       "      <td>B00412W76S</td>\n",
       "      <td>A3TJPSWY2HE4BS</td>\n",
       "      <td>S. Layton \"homeschool blogger\"</td>\n",
       "      <td>1</td>\n",
       "      <td>24</td>\n",
       "      <td>1173312000</td>\n",
       "      <td>NaN</td>\n",
       "      <td>I only used two maybe three tea bags and got pregnant - can not drink during pregnancy.  Not a bad taste, but I'm not a big tea fan either.</td>\n",
       "      <td>Negative</td>\n",
       "    </tr>\n",
       "    <tr>\n",
       "      <th>40548</th>\n",
       "      <td>40549</td>\n",
       "      <td>B00020HHRW</td>\n",
       "      <td>A3TJPSWY2HE4BS</td>\n",
       "      <td>S. Layton \"homeschool blogger\"</td>\n",
       "      <td>1</td>\n",
       "      <td>24</td>\n",
       "      <td>1173312000</td>\n",
       "      <td>NaN</td>\n",
       "      <td>I only used two maybe three tea bags and got pregnant - can not drink during pregnancy.  Not a bad taste, but I'm not a big tea fan either.</td>\n",
       "      <td>Negative</td>\n",
       "    </tr>\n",
       "    <tr>\n",
       "      <th>101106</th>\n",
       "      <td>101107</td>\n",
       "      <td>B0014B0HWK</td>\n",
       "      <td>A3TJPSWY2HE4BS</td>\n",
       "      <td>S. Layton \"homeschool blogger\"</td>\n",
       "      <td>1</td>\n",
       "      <td>24</td>\n",
       "      <td>1173312000</td>\n",
       "      <td>NaN</td>\n",
       "      <td>I only used two maybe three tea bags and got pregnant - can not drink during pregnancy.  Not a bad taste, but I'm not a big tea fan either.</td>\n",
       "      <td>Negative</td>\n",
       "    </tr>\n",
       "    <tr>\n",
       "      <th>102979</th>\n",
       "      <td>102980</td>\n",
       "      <td>B000FVDWU4</td>\n",
       "      <td>A3TJPSWY2HE4BS</td>\n",
       "      <td>S. Layton \"homeschool blogger\"</td>\n",
       "      <td>1</td>\n",
       "      <td>24</td>\n",
       "      <td>1173312000</td>\n",
       "      <td>NaN</td>\n",
       "      <td>I only used two maybe three tea bags and got pregnant - can not drink during pregnancy.  Not a bad taste, but I'm not a big tea fan either.</td>\n",
       "      <td>Negative</td>\n",
       "    </tr>\n",
       "    <tr>\n",
       "      <th>117515</th>\n",
       "      <td>117516</td>\n",
       "      <td>B0016B7Z32</td>\n",
       "      <td>A3TJPSWY2HE4BS</td>\n",
       "      <td>S. Layton \"homeschool blogger\"</td>\n",
       "      <td>1</td>\n",
       "      <td>24</td>\n",
       "      <td>1173312000</td>\n",
       "      <td>NaN</td>\n",
       "      <td>I only used two maybe three tea bags and got pregnant - can not drink during pregnancy.  Not a bad taste, but I'm not a big tea fan either.</td>\n",
       "      <td>Negative</td>\n",
       "    </tr>\n",
       "    <tr>\n",
       "      <th>155712</th>\n",
       "      <td>155713</td>\n",
       "      <td>B0009VO58S</td>\n",
       "      <td>A3TJPSWY2HE4BS</td>\n",
       "      <td>S. Layton \"homeschool blogger\"</td>\n",
       "      <td>1</td>\n",
       "      <td>24</td>\n",
       "      <td>1173312000</td>\n",
       "      <td>NaN</td>\n",
       "      <td>I only used two maybe three tea bags and got pregnant - can not drink during pregnancy.  Not a bad taste, but I'm not a big tea fan either.</td>\n",
       "      <td>Negative</td>\n",
       "    </tr>\n",
       "    <tr>\n",
       "      <th>178290</th>\n",
       "      <td>178291</td>\n",
       "      <td>B00073IVAQ</td>\n",
       "      <td>A3TJPSWY2HE4BS</td>\n",
       "      <td>S. Layton \"homeschool blogger\"</td>\n",
       "      <td>1</td>\n",
       "      <td>24</td>\n",
       "      <td>1173312000</td>\n",
       "      <td>NaN</td>\n",
       "      <td>I only used two maybe three tea bags and got pregnant - can not drink during pregnancy.  Not a bad taste, but I'm not a big tea fan either.</td>\n",
       "      <td>Negative</td>\n",
       "    </tr>\n",
       "    <tr>\n",
       "      <th>198474</th>\n",
       "      <td>198475</td>\n",
       "      <td>B000FVBYCW</td>\n",
       "      <td>A3TJPSWY2HE4BS</td>\n",
       "      <td>S. Layton \"homeschool blogger\"</td>\n",
       "      <td>1</td>\n",
       "      <td>24</td>\n",
       "      <td>1173312000</td>\n",
       "      <td>NaN</td>\n",
       "      <td>I only used two maybe three tea bags and got pregnant - can not drink during pregnancy.  Not a bad taste, but I'm not a big tea fan either.</td>\n",
       "      <td>Negative</td>\n",
       "    </tr>\n",
       "    <tr>\n",
       "      <th>212691</th>\n",
       "      <td>212692</td>\n",
       "      <td>B00020HHAO</td>\n",
       "      <td>A3TJPSWY2HE4BS</td>\n",
       "      <td>S. Layton \"homeschool blogger\"</td>\n",
       "      <td>1</td>\n",
       "      <td>24</td>\n",
       "      <td>1173312000</td>\n",
       "      <td>NaN</td>\n",
       "      <td>I only used two maybe three tea bags and got pregnant - can not drink during pregnancy.  Not a bad taste, but I'm not a big tea fan either.</td>\n",
       "      <td>Negative</td>\n",
       "    </tr>\n",
       "    <tr>\n",
       "      <th>293906</th>\n",
       "      <td>293907</td>\n",
       "      <td>B00020HHM2</td>\n",
       "      <td>A3TJPSWY2HE4BS</td>\n",
       "      <td>S. Layton \"homeschool blogger\"</td>\n",
       "      <td>1</td>\n",
       "      <td>24</td>\n",
       "      <td>1173312000</td>\n",
       "      <td>NaN</td>\n",
       "      <td>I only used two maybe three tea bags and got pregnant - can not drink during pregnancy.  Not a bad taste, but I'm not a big tea fan either.</td>\n",
       "      <td>Negative</td>\n",
       "    </tr>\n",
       "    <tr>\n",
       "      <th>299495</th>\n",
       "      <td>299496</td>\n",
       "      <td>B00142BX68</td>\n",
       "      <td>A3TJPSWY2HE4BS</td>\n",
       "      <td>S. Layton \"homeschool blogger\"</td>\n",
       "      <td>1</td>\n",
       "      <td>24</td>\n",
       "      <td>1173312000</td>\n",
       "      <td>NaN</td>\n",
       "      <td>I only used two maybe three tea bags and got pregnant - can not drink during pregnancy.  Not a bad taste, but I'm not a big tea fan either.</td>\n",
       "      <td>Negative</td>\n",
       "    </tr>\n",
       "    <tr>\n",
       "      <th>300961</th>\n",
       "      <td>300962</td>\n",
       "      <td>B000VJYTZM</td>\n",
       "      <td>A3TJPSWY2HE4BS</td>\n",
       "      <td>S. Layton \"homeschool blogger\"</td>\n",
       "      <td>1</td>\n",
       "      <td>24</td>\n",
       "      <td>1173312000</td>\n",
       "      <td>NaN</td>\n",
       "      <td>I only used two maybe three tea bags and got pregnant - can not drink during pregnancy.  Not a bad taste, but I'm not a big tea fan either.</td>\n",
       "      <td>Negative</td>\n",
       "    </tr>\n",
       "    <tr>\n",
       "      <th>333556</th>\n",
       "      <td>333557</td>\n",
       "      <td>B00188S3PM</td>\n",
       "      <td>A3TJPSWY2HE4BS</td>\n",
       "      <td>S. Layton \"homeschool blogger\"</td>\n",
       "      <td>1</td>\n",
       "      <td>24</td>\n",
       "      <td>1173312000</td>\n",
       "      <td>NaN</td>\n",
       "      <td>I only used two maybe three tea bags and got pregnant - can not drink during pregnancy.  Not a bad taste, but I'm not a big tea fan either.</td>\n",
       "      <td>Negative</td>\n",
       "    </tr>\n",
       "    <tr>\n",
       "      <th>352043</th>\n",
       "      <td>352044</td>\n",
       "      <td>B000M0F58U</td>\n",
       "      <td>A3TJPSWY2HE4BS</td>\n",
       "      <td>S. Layton \"homeschool blogger\"</td>\n",
       "      <td>1</td>\n",
       "      <td>24</td>\n",
       "      <td>1173312000</td>\n",
       "      <td>NaN</td>\n",
       "      <td>I only used two maybe three tea bags and got pregnant - can not drink during pregnancy.  Not a bad taste, but I'm not a big tea fan either.</td>\n",
       "      <td>Negative</td>\n",
       "    </tr>\n",
       "    <tr>\n",
       "      <th>357215</th>\n",
       "      <td>357216</td>\n",
       "      <td>B0006I5M2M</td>\n",
       "      <td>A3TJPSWY2HE4BS</td>\n",
       "      <td>S. Layton \"homeschool blogger\"</td>\n",
       "      <td>1</td>\n",
       "      <td>24</td>\n",
       "      <td>1173312000</td>\n",
       "      <td>NaN</td>\n",
       "      <td>I only used two maybe three tea bags and got pregnant - can not drink during pregnancy.  Not a bad taste, but I'm not a big tea fan either.</td>\n",
       "      <td>Negative</td>\n",
       "    </tr>\n",
       "    <tr>\n",
       "      <th>357814</th>\n",
       "      <td>357815</td>\n",
       "      <td>B001GCTTRQ</td>\n",
       "      <td>A3TJPSWY2HE4BS</td>\n",
       "      <td>S. Layton \"homeschool blogger\"</td>\n",
       "      <td>1</td>\n",
       "      <td>24</td>\n",
       "      <td>1173312000</td>\n",
       "      <td>NaN</td>\n",
       "      <td>I only used two maybe three tea bags and got pregnant - can not drink during pregnancy.  Not a bad taste, but I'm not a big tea fan either.</td>\n",
       "      <td>Negative</td>\n",
       "    </tr>\n",
       "    <tr>\n",
       "      <th>360782</th>\n",
       "      <td>360783</td>\n",
       "      <td>B00020HHHC</td>\n",
       "      <td>A3TJPSWY2HE4BS</td>\n",
       "      <td>S. Layton \"homeschool blogger\"</td>\n",
       "      <td>1</td>\n",
       "      <td>24</td>\n",
       "      <td>1173312000</td>\n",
       "      <td>NaN</td>\n",
       "      <td>I only used two maybe three tea bags and got pregnant - can not drink during pregnancy.  Not a bad taste, but I'm not a big tea fan either.</td>\n",
       "      <td>Negative</td>\n",
       "    </tr>\n",
       "    <tr>\n",
       "      <th>379473</th>\n",
       "      <td>379474</td>\n",
       "      <td>B007RLRCLK</td>\n",
       "      <td>A3TJPSWY2HE4BS</td>\n",
       "      <td>S. Layton \"homeschool blogger\"</td>\n",
       "      <td>1</td>\n",
       "      <td>24</td>\n",
       "      <td>1173312000</td>\n",
       "      <td>NaN</td>\n",
       "      <td>I only used two maybe three tea bags and got pregnant - can not drink during pregnancy.  Not a bad taste, but I'm not a big tea fan either.</td>\n",
       "      <td>Negative</td>\n",
       "    </tr>\n",
       "    <tr>\n",
       "      <th>380558</th>\n",
       "      <td>380559</td>\n",
       "      <td>B00014DXCC</td>\n",
       "      <td>A3TJPSWY2HE4BS</td>\n",
       "      <td>S. Layton \"homeschool blogger\"</td>\n",
       "      <td>1</td>\n",
       "      <td>24</td>\n",
       "      <td>1173312000</td>\n",
       "      <td>NaN</td>\n",
       "      <td>I only used two maybe three tea bags and got pregnant - can not drink during pregnancy.  Not a bad taste, but I'm not a big tea fan either.</td>\n",
       "      <td>Negative</td>\n",
       "    </tr>\n",
       "    <tr>\n",
       "      <th>381313</th>\n",
       "      <td>381314</td>\n",
       "      <td>B00020HHK4</td>\n",
       "      <td>A3TJPSWY2HE4BS</td>\n",
       "      <td>S. Layton \"homeschool blogger\"</td>\n",
       "      <td>1</td>\n",
       "      <td>24</td>\n",
       "      <td>1173312000</td>\n",
       "      <td>NaN</td>\n",
       "      <td>I only used two maybe three tea bags and got pregnant - can not drink during pregnancy.  Not a bad taste, but I'm not a big tea fan either.</td>\n",
       "      <td>Negative</td>\n",
       "    </tr>\n",
       "    <tr>\n",
       "      <th>386283</th>\n",
       "      <td>386284</td>\n",
       "      <td>B00073JVFU</td>\n",
       "      <td>A3TJPSWY2HE4BS</td>\n",
       "      <td>S. Layton \"homeschool blogger\"</td>\n",
       "      <td>1</td>\n",
       "      <td>24</td>\n",
       "      <td>1173312000</td>\n",
       "      <td>NaN</td>\n",
       "      <td>I only used two maybe three tea bags and got pregnant - can not drink during pregnancy.  Not a bad taste, but I'm not a big tea fan either.</td>\n",
       "      <td>Negative</td>\n",
       "    </tr>\n",
       "    <tr>\n",
       "      <th>484367</th>\n",
       "      <td>484368</td>\n",
       "      <td>B00020HHGS</td>\n",
       "      <td>A3TJPSWY2HE4BS</td>\n",
       "      <td>S. Layton \"homeschool blogger\"</td>\n",
       "      <td>1</td>\n",
       "      <td>24</td>\n",
       "      <td>1173312000</td>\n",
       "      <td>NaN</td>\n",
       "      <td>I only used two maybe three tea bags and got pregnant - can not drink during pregnancy.  Not a bad taste, but I'm not a big tea fan either.</td>\n",
       "      <td>Negative</td>\n",
       "    </tr>\n",
       "    <tr>\n",
       "      <th>486640</th>\n",
       "      <td>486641</td>\n",
       "      <td>B0014AUJII</td>\n",
       "      <td>A3TJPSWY2HE4BS</td>\n",
       "      <td>S. Layton \"homeschool blogger\"</td>\n",
       "      <td>1</td>\n",
       "      <td>24</td>\n",
       "      <td>1173312000</td>\n",
       "      <td>NaN</td>\n",
       "      <td>I only used two maybe three tea bags and got pregnant - can not drink during pregnancy.  Not a bad taste, but I'm not a big tea fan either.</td>\n",
       "      <td>Negative</td>\n",
       "    </tr>\n",
       "    <tr>\n",
       "      <th>503260</th>\n",
       "      <td>503261</td>\n",
       "      <td>B00020HHE0</td>\n",
       "      <td>A3TJPSWY2HE4BS</td>\n",
       "      <td>S. Layton \"homeschool blogger\"</td>\n",
       "      <td>1</td>\n",
       "      <td>24</td>\n",
       "      <td>1173312000</td>\n",
       "      <td>NaN</td>\n",
       "      <td>I only used two maybe three tea bags and got pregnant - can not drink during pregnancy.  Not a bad taste, but I'm not a big tea fan either.</td>\n",
       "      <td>Negative</td>\n",
       "    </tr>\n",
       "    <tr>\n",
       "      <th>530716</th>\n",
       "      <td>530717</td>\n",
       "      <td>B0014ATRV8</td>\n",
       "      <td>A3TJPSWY2HE4BS</td>\n",
       "      <td>S. Layton \"homeschool blogger\"</td>\n",
       "      <td>1</td>\n",
       "      <td>24</td>\n",
       "      <td>1173312000</td>\n",
       "      <td>NaN</td>\n",
       "      <td>I only used two maybe three tea bags and got pregnant - can not drink during pregnancy.  Not a bad taste, but I'm not a big tea fan either.</td>\n",
       "      <td>Negative</td>\n",
       "    </tr>\n",
       "  </tbody>\n",
       "</table>\n",
       "</div>"
      ],
      "text/plain": [
       "            Id   ProductId          UserId                     ProfileName  \\\n",
       "33958    33959  B00412W76S  A3TJPSWY2HE4BS  S. Layton \"homeschool blogger\"   \n",
       "40548    40549  B00020HHRW  A3TJPSWY2HE4BS  S. Layton \"homeschool blogger\"   \n",
       "101106  101107  B0014B0HWK  A3TJPSWY2HE4BS  S. Layton \"homeschool blogger\"   \n",
       "102979  102980  B000FVDWU4  A3TJPSWY2HE4BS  S. Layton \"homeschool blogger\"   \n",
       "117515  117516  B0016B7Z32  A3TJPSWY2HE4BS  S. Layton \"homeschool blogger\"   \n",
       "155712  155713  B0009VO58S  A3TJPSWY2HE4BS  S. Layton \"homeschool blogger\"   \n",
       "178290  178291  B00073IVAQ  A3TJPSWY2HE4BS  S. Layton \"homeschool blogger\"   \n",
       "198474  198475  B000FVBYCW  A3TJPSWY2HE4BS  S. Layton \"homeschool blogger\"   \n",
       "212691  212692  B00020HHAO  A3TJPSWY2HE4BS  S. Layton \"homeschool blogger\"   \n",
       "293906  293907  B00020HHM2  A3TJPSWY2HE4BS  S. Layton \"homeschool blogger\"   \n",
       "299495  299496  B00142BX68  A3TJPSWY2HE4BS  S. Layton \"homeschool blogger\"   \n",
       "300961  300962  B000VJYTZM  A3TJPSWY2HE4BS  S. Layton \"homeschool blogger\"   \n",
       "333556  333557  B00188S3PM  A3TJPSWY2HE4BS  S. Layton \"homeschool blogger\"   \n",
       "352043  352044  B000M0F58U  A3TJPSWY2HE4BS  S. Layton \"homeschool blogger\"   \n",
       "357215  357216  B0006I5M2M  A3TJPSWY2HE4BS  S. Layton \"homeschool blogger\"   \n",
       "357814  357815  B001GCTTRQ  A3TJPSWY2HE4BS  S. Layton \"homeschool blogger\"   \n",
       "360782  360783  B00020HHHC  A3TJPSWY2HE4BS  S. Layton \"homeschool blogger\"   \n",
       "379473  379474  B007RLRCLK  A3TJPSWY2HE4BS  S. Layton \"homeschool blogger\"   \n",
       "380558  380559  B00014DXCC  A3TJPSWY2HE4BS  S. Layton \"homeschool blogger\"   \n",
       "381313  381314  B00020HHK4  A3TJPSWY2HE4BS  S. Layton \"homeschool blogger\"   \n",
       "386283  386284  B00073JVFU  A3TJPSWY2HE4BS  S. Layton \"homeschool blogger\"   \n",
       "484367  484368  B00020HHGS  A3TJPSWY2HE4BS  S. Layton \"homeschool blogger\"   \n",
       "486640  486641  B0014AUJII  A3TJPSWY2HE4BS  S. Layton \"homeschool blogger\"   \n",
       "503260  503261  B00020HHE0  A3TJPSWY2HE4BS  S. Layton \"homeschool blogger\"   \n",
       "530716  530717  B0014ATRV8  A3TJPSWY2HE4BS  S. Layton \"homeschool blogger\"   \n",
       "\n",
       "        HelpfulnessNumerator  HelpfulnessDenominator        Time Summary  \\\n",
       "33958                      1                      24  1173312000     NaN   \n",
       "40548                      1                      24  1173312000     NaN   \n",
       "101106                     1                      24  1173312000     NaN   \n",
       "102979                     1                      24  1173312000     NaN   \n",
       "117515                     1                      24  1173312000     NaN   \n",
       "155712                     1                      24  1173312000     NaN   \n",
       "178290                     1                      24  1173312000     NaN   \n",
       "198474                     1                      24  1173312000     NaN   \n",
       "212691                     1                      24  1173312000     NaN   \n",
       "293906                     1                      24  1173312000     NaN   \n",
       "299495                     1                      24  1173312000     NaN   \n",
       "300961                     1                      24  1173312000     NaN   \n",
       "333556                     1                      24  1173312000     NaN   \n",
       "352043                     1                      24  1173312000     NaN   \n",
       "357215                     1                      24  1173312000     NaN   \n",
       "357814                     1                      24  1173312000     NaN   \n",
       "360782                     1                      24  1173312000     NaN   \n",
       "379473                     1                      24  1173312000     NaN   \n",
       "380558                     1                      24  1173312000     NaN   \n",
       "381313                     1                      24  1173312000     NaN   \n",
       "386283                     1                      24  1173312000     NaN   \n",
       "484367                     1                      24  1173312000     NaN   \n",
       "486640                     1                      24  1173312000     NaN   \n",
       "503260                     1                      24  1173312000     NaN   \n",
       "530716                     1                      24  1173312000     NaN   \n",
       "\n",
       "                                                                                                                                               Text  \\\n",
       "33958   I only used two maybe three tea bags and got pregnant - can not drink during pregnancy.  Not a bad taste, but I'm not a big tea fan either.   \n",
       "40548   I only used two maybe three tea bags and got pregnant - can not drink during pregnancy.  Not a bad taste, but I'm not a big tea fan either.   \n",
       "101106  I only used two maybe three tea bags and got pregnant - can not drink during pregnancy.  Not a bad taste, but I'm not a big tea fan either.   \n",
       "102979  I only used two maybe three tea bags and got pregnant - can not drink during pregnancy.  Not a bad taste, but I'm not a big tea fan either.   \n",
       "117515  I only used two maybe three tea bags and got pregnant - can not drink during pregnancy.  Not a bad taste, but I'm not a big tea fan either.   \n",
       "155712  I only used two maybe three tea bags and got pregnant - can not drink during pregnancy.  Not a bad taste, but I'm not a big tea fan either.   \n",
       "178290  I only used two maybe three tea bags and got pregnant - can not drink during pregnancy.  Not a bad taste, but I'm not a big tea fan either.   \n",
       "198474  I only used two maybe three tea bags and got pregnant - can not drink during pregnancy.  Not a bad taste, but I'm not a big tea fan either.   \n",
       "212691  I only used two maybe three tea bags and got pregnant - can not drink during pregnancy.  Not a bad taste, but I'm not a big tea fan either.   \n",
       "293906  I only used two maybe three tea bags and got pregnant - can not drink during pregnancy.  Not a bad taste, but I'm not a big tea fan either.   \n",
       "299495  I only used two maybe three tea bags and got pregnant - can not drink during pregnancy.  Not a bad taste, but I'm not a big tea fan either.   \n",
       "300961  I only used two maybe three tea bags and got pregnant - can not drink during pregnancy.  Not a bad taste, but I'm not a big tea fan either.   \n",
       "333556  I only used two maybe three tea bags and got pregnant - can not drink during pregnancy.  Not a bad taste, but I'm not a big tea fan either.   \n",
       "352043  I only used two maybe three tea bags and got pregnant - can not drink during pregnancy.  Not a bad taste, but I'm not a big tea fan either.   \n",
       "357215  I only used two maybe three tea bags and got pregnant - can not drink during pregnancy.  Not a bad taste, but I'm not a big tea fan either.   \n",
       "357814  I only used two maybe three tea bags and got pregnant - can not drink during pregnancy.  Not a bad taste, but I'm not a big tea fan either.   \n",
       "360782  I only used two maybe three tea bags and got pregnant - can not drink during pregnancy.  Not a bad taste, but I'm not a big tea fan either.   \n",
       "379473  I only used two maybe three tea bags and got pregnant - can not drink during pregnancy.  Not a bad taste, but I'm not a big tea fan either.   \n",
       "380558  I only used two maybe three tea bags and got pregnant - can not drink during pregnancy.  Not a bad taste, but I'm not a big tea fan either.   \n",
       "381313  I only used two maybe three tea bags and got pregnant - can not drink during pregnancy.  Not a bad taste, but I'm not a big tea fan either.   \n",
       "386283  I only used two maybe three tea bags and got pregnant - can not drink during pregnancy.  Not a bad taste, but I'm not a big tea fan either.   \n",
       "484367  I only used two maybe three tea bags and got pregnant - can not drink during pregnancy.  Not a bad taste, but I'm not a big tea fan either.   \n",
       "486640  I only used two maybe three tea bags and got pregnant - can not drink during pregnancy.  Not a bad taste, but I'm not a big tea fan either.   \n",
       "503260  I only used two maybe three tea bags and got pregnant - can not drink during pregnancy.  Not a bad taste, but I'm not a big tea fan either.   \n",
       "530716  I only used two maybe three tea bags and got pregnant - can not drink during pregnancy.  Not a bad taste, but I'm not a big tea fan either.   \n",
       "\n",
       "           Class  \n",
       "33958   Negative  \n",
       "40548   Negative  \n",
       "101106  Negative  \n",
       "102979  Negative  \n",
       "117515  Negative  \n",
       "155712  Negative  \n",
       "178290  Negative  \n",
       "198474  Negative  \n",
       "212691  Negative  \n",
       "293906  Negative  \n",
       "299495  Negative  \n",
       "300961  Negative  \n",
       "333556  Negative  \n",
       "352043  Negative  \n",
       "357215  Negative  \n",
       "357814  Negative  \n",
       "360782  Negative  \n",
       "379473  Negative  \n",
       "380558  Negative  \n",
       "381313  Negative  \n",
       "386283  Negative  \n",
       "484367  Negative  \n",
       "486640  Negative  \n",
       "503260  Negative  \n",
       "530716  Negative  "
      ]
     },
     "execution_count": 50,
     "metadata": {},
     "output_type": "execute_result"
    }
   ],
   "source": [
    "df.loc[df[\"Summary\"].isna()]"
   ]
  },
  {
   "cell_type": "code",
   "execution_count": 48,
   "metadata": {},
   "outputs": [],
   "source": [
    "df = df.loc[~((df[\"Text\"].duplicated()) & (df[\"Summary\"].isna()))]"
   ]
  },
  {
   "cell_type": "code",
   "execution_count": 49,
   "metadata": {},
   "outputs": [
    {
     "data": {
      "text/plain": [
       "(525790, 10)"
      ]
     },
     "execution_count": 49,
     "metadata": {},
     "output_type": "execute_result"
    }
   ],
   "source": [
    "df.shape"
   ]
  },
  {
   "cell_type": "code",
   "execution_count": 50,
   "metadata": {},
   "outputs": [],
   "source": [
    "df[\"Summary\"] = df[\"Summary\"].str.strip().str.capitalize()"
   ]
  },
  {
   "cell_type": "code",
   "execution_count": 51,
   "metadata": {},
   "outputs": [
    {
     "data": {
      "text/plain": [
       "(252623, 243414)"
      ]
     },
     "execution_count": 51,
     "metadata": {},
     "output_type": "execute_result"
    }
   ],
   "source": [
    "df[\"Summary\"].nunique(), df[\"UserId\"].nunique()"
   ]
  },
  {
   "cell_type": "code",
   "execution_count": 52,
   "metadata": {},
   "outputs": [
    {
     "data": {
      "text/plain": [
       "Delicious                                          2852\n",
       "Delicious!                                         2742\n",
       "Great product                                      2536\n",
       "Yummy!                                             2006\n",
       "Yummy                                              1936\n",
       "                                                   ... \n",
       "Excellent bunnies                                     1\n",
       "Great product for traveling with your dog!            1\n",
       "The best gf cornbread i've found                      1\n",
       "These are delicious! great with coffee or milk.       1\n",
       "Best pasta for diabetics                              1\n",
       "Name: Summary, Length: 252623, dtype: int64"
      ]
     },
     "execution_count": 52,
     "metadata": {},
     "output_type": "execute_result"
    }
   ],
   "source": [
    "df[\"Summary\"].value_counts()"
   ]
  },
  {
   "cell_type": "markdown",
   "metadata": {},
   "source": [
    "### Length Distribution"
   ]
  },
  {
   "cell_type": "code",
   "execution_count": 53,
   "metadata": {},
   "outputs": [
    {
     "data": {
      "image/png": "[encoded data removed]",
      "text/plain": [
       "<Figure size 864x648 with 1 Axes>"
      ]
     },
     "metadata": {},
     "output_type": "display_data"
    }
   ],
   "source": [
    "plt.figure(figsize=(12, 9))\n",
    "_ = df[\"Summary\"].str.len().plot(kind=\"hist\")"
   ]
  },
  {
   "cell_type": "markdown",
   "metadata": {},
   "source": [
    "### Length distribution by Class"
   ]
  },
  {
   "cell_type": "code",
   "execution_count": 54,
   "metadata": {},
   "outputs": [
    {
     "data": {
      "image/png": "[encoded data removed]",
      "text/plain": [
       "<Figure size 864x648 with 1 Axes>"
      ]
     },
     "metadata": {},
     "output_type": "display_data"
    }
   ],
   "source": [
    "plt.figure(figsize=(12, 9))\n",
    "_ = df.loc[df[\"Class\"]==\"Positive\"][\"Summary\"].str.len().plot(kind=\"hist\")"
   ]
  },
  {
   "cell_type": "code",
   "execution_count": 55,
   "metadata": {},
   "outputs": [
    {
     "data": {
      "image/png": "[encoded data removed]",
      "text/plain": [
       "<Figure size 864x648 with 1 Axes>"
      ]
     },
     "metadata": {},
     "output_type": "display_data"
    }
   ],
   "source": [
    "plt.figure(figsize=(12, 9))\n",
    "_ = df.loc[df[\"Class\"]==\"Negative\"][\"Summary\"].str.len().plot(kind=\"hist\")"
   ]
  },
  {
   "cell_type": "markdown",
   "metadata": {},
   "source": [
    "### Word distribution by Class"
   ]
  },
  {
   "cell_type": "code",
   "execution_count": 56,
   "metadata": {},
   "outputs": [],
   "source": [
    "def return_len(x):\n",
    "    try:\n",
    "        return len(x)\n",
    "    except Exception as e:\n",
    "        return 0"
   ]
  },
  {
   "cell_type": "code",
   "execution_count": 57,
   "metadata": {},
   "outputs": [],
   "source": [
    "df[\"Count\"] = df[\"Summary\"].str.split().apply(lambda x: return_len(x))"
   ]
  },
  {
   "cell_type": "code",
   "execution_count": 58,
   "metadata": {},
   "outputs": [
    {
     "data": {
      "image/png": "[encoded data removed]",
      "text/plain": [
       "<Figure size 864x720 with 2 Axes>"
      ]
     },
     "metadata": {},
     "output_type": "display_data"
    }
   ],
   "source": [
    "fig, ax = plt.subplots(1, 2, figsize=(12, 10))\n",
    "_ = df.loc[df[\"Class\"]==\"Positive\"][\"Count\"].plot(kind=\"hist\", bins=np.arange(0, 50, 5), ax=ax[0])\n",
    "_ = df.loc[df[\"Class\"]==\"Negative\"][\"Count\"].plot(kind=\"hist\", bins=np.arange(0, 50, 5), ax=ax[1])"
   ]
  },
  {
   "cell_type": "markdown",
   "metadata": {},
   "source": [
    "### WordClouds - Visual Validation"
   ]
  },
  {
   "cell_type": "code",
   "execution_count": 59,
   "metadata": {},
   "outputs": [],
   "source": [
    "from wordcloud import WordCloud, STOPWORDS"
   ]
  },
  {
   "cell_type": "code",
   "execution_count": 96,
   "metadata": {},
   "outputs": [],
   "source": [
    "stopwords = set(STOPWORDS)"
   ]
  },
  {
   "cell_type": "code",
   "execution_count": 97,
   "metadata": {},
   "outputs": [],
   "source": [
    "def show_wordcloud(data, title = None):\n",
    "    wordcloud = WordCloud(\n",
    "        background_color='white',\n",
    "        stopwords=stopwords,\n",
    "        max_words=20000,\n",
    "        max_font_size=60, \n",
    "        scale=3,\n",
    "        random_state=1,\n",
    "        collocation_threshold=10\n",
    "        )\n",
    "    \n",
    "    wordcloud=wordcloud.generate(str(data))\n",
    "    plt.imshow(wordcloud,interpolation='nearest')\n",
    "    plt.axis('off')"
   ]
  },
  {
   "cell_type": "code",
   "execution_count": 98,
   "metadata": {},
   "outputs": [],
   "source": [
    "positive_summary = df.loc[df[\"Class\"]==\"Positive\"][\"Summary\"]"
   ]
  },
  {
   "cell_type": "code",
   "execution_count": 99,
   "metadata": {},
   "outputs": [
    {
     "data": {
      "image/png": "[encoded data removed]",
      "text/plain": [
       "<Figure size 432x288 with 1 Axes>"
      ]
     },
     "metadata": {},
     "output_type": "display_data"
    }
   ],
   "source": [
    "show_wordcloud(positive_summary, title=\"Positive Class\")"
   ]
  },
  {
   "cell_type": "markdown",
   "metadata": {},
   "source": [
    "* dtype\n",
    "* Summary"
   ]
  },
  {
   "cell_type": "markdown",
   "metadata": {},
   "source": [
    "**Investigate these cases**"
   ]
  },
  {
   "cell_type": "code",
   "execution_count": 77,
   "metadata": {},
   "outputs": [
    {
     "data": {
      "text/html": [
       "<div>\n",
       "<style scoped>\n",
       "    .dataframe tbody tr th:only-of-type {\n",
       "        vertical-align: middle;\n",
       "    }\n",
       "\n",
       "    .dataframe tbody tr th {\n",
       "        vertical-align: top;\n",
       "    }\n",
       "\n",
       "    .dataframe thead th {\n",
       "        text-align: right;\n",
       "    }\n",
       "</style>\n",
       "<table border=\"1\" class=\"dataframe\">\n",
       "  <thead>\n",
       "    <tr style=\"text-align: right;\">\n",
       "      <th></th>\n",
       "      <th>Id</th>\n",
       "      <th>ProductId</th>\n",
       "      <th>UserId</th>\n",
       "      <th>ProfileName</th>\n",
       "      <th>HelpfulnessNumerator</th>\n",
       "      <th>HelpfulnessDenominator</th>\n",
       "      <th>Time</th>\n",
       "      <th>Summary</th>\n",
       "      <th>Text</th>\n",
       "      <th>Class</th>\n",
       "      <th>Count</th>\n",
       "    </tr>\n",
       "  </thead>\n",
       "  <tbody>\n",
       "    <tr>\n",
       "      <th>7963</th>\n",
       "      <td>7964</td>\n",
       "      <td>B004WM0ZTS</td>\n",
       "      <td>A20EEWWSFMZ1PN</td>\n",
       "      <td>bernie \"webviator\"</td>\n",
       "      <td>4</td>\n",
       "      <td>5</td>\n",
       "      <td>1281830400</td>\n",
       "      <td>Take a sharp object to defend your self</td>\n",
       "      <td>Unlike most people, I prefer not a weak coffee but a milder roast than the burnt stuff most coffee houses make that requires many accoutrements to mask like cream, sugar and artificial flavors. Therefore, I purposely only tried the Columbian.&lt;br /&gt;&lt;br /&gt;I work in a place that has poorly serviced coffee \"dispensing machines.\" They are fun in that you never know what will come out in a day-to-day basis. Some time just your coins back. A few people have illicit electric coffee pots, others use a French press, and still others sneak out for the real thing.&lt;br /&gt;&lt;br /&gt;Now that I discovered the Columbian Via. I have to defend my cup from all those noses that circle my cup. I know there are directions on the pack; however, I now have my own ritual.  Clean cup, fill 2/3rds filtered water. 90 seconds in the microwave.  Shake contents to bottom of pack.  Rip the whole top off the pack with teeth.  Pour pack in coup and watch sizzle. Stir for a few seconds.  Add a tad of ice. Hope I can make it back to my desk before the cup empties.&lt;br /&gt;&lt;br /&gt;I was never a fan of reconstituted coffee however I think it is the addition of the micro-ground coffee that adds the edge necessary.&lt;br /&gt;&lt;br /&gt;In any event you owe it to yourself to try it.</td>\n",
       "      <td>Positive</td>\n",
       "      <td>8</td>\n",
       "    </tr>\n",
       "    <tr>\n",
       "      <th>14597</th>\n",
       "      <td>14598</td>\n",
       "      <td>B0032BXUJM</td>\n",
       "      <td>AWEE52QL9WOR6</td>\n",
       "      <td>Jason Perry</td>\n",
       "      <td>2</td>\n",
       "      <td>2</td>\n",
       "      <td>1335225600</td>\n",
       "      <td>The best k-cup, objectively</td>\n",
       "      <td>Look, I'm aware that every K-cup variety has a review saying \"This is the best K-cup.\" But I know what I'm talking about, okay? We all know the kind of people whose favorite flavor is Caramel Vanilla Creme, or heaven forbid, \"Cappuccino\". I'm not talking to them. I don't use cutesy cliches like \"cuppa joe\" or \"packs a punch\". This is also not one of those stupid reviews that claims \"This is the best cup of coffee I EVER DRANK\", because we know K-Cups cannot really compete with fresh-roasted beans. But if you drink K-Cups and you have some discriminating taste in coffee, get this one. Emeril's bold is nice and bold, dark but not too dark, the flavor has some dimension besides \"burnt\"...trust me.&lt;br /&gt;&lt;br /&gt;P.S. If you did happen to brew any of those flavored kinds in your machine, because it's a shared machine or your mom got you a variety pack or something, brew a cup of water through first. Then look at all the stuff floating in it, and consider yourself educated.</td>\n",
       "      <td>Positive</td>\n",
       "      <td>4</td>\n",
       "    </tr>\n",
       "    <tr>\n",
       "      <th>101269</th>\n",
       "      <td>101270</td>\n",
       "      <td>B000IUPND6</td>\n",
       "      <td>ALY6UJUJCXBRE</td>\n",
       "      <td>Andy</td>\n",
       "      <td>1</td>\n",
       "      <td>1</td>\n",
       "      <td>1348531200</td>\n",
       "      <td>Totally objective review.</td>\n",
       "      <td>Okay, so at first, when I bought it and tried it, I was like, \"holy crap, this tastes odd...\" then I put a little more and then I was like, \"Holy crap, this tastes like crap! I wasted my money!\"&lt;br /&gt;&lt;br /&gt;I was getting ready to throw it away but I bought 2 bottles of seltzer water and I was like, \"Oh, hell, I'll just drink it. Then, I put a fairly modest amount and started drinking it and then it sort of grew on me.&lt;br /&gt;&lt;br /&gt;I mean, it's a sort of light taste and it leaves a bit of an after taste, but it's really not that bad.&lt;br /&gt;&lt;br /&gt;From my personal experience, I hated it and then found out it wasn't too bad.&lt;br /&gt;&lt;br /&gt;IT DEFINITELY WILL NOT TASTE EXACTLY LIKE ROOT BEER! DON'T HAVE ANY DELUSIONS! I'd suggest you give it a try, though. It's really not that bad... and if it is, experiment and drink it a few more times and it might grow on you :D!</td>\n",
       "      <td>Positive</td>\n",
       "      <td>3</td>\n",
       "    </tr>\n",
       "    <tr>\n",
       "      <th>110620</th>\n",
       "      <td>110621</td>\n",
       "      <td>B00438XVGU</td>\n",
       "      <td>A20EEWWSFMZ1PN</td>\n",
       "      <td>bernie \"webviator\"</td>\n",
       "      <td>3</td>\n",
       "      <td>3</td>\n",
       "      <td>1342828800</td>\n",
       "      <td>Take a sharp object to defend your self</td>\n",
       "      <td>Unlike most people, I prefer not a weak coffee but a milder roast than the burnt stuff most coffee houses make that requires many accoutrements to mask like cream, sugar and artificial flavors. Therefore, I purposely only tried the Columbian.&lt;br /&gt;&lt;br /&gt;I work in a place that has poorly serviced coffee \"dispensing machines.\" They are fun in that you never know what will come out in a day-to-day basis. Some time just your coins back. A few people have illicit electric coffee pots, others use a French press, and still others sneak out for the real thing.&lt;br /&gt;&lt;br /&gt;Now that I discovered the Columbian Via. I have to defend my cup from all those noses that circle my cup. I know there are directions on the pack; however, I now have my own ritual. Clean cup, fill 2/3rds filtered water. 90 seconds in the microwave. Shake contents to bottom of pack. Rip the whole top off the pack with teeth. Pour pack in coup and watch sizzle. Stir for a few seconds. Add a tad of ice. Hope I can make it back to my desk before the cup empties.&lt;br /&gt;&lt;br /&gt;I was never a fan of reconstituted coffee however I think it is the addition of the micro-ground coffee that adds the edge necessary.&lt;br /&gt;&lt;br /&gt;In any event you owe it to yourself to try it.</td>\n",
       "      <td>Positive</td>\n",
       "      <td>8</td>\n",
       "    </tr>\n",
       "    <tr>\n",
       "      <th>115522</th>\n",
       "      <td>115523</td>\n",
       "      <td>B000WFUL3E</td>\n",
       "      <td>AIDL4DGVARK25</td>\n",
       "      <td>zooz</td>\n",
       "      <td>5</td>\n",
       "      <td>5</td>\n",
       "      <td>1298592000</td>\n",
       "      <td>Objective &amp; subjective (from a particular buyer)</td>\n",
       "      <td>This review is for the 24 pack of 3 Oz. cans of the Wellness Brand Cat Food.&lt;br /&gt;&lt;br /&gt;Objectively speaking...&lt;br /&gt;The cans are easy to ope and they have consistently arrived in excellent condition.  There are 24 cans at 3 oz. each.  That's all I can really say objectively about cat food.&lt;br /&gt;&lt;br /&gt;Subjectively speaking...&lt;br /&gt;I could not believe the difference in my cats after switching to a canned cat food from dry food.  My cats are 15 and 16 years old.  They are healthy indoor cats who are still active and playful with no real health problems aside from my 16 year old cat having minor diabetes.  I had been feeding a high priced prescription (vet recommended) dry food for the last 2 years only to have my 15 year old cat begin getting sick and regurgitating his food on a weekly basis.  I took my cat to the vet repeatedly asking why this might be a problem.  The vet simply told me that the cat may be a little under the weather or it was hairball related...which before had not been an issue.  After a conversation with a friend in Dec 2010 they emphatically recommended canned cat food.  I decided to do some research and was I glad that I did.  My cats have been eating canned food for 2 months now and here are the changes I've noticed.  My cat who was throwing up 2-4 times a week has only done so 4 times in 2 months (and I think that was because he was biting at some straw that I didn't know about), their fur is ridiculously softer...like I just spent an hour brushing them, now it feels that way all the time.  And although my cats are not prone to hairballs, my medium haired cat would get them on occasion and he has had only 1 very small one in 2 months as opposed to the weekly ones I'd find in the house.  They have more energy and they just seem happier in how they interact and the littler box has less to be cleaned up and quite frankly it smells less offensive than it did before.  Don't get me wrong...cat boxes smell but I've been told (and now I feel I can attest to this) that dry food would dehydrate a cat and it would enter a system and absorb odors from the body and carry them out into the cat box to amplify the foul odors.  Actual cat food like the Wellness brand (not many brands are grain or rice free)  gets more fully digested by the cat and does not contain grains and rices and other fillers that are expelled with the body.  I must say that I felt the fool not having taken more time to learn about the diet possibilities of my cats.&lt;br /&gt;&lt;br /&gt;I will note that I also use the Wellness dry food (about 1/4 to 1/2 cup out each night) for my 2 cats to eat between their canned meals.  This is also to keep them used to eating a little dry food in case I am in a situation where I cannot provide their can in the morning and night.  For your reference I feed my cats each 1/2 a can in the morning and 1/2 in the evening (so 2 cans total daily).  I am going to switch to the 12 oz cans though because they are much cheaper, you nearly double your canned food for the same price, I'm just going to buy a resealable lid and scoop out what is needed.&lt;br /&gt;&lt;br /&gt;And as a side note, my cats eat most of the food when I leave it out but they do not finish it all.  I do leave the food out for them to finish up which they usually do within 1-3 hours.  Some people say you should never do this, some say they will leave it out all day...in my experience over the 2 months I have noticed no mold, illness or rejection of this food being left out for a few hours for my cats.  The longest I've seen food remain in the is at the 7 hour mark and still, it was finished with no negative behaviors or effects noticed in either of my animals.&lt;br /&gt;&lt;br /&gt;I hope this review helps you and please be aware specifically of what goes into certain brands.  There are cheaper canned foods but they are not as good as this brand.  I've checked and tried a few.  This one is really different.  There are a few websites which explain the health benefits more precisely and if you won't take my word for it on this brand see for yourself.  Also, the cost is well worth the response you will get from your cat and when measured against prescription dry food it really hasn't been much different and the 12 oz sizes will make it even more affordable.  Be good to yourself and your pets!</td>\n",
       "      <td>Positive</td>\n",
       "      <td>7</td>\n",
       "    </tr>\n",
       "    <tr>\n",
       "      <th>146490</th>\n",
       "      <td>146491</td>\n",
       "      <td>B000WFKWDI</td>\n",
       "      <td>AIDL4DGVARK25</td>\n",
       "      <td>zooz</td>\n",
       "      <td>5</td>\n",
       "      <td>5</td>\n",
       "      <td>1298592000</td>\n",
       "      <td>Objective &amp; subjective (from a particular buyer)</td>\n",
       "      <td>This review is for the 24 pack of 3 Oz. cans of the Wellness Brand Cat Food.&lt;br /&gt;&lt;br /&gt;Objectively speaking...&lt;br /&gt;The cans are easy to ope and they have consistently arrived in excellent condition.  There are 24 cans at 3 oz. each.  That's all I can really say objectively about cat food.&lt;br /&gt;&lt;br /&gt;Subjectively speaking...&lt;br /&gt;I could not believe the difference in my cats after switching to a canned cat food from dry food.  My cats are 15 and 16 years old.  They are healthy indoor cats who are still active and playful with no real health problems aside from my 16 year old cat having minor diabetes.  I had been feeding a high priced prescription (vet recommended) dry food for the last 2 years only to have my 15 year old cat begin getting sick and regurgitating his food on a weekly basis.  I took my cat to the vet repeatedly asking why this might be a problem.  The vet simply told me that the cat may be a little under the weather or it was hairball related...which before had not been an issue.  After a conversation with a friend in Dec 2010 they emphatically recommended canned cat food.  I decided to do some research and was I glad that I did.  My cats have been eating canned food for 2 months now and here are the changes I've noticed.  My cat who was throwing up 2-4 times a week has only done so 4 times in 2 months (and I think that was because he was biting at some straw that I didn't know about), their fur is ridiculously softer...like I just spent an hour brushing them, now it feels that way all the time.  And although my cats are not prone to hairballs, my medium haired cat would get them on occasion and he has had only 1 very small one in 2 months as opposed to the weekly ones I'd find in the house.  They have more energy and they just seem happier in how they interact and the littler box has less to be cleaned up and quite frankly it smells less offensive than it did before.  Don't get me wrong...cat boxes smell but I've been told (and now I feel I can attest to this) that dry food would dehydrate a cat and it would enter a system and absorb odors from the body and carry them out into the cat box to amplify the foul odors.  Actual cat food like the Wellness brand (not many brands are grain or rice free)  gets more fully digested by the cat and does not contain grains and rices and other fillers that are expelled with the body.  I must say that I felt the fool not having taken more time to learn about the diet possibilities of my cats.&lt;br /&gt;&lt;br /&gt;I will note that I also use the Wellness dry food (about 1/4 to 1/2 cup out each night) for my 2 cats to eat between their canned meals.  This is also to keep them used to eating a little dry food in case I am in a situation where I cannot provide their can in the morning and night.  For your reference I feed my cats each 1/2 a can in the morning and 1/2 in the evening (so 2 cans total daily).  I am going to switch to the 12 oz cans though because they are much cheaper, you nearly double your canned food for the same price, I'm just going to buy a resealable lid and scoop out what is needed.&lt;br /&gt;&lt;br /&gt;And as a side note, my cats eat most of the food when I leave it out but they do not finish it all.  I do leave the food out for them to finish up which they usually do within 1-3 hours.  Some people say you should never do this, some say they will leave it out all day...in my experience over the 2 months I have noticed no mold, illness or rejection of this food being left out for a few hours for my cats.  The longest I've seen food remain in the is at the 7 hour mark and still, it was finished with no negative behaviors or effects noticed in either of my animals.&lt;br /&gt;&lt;br /&gt;I hope this review helps you and please be aware specifically of what goes into certain brands.  There are cheaper canned foods but they are not as good as this brand.  I've checked and tried a few.  This one is really different.  There are a few websites which explain the health benefits more precisely and if you won't take my word for it on this brand see for yourself.  Also, the cost is well worth the response you will get from your cat and when measured against prescription dry food it really hasn't been much different and the 12 oz sizes will make it even more affordable.  Be good to yourself and your pets!</td>\n",
       "      <td>Positive</td>\n",
       "      <td>7</td>\n",
       "    </tr>\n",
       "    <tr>\n",
       "      <th>171391</th>\n",
       "      <td>171392</td>\n",
       "      <td>B000WFORH0</td>\n",
       "      <td>AIDL4DGVARK25</td>\n",
       "      <td>zooz</td>\n",
       "      <td>5</td>\n",
       "      <td>5</td>\n",
       "      <td>1298592000</td>\n",
       "      <td>Objective &amp; subjective (from a particular buyer)</td>\n",
       "      <td>This review is for the 24 pack of 3 Oz. cans of the Wellness Brand Cat Food.&lt;br /&gt;&lt;br /&gt;Objectively speaking...&lt;br /&gt;The cans are easy to ope and they have consistently arrived in excellent condition.  There are 24 cans at 3 oz. each.  That's all I can really say objectively about cat food.&lt;br /&gt;&lt;br /&gt;Subjectively speaking...&lt;br /&gt;I could not believe the difference in my cats after switching to a canned cat food from dry food.  My cats are 15 and 16 years old.  They are healthy indoor cats who are still active and playful with no real health problems aside from my 16 year old cat having minor diabetes.  I had been feeding a high priced prescription (vet recommended) dry food for the last 2 years only to have my 15 year old cat begin getting sick and regurgitating his food on a weekly basis.  I took my cat to the vet repeatedly asking why this might be a problem.  The vet simply told me that the cat may be a little under the weather or it was hairball related...which before had not been an issue.  After a conversation with a friend in Dec 2010 they emphatically recommended canned cat food.  I decided to do some research and was I glad that I did.  My cats have been eating canned food for 2 months now and here are the changes I've noticed.  My cat who was throwing up 2-4 times a week has only done so 4 times in 2 months (and I think that was because he was biting at some straw that I didn't know about), their fur is ridiculously softer...like I just spent an hour brushing them, now it feels that way all the time.  And although my cats are not prone to hairballs, my medium haired cat would get them on occasion and he has had only 1 very small one in 2 months as opposed to the weekly ones I'd find in the house.  They have more energy and they just seem happier in how they interact and the littler box has less to be cleaned up and quite frankly it smells less offensive than it did before.  Don't get me wrong...cat boxes smell but I've been told (and now I feel I can attest to this) that dry food would dehydrate a cat and it would enter a system and absorb odors from the body and carry them out into the cat box to amplify the foul odors.  Actual cat food like the Wellness brand (not many brands are grain or rice free)  gets more fully digested by the cat and does not contain grains and rices and other fillers that are expelled with the body.  I must say that I felt the fool not having taken more time to learn about the diet possibilities of my cats.&lt;br /&gt;&lt;br /&gt;I will note that I also use the Wellness dry food (about 1/4 to 1/2 cup out each night) for my 2 cats to eat between their canned meals.  This is also to keep them used to eating a little dry food in case I am in a situation where I cannot provide their can in the morning and night.  For your reference I feed my cats each 1/2 a can in the morning and 1/2 in the evening (so 2 cans total daily).  I am going to switch to the 12 oz cans though because they are much cheaper, you nearly double your canned food for the same price, I'm just going to buy a resealable lid and scoop out what is needed.&lt;br /&gt;&lt;br /&gt;And as a side note, my cats eat most of the food when I leave it out but they do not finish it all.  I do leave the food out for them to finish up which they usually do within 1-3 hours.  Some people say you should never do this, some say they will leave it out all day...in my experience over the 2 months I have noticed no mold, illness or rejection of this food being left out for a few hours for my cats.  The longest I've seen food remain in the is at the 7 hour mark and still, it was finished with no negative behaviors or effects noticed in either of my animals.&lt;br /&gt;&lt;br /&gt;I hope this review helps you and please be aware specifically of what goes into certain brands.  There are cheaper canned foods but they are not as good as this brand.  I've checked and tried a few.  This one is really different.  There are a few websites which explain the health benefits more precisely and if you won't take my word for it on this brand see for yourself.  Also, the cost is well worth the response you will get from your cat and when measured against prescription dry food it really hasn't been much different and the 12 oz sizes will make it even more affordable.  Be good to yourself and your pets!</td>\n",
       "      <td>Positive</td>\n",
       "      <td>7</td>\n",
       "    </tr>\n",
       "    <tr>\n",
       "      <th>191540</th>\n",
       "      <td>191541</td>\n",
       "      <td>B000WFN0VO</td>\n",
       "      <td>AIDL4DGVARK25</td>\n",
       "      <td>zooz</td>\n",
       "      <td>5</td>\n",
       "      <td>5</td>\n",
       "      <td>1298592000</td>\n",
       "      <td>Objective &amp; subjective (from a particular buyer)</td>\n",
       "      <td>This review is for the 24 pack of 3 Oz. cans of the Wellness Brand Cat Food.&lt;br /&gt;&lt;br /&gt;Objectively speaking...&lt;br /&gt;The cans are easy to ope and they have consistently arrived in excellent condition.  There are 24 cans at 3 oz. each.  That's all I can really say objectively about cat food.&lt;br /&gt;&lt;br /&gt;Subjectively speaking...&lt;br /&gt;I could not believe the difference in my cats after switching to a canned cat food from dry food.  My cats are 15 and 16 years old.  They are healthy indoor cats who are still active and playful with no real health problems aside from my 16 year old cat having minor diabetes.  I had been feeding a high priced prescription (vet recommended) dry food for the last 2 years only to have my 15 year old cat begin getting sick and regurgitating his food on a weekly basis.  I took my cat to the vet repeatedly asking why this might be a problem.  The vet simply told me that the cat may be a little under the weather or it was hairball related...which before had not been an issue.  After a conversation with a friend in Dec 2010 they emphatically recommended canned cat food.  I decided to do some research and was I glad that I did.  My cats have been eating canned food for 2 months now and here are the changes I've noticed.  My cat who was throwing up 2-4 times a week has only done so 4 times in 2 months (and I think that was because he was biting at some straw that I didn't know about), their fur is ridiculously softer...like I just spent an hour brushing them, now it feels that way all the time.  And although my cats are not prone to hairballs, my medium haired cat would get them on occasion and he has had only 1 very small one in 2 months as opposed to the weekly ones I'd find in the house.  They have more energy and they just seem happier in how they interact and the littler box has less to be cleaned up and quite frankly it smells less offensive than it did before.  Don't get me wrong...cat boxes smell but I've been told (and now I feel I can attest to this) that dry food would dehydrate a cat and it would enter a system and absorb odors from the body and carry them out into the cat box to amplify the foul odors.  Actual cat food like the Wellness brand (not many brands are grain or rice free)  gets more fully digested by the cat and does not contain grains and rices and other fillers that are expelled with the body.  I must say that I felt the fool not having taken more time to learn about the diet possibilities of my cats.&lt;br /&gt;&lt;br /&gt;I will note that I also use the Wellness dry food (about 1/4 to 1/2 cup out each night) for my 2 cats to eat between their canned meals.  This is also to keep them used to eating a little dry food in case I am in a situation where I cannot provide their can in the morning and night.  For your reference I feed my cats each 1/2 a can in the morning and 1/2 in the evening (so 2 cans total daily).  I am going to switch to the 12 oz cans though because they are much cheaper, you nearly double your canned food for the same price, I'm just going to buy a resealable lid and scoop out what is needed.&lt;br /&gt;&lt;br /&gt;And as a side note, my cats eat most of the food when I leave it out but they do not finish it all.  I do leave the food out for them to finish up which they usually do within 1-3 hours.  Some people say you should never do this, some say they will leave it out all day...in my experience over the 2 months I have noticed no mold, illness or rejection of this food being left out for a few hours for my cats.  The longest I've seen food remain in the is at the 7 hour mark and still, it was finished with no negative behaviors or effects noticed in either of my animals.&lt;br /&gt;&lt;br /&gt;I hope this review helps you and please be aware specifically of what goes into certain brands.  There are cheaper canned foods but they are not as good as this brand.  I've checked and tried a few.  This one is really different.  There are a few websites which explain the health benefits more precisely and if you won't take my word for it on this brand see for yourself.  Also, the cost is well worth the response you will get from your cat and when measured against prescription dry food it really hasn't been much different and the 12 oz sizes will make it even more affordable.  Be good to yourself and your pets!</td>\n",
       "      <td>Positive</td>\n",
       "      <td>7</td>\n",
       "    </tr>\n",
       "    <tr>\n",
       "      <th>211242</th>\n",
       "      <td>211243</td>\n",
       "      <td>B000WFU8O6</td>\n",
       "      <td>AIDL4DGVARK25</td>\n",
       "      <td>zooz</td>\n",
       "      <td>5</td>\n",
       "      <td>5</td>\n",
       "      <td>1298592000</td>\n",
       "      <td>Objective &amp; subjective (from a particular buyer)</td>\n",
       "      <td>This review is for the 24 pack of 3 Oz. cans of the Wellness Brand Cat Food.&lt;br /&gt;&lt;br /&gt;Objectively speaking...&lt;br /&gt;The cans are easy to ope and they have consistently arrived in excellent condition.  There are 24 cans at 3 oz. each.  That's all I can really say objectively about cat food.&lt;br /&gt;&lt;br /&gt;Subjectively speaking...&lt;br /&gt;I could not believe the difference in my cats after switching to a canned cat food from dry food.  My cats are 15 and 16 years old.  They are healthy indoor cats who are still active and playful with no real health problems aside from my 16 year old cat having minor diabetes.  I had been feeding a high priced prescription (vet recommended) dry food for the last 2 years only to have my 15 year old cat begin getting sick and regurgitating his food on a weekly basis.  I took my cat to the vet repeatedly asking why this might be a problem.  The vet simply told me that the cat may be a little under the weather or it was hairball related...which before had not been an issue.  After a conversation with a friend in Dec 2010 they emphatically recommended canned cat food.  I decided to do some research and was I glad that I did.  My cats have been eating canned food for 2 months now and here are the changes I've noticed.  My cat who was throwing up 2-4 times a week has only done so 4 times in 2 months (and I think that was because he was biting at some straw that I didn't know about), their fur is ridiculously softer...like I just spent an hour brushing them, now it feels that way all the time.  And although my cats are not prone to hairballs, my medium haired cat would get them on occasion and he has had only 1 very small one in 2 months as opposed to the weekly ones I'd find in the house.  They have more energy and they just seem happier in how they interact and the littler box has less to be cleaned up and quite frankly it smells less offensive than it did before.  Don't get me wrong...cat boxes smell but I've been told (and now I feel I can attest to this) that dry food would dehydrate a cat and it would enter a system and absorb odors from the body and carry them out into the cat box to amplify the foul odors.  Actual cat food like the Wellness brand (not many brands are grain or rice free)  gets more fully digested by the cat and does not contain grains and rices and other fillers that are expelled with the body.  I must say that I felt the fool not having taken more time to learn about the diet possibilities of my cats.&lt;br /&gt;&lt;br /&gt;I will note that I also use the Wellness dry food (about 1/4 to 1/2 cup out each night) for my 2 cats to eat between their canned meals.  This is also to keep them used to eating a little dry food in case I am in a situation where I cannot provide their can in the morning and night.  For your reference I feed my cats each 1/2 a can in the morning and 1/2 in the evening (so 2 cans total daily).  I am going to switch to the 12 oz cans though because they are much cheaper, you nearly double your canned food for the same price, I'm just going to buy a resealable lid and scoop out what is needed.&lt;br /&gt;&lt;br /&gt;And as a side note, my cats eat most of the food when I leave it out but they do not finish it all.  I do leave the food out for them to finish up which they usually do within 1-3 hours.  Some people say you should never do this, some say they will leave it out all day...in my experience over the 2 months I have noticed no mold, illness or rejection of this food being left out for a few hours for my cats.  The longest I've seen food remain in the is at the 7 hour mark and still, it was finished with no negative behaviors or effects noticed in either of my animals.&lt;br /&gt;&lt;br /&gt;I hope this review helps you and please be aware specifically of what goes into certain brands.  There are cheaper canned foods but they are not as good as this brand.  I've checked and tried a few.  This one is really different.  There are a few websites which explain the health benefits more precisely and if you won't take my word for it on this brand see for yourself.  Also, the cost is well worth the response you will get from your cat and when measured against prescription dry food it really hasn't been much different and the 12 oz sizes will make it even more affordable.  Be good to yourself and your pets!</td>\n",
       "      <td>Positive</td>\n",
       "      <td>7</td>\n",
       "    </tr>\n",
       "    <tr>\n",
       "      <th>221179</th>\n",
       "      <td>221180</td>\n",
       "      <td>B00269E0WW</td>\n",
       "      <td>A1L91NLNUQSOEW</td>\n",
       "      <td>C. Rapha</td>\n",
       "      <td>2</td>\n",
       "      <td>10</td>\n",
       "      <td>1292457600</td>\n",
       "      <td>Watch out for foreign objects in chocolate</td>\n",
       "      <td>I recently bought a bag of these from the store near my house.  It tasted yummy.  However when I was sampling it, I almost broke my tooth.  There was a metal button in with the chocolate.  It was hard to get hold of them to tell them of my problem.  If you find something they want to get it away from you fast and give you a small amount of money.  I didnt like how they handled it.  Customer service is really unsatisfying so dont bother.  JUST BE CAREFUL!</td>\n",
       "      <td>Negative</td>\n",
       "      <td>7</td>\n",
       "    </tr>\n",
       "    <tr>\n",
       "      <th>241788</th>\n",
       "      <td>241789</td>\n",
       "      <td>B0081XPTBS</td>\n",
       "      <td>A24E01BFFPXZUS</td>\n",
       "      <td>Steven</td>\n",
       "      <td>1</td>\n",
       "      <td>4</td>\n",
       "      <td>1302652800</td>\n",
       "      <td>I found some foreign object</td>\n",
       "      <td>I don't write a review but I think I have to as a parent. I found some grey stuff (0.2cm) when I opened the can. I'll never recommned this product to anybody again.</td>\n",
       "      <td>Negative</td>\n",
       "      <td>5</td>\n",
       "    </tr>\n",
       "    <tr>\n",
       "      <th>274512</th>\n",
       "      <td>274513</td>\n",
       "      <td>B001SB2I9Q</td>\n",
       "      <td>A1L91NLNUQSOEW</td>\n",
       "      <td>C. Rapha</td>\n",
       "      <td>3</td>\n",
       "      <td>14</td>\n",
       "      <td>1292457600</td>\n",
       "      <td>Be careful of foreign objects, i almost broke my tooth</td>\n",
       "      <td>I recently bought a bag of these from the store near my house.  It tasted yummy.  However when I was sampling it, I almost broke my tooth.  There was a metal button in with the chocolate.  It was hard to get hold of them to tell them of my problem.  If you find something they want to get it away from you fast and give you a small amount of money.  I didnt like how they handled it.  Customer service is really unsatisfying so dont bother.  JUST BE CAREFUL before you chew.</td>\n",
       "      <td>Negative</td>\n",
       "      <td>10</td>\n",
       "    </tr>\n",
       "    <tr>\n",
       "      <th>277990</th>\n",
       "      <td>277991</td>\n",
       "      <td>B000WFKI82</td>\n",
       "      <td>AIDL4DGVARK25</td>\n",
       "      <td>zooz</td>\n",
       "      <td>5</td>\n",
       "      <td>5</td>\n",
       "      <td>1298592000</td>\n",
       "      <td>Objective &amp; subjective (from a particular buyer)</td>\n",
       "      <td>This review is for the 24 pack of 3 Oz. cans of the Wellness Brand Cat Food.&lt;br /&gt;&lt;br /&gt;Objectively speaking...&lt;br /&gt;The cans are easy to ope and they have consistently arrived in excellent condition.  There are 24 cans at 3 oz. each.  That's all I can really say objectively about cat food.&lt;br /&gt;&lt;br /&gt;Subjectively speaking...&lt;br /&gt;I could not believe the difference in my cats after switching to a canned cat food from dry food.  My cats are 15 and 16 years old.  They are healthy indoor cats who are still active and playful with no real health problems aside from my 16 year old cat having minor diabetes.  I had been feeding a high priced prescription (vet recommended) dry food for the last 2 years only to have my 15 year old cat begin getting sick and regurgitating his food on a weekly basis.  I took my cat to the vet repeatedly asking why this might be a problem.  The vet simply told me that the cat may be a little under the weather or it was hairball related...which before had not been an issue.  After a conversation with a friend in Dec 2010 they emphatically recommended canned cat food.  I decided to do some research and was I glad that I did.  My cats have been eating canned food for 2 months now and here are the changes I've noticed.  My cat who was throwing up 2-4 times a week has only done so 4 times in 2 months (and I think that was because he was biting at some straw that I didn't know about), their fur is ridiculously softer...like I just spent an hour brushing them, now it feels that way all the time.  And although my cats are not prone to hairballs, my medium haired cat would get them on occasion and he has had only 1 very small one in 2 months as opposed to the weekly ones I'd find in the house.  They have more energy and they just seem happier in how they interact and the littler box has less to be cleaned up and quite frankly it smells less offensive than it did before.  Don't get me wrong...cat boxes smell but I've been told (and now I feel I can attest to this) that dry food would dehydrate a cat and it would enter a system and absorb odors from the body and carry them out into the cat box to amplify the foul odors.  Actual cat food like the Wellness brand (not many brands are grain or rice free)  gets more fully digested by the cat and does not contain grains and rices and other fillers that are expelled with the body.  I must say that I felt the fool not having taken more time to learn about the diet possibilities of my cats.&lt;br /&gt;&lt;br /&gt;I will note that I also use the Wellness dry food (about 1/4 to 1/2 cup out each night) for my 2 cats to eat between their canned meals.  This is also to keep them used to eating a little dry food in case I am in a situation where I cannot provide their can in the morning and night.  For your reference I feed my cats each 1/2 a can in the morning and 1/2 in the evening (so 2 cans total daily).  I am going to switch to the 12 oz cans though because they are much cheaper, you nearly double your canned food for the same price, I'm just going to buy a resealable lid and scoop out what is needed.&lt;br /&gt;&lt;br /&gt;And as a side note, my cats eat most of the food when I leave it out but they do not finish it all.  I do leave the food out for them to finish up which they usually do within 1-3 hours.  Some people say you should never do this, some say they will leave it out all day...in my experience over the 2 months I have noticed no mold, illness or rejection of this food being left out for a few hours for my cats.  The longest I've seen food remain in the is at the 7 hour mark and still, it was finished with no negative behaviors or effects noticed in either of my animals.&lt;br /&gt;&lt;br /&gt;I hope this review helps you and please be aware specifically of what goes into certain brands.  There are cheaper canned foods but they are not as good as this brand.  I've checked and tried a few.  This one is really different.  There are a few websites which explain the health benefits more precisely and if you won't take my word for it on this brand see for yourself.  Also, the cost is well worth the response you will get from your cat and when measured against prescription dry food it really hasn't been much different and the 12 oz sizes will make it even more affordable.  Be good to yourself and your pets!</td>\n",
       "      <td>Positive</td>\n",
       "      <td>7</td>\n",
       "    </tr>\n",
       "    <tr>\n",
       "      <th>301277</th>\n",
       "      <td>301278</td>\n",
       "      <td>B003Z6ZGZK</td>\n",
       "      <td>A20EEWWSFMZ1PN</td>\n",
       "      <td>bernie \"webviator\"</td>\n",
       "      <td>3</td>\n",
       "      <td>3</td>\n",
       "      <td>1342828800</td>\n",
       "      <td>Take a sharp object to defend your self</td>\n",
       "      <td>Unlike most people, I prefer not a weak coffee but a milder roast than the burnt stuff most coffee houses make that requires many accoutrements to mask like cream, sugar and artificial flavors. Therefore, I purposely only tried the Columbian.&lt;br /&gt;&lt;br /&gt;I work in a place that has poorly serviced coffee \"dispensing machines.\" They are fun in that you never know what will come out in a day-to-day basis. Some time just your coins back. A few people have illicit electric coffee pots, others use a French press, and still others sneak out for the real thing.&lt;br /&gt;&lt;br /&gt;Now that I discovered the Columbian Via. I have to defend my cup from all those noses that circle my cup. I know there are directions on the pack; however, I now have my own ritual. Clean cup, fill 2/3rds filtered water. 90 seconds in the microwave. Shake contents to bottom of pack. Rip the whole top off the pack with teeth. Pour pack in coup and watch sizzle. Stir for a few seconds. Add a tad of ice. Hope I can make it back to my desk before the cup empties.&lt;br /&gt;&lt;br /&gt;I was never a fan of reconstituted coffee however I think it is the addition of the micro-ground coffee that adds the edge necessary.&lt;br /&gt;&lt;br /&gt;In any event you owe it to yourself to try it.</td>\n",
       "      <td>Positive</td>\n",
       "      <td>8</td>\n",
       "    </tr>\n",
       "    <tr>\n",
       "      <th>320261</th>\n",
       "      <td>320262</td>\n",
       "      <td>B003Z6W32E</td>\n",
       "      <td>A20EEWWSFMZ1PN</td>\n",
       "      <td>bernie \"webviator\"</td>\n",
       "      <td>3</td>\n",
       "      <td>3</td>\n",
       "      <td>1342828800</td>\n",
       "      <td>Take a sharp object to defend your self</td>\n",
       "      <td>Unlike most people, I prefer not a weak coffee but a milder roast than the burnt stuff most coffee houses make that requires many accoutrements to mask like cream, sugar and artificial flavors. Therefore, I purposely only tried the Columbian.&lt;br /&gt;&lt;br /&gt;I work in a place that has poorly serviced coffee \"dispensing machines.\" They are fun in that you never know what will come out in a day-to-day basis. Some time just your coins back. A few people have illicit electric coffee pots, others use a French press, and still others sneak out for the real thing.&lt;br /&gt;&lt;br /&gt;Now that I discovered the Columbian Via. I have to defend my cup from all those noses that circle my cup. I know there are directions on the pack; however, I now have my own ritual. Clean cup, fill 2/3rds filtered water. 90 seconds in the microwave. Shake contents to bottom of pack. Rip the whole top off the pack with teeth. Pour pack in coup and watch sizzle. Stir for a few seconds. Add a tad of ice. Hope I can make it back to my desk before the cup empties.&lt;br /&gt;&lt;br /&gt;I was never a fan of reconstituted coffee however I think it is the addition of the micro-ground coffee that adds the edge necessary.&lt;br /&gt;&lt;br /&gt;In any event you owe it to yourself to try it.</td>\n",
       "      <td>Positive</td>\n",
       "      <td>8</td>\n",
       "    </tr>\n",
       "    <tr>\n",
       "      <th>343249</th>\n",
       "      <td>343250</td>\n",
       "      <td>B000WFEN74</td>\n",
       "      <td>AIDL4DGVARK25</td>\n",
       "      <td>zooz</td>\n",
       "      <td>5</td>\n",
       "      <td>5</td>\n",
       "      <td>1298592000</td>\n",
       "      <td>Objective &amp; subjective (from a particular buyer)</td>\n",
       "      <td>This review is for the 24 pack of 3 Oz. cans of the Wellness Brand Cat Food.&lt;br /&gt;&lt;br /&gt;Objectively speaking...&lt;br /&gt;The cans are easy to ope and they have consistently arrived in excellent condition.  There are 24 cans at 3 oz. each.  That's all I can really say objectively about cat food.&lt;br /&gt;&lt;br /&gt;Subjectively speaking...&lt;br /&gt;I could not believe the difference in my cats after switching to a canned cat food from dry food.  My cats are 15 and 16 years old.  They are healthy indoor cats who are still active and playful with no real health problems aside from my 16 year old cat having minor diabetes.  I had been feeding a high priced prescription (vet recommended) dry food for the last 2 years only to have my 15 year old cat begin getting sick and regurgitating his food on a weekly basis.  I took my cat to the vet repeatedly asking why this might be a problem.  The vet simply told me that the cat may be a little under the weather or it was hairball related...which before had not been an issue.  After a conversation with a friend in Dec 2010 they emphatically recommended canned cat food.  I decided to do some research and was I glad that I did.  My cats have been eating canned food for 2 months now and here are the changes I've noticed.  My cat who was throwing up 2-4 times a week has only done so 4 times in 2 months (and I think that was because he was biting at some straw that I didn't know about), their fur is ridiculously softer...like I just spent an hour brushing them, now it feels that way all the time.  And although my cats are not prone to hairballs, my medium haired cat would get them on occasion and he has had only 1 very small one in 2 months as opposed to the weekly ones I'd find in the house.  They have more energy and they just seem happier in how they interact and the littler box has less to be cleaned up and quite frankly it smells less offensive than it did before.  Don't get me wrong...cat boxes smell but I've been told (and now I feel I can attest to this) that dry food would dehydrate a cat and it would enter a system and absorb odors from the body and carry them out into the cat box to amplify the foul odors.  Actual cat food like the Wellness brand (not many brands are grain or rice free)  gets more fully digested by the cat and does not contain grains and rices and other fillers that are expelled with the body.  I must say that I felt the fool not having taken more time to learn about the diet possibilities of my cats.&lt;br /&gt;&lt;br /&gt;I will note that I also use the Wellness dry food (about 1/4 to 1/2 cup out each night) for my 2 cats to eat between their canned meals.  This is also to keep them used to eating a little dry food in case I am in a situation where I cannot provide their can in the morning and night.  For your reference I feed my cats each 1/2 a can in the morning and 1/2 in the evening (so 2 cans total daily).  I am going to switch to the 12 oz cans though because they are much cheaper, you nearly double your canned food for the same price, I'm just going to buy a resealable lid and scoop out what is needed.&lt;br /&gt;&lt;br /&gt;And as a side note, my cats eat most of the food when I leave it out but they do not finish it all.  I do leave the food out for them to finish up which they usually do within 1-3 hours.  Some people say you should never do this, some say they will leave it out all day...in my experience over the 2 months I have noticed no mold, illness or rejection of this food being left out for a few hours for my cats.  The longest I've seen food remain in the is at the 7 hour mark and still, it was finished with no negative behaviors or effects noticed in either of my animals.&lt;br /&gt;&lt;br /&gt;I hope this review helps you and please be aware specifically of what goes into certain brands.  There are cheaper canned foods but they are not as good as this brand.  I've checked and tried a few.  This one is really different.  There are a few websites which explain the health benefits more precisely and if you won't take my word for it on this brand see for yourself.  Also, the cost is well worth the response you will get from your cat and when measured against prescription dry food it really hasn't been much different and the 12 oz sizes will make it even more affordable.  Be good to yourself and your pets!</td>\n",
       "      <td>Positive</td>\n",
       "      <td>7</td>\n",
       "    </tr>\n",
       "    <tr>\n",
       "      <th>352349</th>\n",
       "      <td>352350</td>\n",
       "      <td>B0045IO37Y</td>\n",
       "      <td>AWEE52QL9WOR6</td>\n",
       "      <td>Jason Perry</td>\n",
       "      <td>2</td>\n",
       "      <td>2</td>\n",
       "      <td>1335225600</td>\n",
       "      <td>The best k-cup, objectively</td>\n",
       "      <td>Look, I'm aware that every K-cup variety has a review saying \"This is the best K-cup.\" But I know what I'm talking about, okay? We all know the kind of people whose favorite flavor is Caramel Vanilla Creme, or heaven forbid, \"Cappuccino\". I'm not talking to them. I don't use cutesy cliches like \"cuppa joe\" or \"packs a punch\". This is also not one of those stupid reviews that claims \"This is the best cup of coffee I EVER DRANK\", because we know K-Cups cannot really compete with fresh-roasted beans. But if you drink K-Cups and you have some discriminating taste in coffee, get this one. Emeril's bold is nice and bold, dark but not too dark, the flavor has some dimension besides \"burnt\"...trust me.&lt;br /&gt;&lt;br /&gt;P.S. If you did happen to brew any of those flavored kinds in your machine, because it's a shared machine or your mom got you a variety pack or something, brew a cup of water through first. Then look at all the stuff floating in it, and consider yourself educated.</td>\n",
       "      <td>Positive</td>\n",
       "      <td>4</td>\n",
       "    </tr>\n",
       "    <tr>\n",
       "      <th>357001</th>\n",
       "      <td>357002</td>\n",
       "      <td>B000WFRQQ4</td>\n",
       "      <td>AIDL4DGVARK25</td>\n",
       "      <td>zooz</td>\n",
       "      <td>5</td>\n",
       "      <td>5</td>\n",
       "      <td>1298592000</td>\n",
       "      <td>Objective &amp; subjective (from a particular buyer)</td>\n",
       "      <td>This review is for the 24 pack of 3 Oz. cans of the Wellness Brand Cat Food.&lt;br /&gt;&lt;br /&gt;Objectively speaking...&lt;br /&gt;The cans are easy to ope and they have consistently arrived in excellent condition.  There are 24 cans at 3 oz. each.  That's all I can really say objectively about cat food.&lt;br /&gt;&lt;br /&gt;Subjectively speaking...&lt;br /&gt;I could not believe the difference in my cats after switching to a canned cat food from dry food.  My cats are 15 and 16 years old.  They are healthy indoor cats who are still active and playful with no real health problems aside from my 16 year old cat having minor diabetes.  I had been feeding a high priced prescription (vet recommended) dry food for the last 2 years only to have my 15 year old cat begin getting sick and regurgitating his food on a weekly basis.  I took my cat to the vet repeatedly asking why this might be a problem.  The vet simply told me that the cat may be a little under the weather or it was hairball related...which before had not been an issue.  After a conversation with a friend in Dec 2010 they emphatically recommended canned cat food.  I decided to do some research and was I glad that I did.  My cats have been eating canned food for 2 months now and here are the changes I've noticed.  My cat who was throwing up 2-4 times a week has only done so 4 times in 2 months (and I think that was because he was biting at some straw that I didn't know about), their fur is ridiculously softer...like I just spent an hour brushing them, now it feels that way all the time.  And although my cats are not prone to hairballs, my medium haired cat would get them on occasion and he has had only 1 very small one in 2 months as opposed to the weekly ones I'd find in the house.  They have more energy and they just seem happier in how they interact and the littler box has less to be cleaned up and quite frankly it smells less offensive than it did before.  Don't get me wrong...cat boxes smell but I've been told (and now I feel I can attest to this) that dry food would dehydrate a cat and it would enter a system and absorb odors from the body and carry them out into the cat box to amplify the foul odors.  Actual cat food like the Wellness brand (not many brands are grain or rice free)  gets more fully digested by the cat and does not contain grains and rices and other fillers that are expelled with the body.  I must say that I felt the fool not having taken more time to learn about the diet possibilities of my cats.&lt;br /&gt;&lt;br /&gt;I will note that I also use the Wellness dry food (about 1/4 to 1/2 cup out each night) for my 2 cats to eat between their canned meals.  This is also to keep them used to eating a little dry food in case I am in a situation where I cannot provide their can in the morning and night.  For your reference I feed my cats each 1/2 a can in the morning and 1/2 in the evening (so 2 cans total daily).  I am going to switch to the 12 oz cans though because they are much cheaper, you nearly double your canned food for the same price, I'm just going to buy a resealable lid and scoop out what is needed.&lt;br /&gt;&lt;br /&gt;And as a side note, my cats eat most of the food when I leave it out but they do not finish it all.  I do leave the food out for them to finish up which they usually do within 1-3 hours.  Some people say you should never do this, some say they will leave it out all day...in my experience over the 2 months I have noticed no mold, illness or rejection of this food being left out for a few hours for my cats.  The longest I've seen food remain in the is at the 7 hour mark and still, it was finished with no negative behaviors or effects noticed in either of my animals.&lt;br /&gt;&lt;br /&gt;I hope this review helps you and please be aware specifically of what goes into certain brands.  There are cheaper canned foods but they are not as good as this brand.  I've checked and tried a few.  This one is really different.  There are a few websites which explain the health benefits more precisely and if you won't take my word for it on this brand see for yourself.  Also, the cost is well worth the response you will get from your cat and when measured against prescription dry food it really hasn't been much different and the 12 oz sizes will make it even more affordable.  Be good to yourself and your pets!</td>\n",
       "      <td>Positive</td>\n",
       "      <td>7</td>\n",
       "    </tr>\n",
       "    <tr>\n",
       "      <th>358234</th>\n",
       "      <td>358235</td>\n",
       "      <td>B0032CJPOK</td>\n",
       "      <td>A24E01BFFPXZUS</td>\n",
       "      <td>Steven</td>\n",
       "      <td>1</td>\n",
       "      <td>4</td>\n",
       "      <td>1302652800</td>\n",
       "      <td>I found some foreign object</td>\n",
       "      <td>I don't write a review but I think I have to as a parent. I found some grey stuff (0.2cm) when I opened the can. I'll never recommned this product to anybody again.</td>\n",
       "      <td>Negative</td>\n",
       "      <td>5</td>\n",
       "    </tr>\n",
       "    <tr>\n",
       "      <th>383700</th>\n",
       "      <td>383701</td>\n",
       "      <td>B00451WLYI</td>\n",
       "      <td>A20EEWWSFMZ1PN</td>\n",
       "      <td>bernie \"webviator\"</td>\n",
       "      <td>3</td>\n",
       "      <td>3</td>\n",
       "      <td>1342828800</td>\n",
       "      <td>Take a sharp object to defend your self</td>\n",
       "      <td>Unlike most people, I prefer not a weak coffee but a milder roast than the burnt stuff most coffee houses make that requires many accoutrements to mask like cream, sugar and artificial flavors. Therefore, I purposely only tried the Columbian.&lt;br /&gt;&lt;br /&gt;I work in a place that has poorly serviced coffee \"dispensing machines.\" They are fun in that you never know what will come out in a day-to-day basis. Some time just your coins back. A few people have illicit electric coffee pots, others use a French press, and still others sneak out for the real thing.&lt;br /&gt;&lt;br /&gt;Now that I discovered the Columbian Via. I have to defend my cup from all those noses that circle my cup. I know there are directions on the pack; however, I now have my own ritual. Clean cup, fill 2/3rds filtered water. 90 seconds in the microwave. Shake contents to bottom of pack. Rip the whole top off the pack with teeth. Pour pack in coup and watch sizzle. Stir for a few seconds. Add a tad of ice. Hope I can make it back to my desk before the cup empties.&lt;br /&gt;&lt;br /&gt;I was never a fan of reconstituted coffee however I think it is the addition of the micro-ground coffee that adds the edge necessary.&lt;br /&gt;&lt;br /&gt;In any event you owe it to yourself to try it.</td>\n",
       "      <td>Positive</td>\n",
       "      <td>8</td>\n",
       "    </tr>\n",
       "    <tr>\n",
       "      <th>410246</th>\n",
       "      <td>410247</td>\n",
       "      <td>B000084EZ4</td>\n",
       "      <td>AIDL4DGVARK25</td>\n",
       "      <td>zooz</td>\n",
       "      <td>5</td>\n",
       "      <td>5</td>\n",
       "      <td>1298592000</td>\n",
       "      <td>Objective &amp; subjective (from a particular buyer)</td>\n",
       "      <td>This review is for the 24 pack of 3 Oz. cans of the Wellness Brand Cat Food.&lt;br /&gt;&lt;br /&gt;Objectively speaking...&lt;br /&gt;The cans are easy to ope and they have consistently arrived in excellent condition.  There are 24 cans at 3 oz. each.  That's all I can really say objectively about cat food.&lt;br /&gt;&lt;br /&gt;Subjectively speaking...&lt;br /&gt;I could not believe the difference in my cats after switching to a canned cat food from dry food.  My cats are 15 and 16 years old.  They are healthy indoor cats who are still active and playful with no real health problems aside from my 16 year old cat having minor diabetes.  I had been feeding a high priced prescription (vet recommended) dry food for the last 2 years only to have my 15 year old cat begin getting sick and regurgitating his food on a weekly basis.  I took my cat to the vet repeatedly asking why this might be a problem.  The vet simply told me that the cat may be a little under the weather or it was hairball related...which before had not been an issue.  After a conversation with a friend in Dec 2010 they emphatically recommended canned cat food.  I decided to do some research and was I glad that I did.  My cats have been eating canned food for 2 months now and here are the changes I've noticed.  My cat who was throwing up 2-4 times a week has only done so 4 times in 2 months (and I think that was because he was biting at some straw that I didn't know about), their fur is ridiculously softer...like I just spent an hour brushing them, now it feels that way all the time.  And although my cats are not prone to hairballs, my medium haired cat would get them on occasion and he has had only 1 very small one in 2 months as opposed to the weekly ones I'd find in the house.  They have more energy and they just seem happier in how they interact and the littler box has less to be cleaned up and quite frankly it smells less offensive than it did before.  Don't get me wrong...cat boxes smell but I've been told (and now I feel I can attest to this) that dry food would dehydrate a cat and it would enter a system and absorb odors from the body and carry them out into the cat box to amplify the foul odors.  Actual cat food like the Wellness brand (not many brands are grain or rice free)  gets more fully digested by the cat and does not contain grains and rices and other fillers that are expelled with the body.  I must say that I felt the fool not having taken more time to learn about the diet possibilities of my cats.&lt;br /&gt;&lt;br /&gt;I will note that I also use the Wellness dry food (about 1/4 to 1/2 cup out each night) for my 2 cats to eat between their canned meals.  This is also to keep them used to eating a little dry food in case I am in a situation where I cannot provide their can in the morning and night.  For your reference I feed my cats each 1/2 a can in the morning and 1/2 in the evening (so 2 cans total daily).  I am going to switch to the 12 oz cans though because they are much cheaper, you nearly double your canned food for the same price, I'm just going to buy a resealable lid and scoop out what is needed.&lt;br /&gt;&lt;br /&gt;And as a side note, my cats eat most of the food when I leave it out but they do not finish it all.  I do leave the food out for them to finish up which they usually do within 1-3 hours.  Some people say you should never do this, some say they will leave it out all day...in my experience over the 2 months I have noticed no mold, illness or rejection of this food being left out for a few hours for my cats.  The longest I've seen food remain in the is at the 7 hour mark and still, it was finished with no negative behaviors or effects noticed in either of my animals.&lt;br /&gt;&lt;br /&gt;I hope this review helps you and please be aware specifically of what goes into certain brands.  There are cheaper canned foods but they are not as good as this brand.  I've checked and tried a few.  This one is really different.  There are a few websites which explain the health benefits more precisely and if you won't take my word for it on this brand see for yourself.  Also, the cost is well worth the response you will get from your cat and when measured against prescription dry food it really hasn't been much different and the 12 oz sizes will make it even more affordable.  Be good to yourself and your pets!</td>\n",
       "      <td>Positive</td>\n",
       "      <td>7</td>\n",
       "    </tr>\n",
       "    <tr>\n",
       "      <th>433408</th>\n",
       "      <td>433409</td>\n",
       "      <td>B002UZW4LG</td>\n",
       "      <td>A3DMB38LUB5N38</td>\n",
       "      <td>D.D. \"&amp;#60;dd&amp;#62;\"</td>\n",
       "      <td>3</td>\n",
       "      <td>5</td>\n",
       "      <td>1295049600</td>\n",
       "      <td>Some objectionable ingredients for health consious individuals.</td>\n",
       "      <td>Expected something different. Unable to view entire ingredients before ordering, something I always do. I took a chance ordering because of the name, thinking that the use of the product name \"Trappist Monks\" would not put ingredients detrimental to health in the product. I am health consious and oppose partially hydrogenated vegetable oil and high fructose corn syrup. If you have no objection to these ingredients, than I guess the product is O.K. I personally would not purchase again.</td>\n",
       "      <td>Negative</td>\n",
       "      <td>7</td>\n",
       "    </tr>\n",
       "    <tr>\n",
       "      <th>437093</th>\n",
       "      <td>437094</td>\n",
       "      <td>B000WFPJIG</td>\n",
       "      <td>AIDL4DGVARK25</td>\n",
       "      <td>zooz</td>\n",
       "      <td>5</td>\n",
       "      <td>5</td>\n",
       "      <td>1298592000</td>\n",
       "      <td>Objective &amp; subjective (from a particular buyer)</td>\n",
       "      <td>This review is for the 24 pack of 3 Oz. cans of the Wellness Brand Cat Food.&lt;br /&gt;&lt;br /&gt;Objectively speaking...&lt;br /&gt;The cans are easy to ope and they have consistently arrived in excellent condition.  There are 24 cans at 3 oz. each.  That's all I can really say objectively about cat food.&lt;br /&gt;&lt;br /&gt;Subjectively speaking...&lt;br /&gt;I could not believe the difference in my cats after switching to a canned cat food from dry food.  My cats are 15 and 16 years old.  They are healthy indoor cats who are still active and playful with no real health problems aside from my 16 year old cat having minor diabetes.  I had been feeding a high priced prescription (vet recommended) dry food for the last 2 years only to have my 15 year old cat begin getting sick and regurgitating his food on a weekly basis.  I took my cat to the vet repeatedly asking why this might be a problem.  The vet simply told me that the cat may be a little under the weather or it was hairball related...which before had not been an issue.  After a conversation with a friend in Dec 2010 they emphatically recommended canned cat food.  I decided to do some research and was I glad that I did.  My cats have been eating canned food for 2 months now and here are the changes I've noticed.  My cat who was throwing up 2-4 times a week has only done so 4 times in 2 months (and I think that was because he was biting at some straw that I didn't know about), their fur is ridiculously softer...like I just spent an hour brushing them, now it feels that way all the time.  And although my cats are not prone to hairballs, my medium haired cat would get them on occasion and he has had only 1 very small one in 2 months as opposed to the weekly ones I'd find in the house.  They have more energy and they just seem happier in how they interact and the littler box has less to be cleaned up and quite frankly it smells less offensive than it did before.  Don't get me wrong...cat boxes smell but I've been told (and now I feel I can attest to this) that dry food would dehydrate a cat and it would enter a system and absorb odors from the body and carry them out into the cat box to amplify the foul odors.  Actual cat food like the Wellness brand (not many brands are grain or rice free)  gets more fully digested by the cat and does not contain grains and rices and other fillers that are expelled with the body.  I must say that I felt the fool not having taken more time to learn about the diet possibilities of my cats.&lt;br /&gt;&lt;br /&gt;I will note that I also use the Wellness dry food (about 1/4 to 1/2 cup out each night) for my 2 cats to eat between their canned meals.  This is also to keep them used to eating a little dry food in case I am in a situation where I cannot provide their can in the morning and night.  For your reference I feed my cats each 1/2 a can in the morning and 1/2 in the evening (so 2 cans total daily).  I am going to switch to the 12 oz cans though because they are much cheaper, you nearly double your canned food for the same price, I'm just going to buy a resealable lid and scoop out what is needed.&lt;br /&gt;&lt;br /&gt;And as a side note, my cats eat most of the food when I leave it out but they do not finish it all.  I do leave the food out for them to finish up which they usually do within 1-3 hours.  Some people say you should never do this, some say they will leave it out all day...in my experience over the 2 months I have noticed no mold, illness or rejection of this food being left out for a few hours for my cats.  The longest I've seen food remain in the is at the 7 hour mark and still, it was finished with no negative behaviors or effects noticed in either of my animals.&lt;br /&gt;&lt;br /&gt;I hope this review helps you and please be aware specifically of what goes into certain brands.  There are cheaper canned foods but they are not as good as this brand.  I've checked and tried a few.  This one is really different.  There are a few websites which explain the health benefits more precisely and if you won't take my word for it on this brand see for yourself.  Also, the cost is well worth the response you will get from your cat and when measured against prescription dry food it really hasn't been much different and the 12 oz sizes will make it even more affordable.  Be good to yourself and your pets!</td>\n",
       "      <td>Positive</td>\n",
       "      <td>7</td>\n",
       "    </tr>\n",
       "    <tr>\n",
       "      <th>486095</th>\n",
       "      <td>486096</td>\n",
       "      <td>B00008CQVA</td>\n",
       "      <td>AIDL4DGVARK25</td>\n",
       "      <td>zooz</td>\n",
       "      <td>5</td>\n",
       "      <td>5</td>\n",
       "      <td>1298592000</td>\n",
       "      <td>Objective &amp; subjective (from a particular buyer)</td>\n",
       "      <td>This review is for the 24 pack of 3 Oz. cans of the Wellness Brand Cat Food.&lt;br /&gt;&lt;br /&gt;Objectively speaking...&lt;br /&gt;The cans are easy to ope and they have consistently arrived in excellent condition.  There are 24 cans at 3 oz. each.  That's all I can really say objectively about cat food.&lt;br /&gt;&lt;br /&gt;Subjectively speaking...&lt;br /&gt;I could not believe the difference in my cats after switching to a canned cat food from dry food.  My cats are 15 and 16 years old.  They are healthy indoor cats who are still active and playful with no real health problems aside from my 16 year old cat having minor diabetes.  I had been feeding a high priced prescription (vet recommended) dry food for the last 2 years only to have my 15 year old cat begin getting sick and regurgitating his food on a weekly basis.  I took my cat to the vet repeatedly asking why this might be a problem.  The vet simply told me that the cat may be a little under the weather or it was hairball related...which before had not been an issue.  After a conversation with a friend in Dec 2010 they emphatically recommended canned cat food.  I decided to do some research and was I glad that I did.  My cats have been eating canned food for 2 months now and here are the changes I've noticed.  My cat who was throwing up 2-4 times a week has only done so 4 times in 2 months (and I think that was because he was biting at some straw that I didn't know about), their fur is ridiculously softer...like I just spent an hour brushing them, now it feels that way all the time.  And although my cats are not prone to hairballs, my medium haired cat would get them on occasion and he has had only 1 very small one in 2 months as opposed to the weekly ones I'd find in the house.  They have more energy and they just seem happier in how they interact and the littler box has less to be cleaned up and quite frankly it smells less offensive than it did before.  Don't get me wrong...cat boxes smell but I've been told (and now I feel I can attest to this) that dry food would dehydrate a cat and it would enter a system and absorb odors from the body and carry them out into the cat box to amplify the foul odors.  Actual cat food like the Wellness brand (not many brands are grain or rice free)  gets more fully digested by the cat and does not contain grains and rices and other fillers that are expelled with the body.  I must say that I felt the fool not having taken more time to learn about the diet possibilities of my cats.&lt;br /&gt;&lt;br /&gt;I will note that I also use the Wellness dry food (about 1/4 to 1/2 cup out each night) for my 2 cats to eat between their canned meals.  This is also to keep them used to eating a little dry food in case I am in a situation where I cannot provide their can in the morning and night.  For your reference I feed my cats each 1/2 a can in the morning and 1/2 in the evening (so 2 cans total daily).  I am going to switch to the 12 oz cans though because they are much cheaper, you nearly double your canned food for the same price, I'm just going to buy a resealable lid and scoop out what is needed.&lt;br /&gt;&lt;br /&gt;And as a side note, my cats eat most of the food when I leave it out but they do not finish it all.  I do leave the food out for them to finish up which they usually do within 1-3 hours.  Some people say you should never do this, some say they will leave it out all day...in my experience over the 2 months I have noticed no mold, illness or rejection of this food being left out for a few hours for my cats.  The longest I've seen food remain in the is at the 7 hour mark and still, it was finished with no negative behaviors or effects noticed in either of my animals.&lt;br /&gt;&lt;br /&gt;I hope this review helps you and please be aware specifically of what goes into certain brands.  There are cheaper canned foods but they are not as good as this brand.  I've checked and tried a few.  This one is really different.  There are a few websites which explain the health benefits more precisely and if you won't take my word for it on this brand see for yourself.  Also, the cost is well worth the response you will get from your cat and when measured against prescription dry food it really hasn't been much different and the 12 oz sizes will make it even more affordable.  Be good to yourself and your pets!</td>\n",
       "      <td>Positive</td>\n",
       "      <td>7</td>\n",
       "    </tr>\n",
       "    <tr>\n",
       "      <th>503049</th>\n",
       "      <td>503050</td>\n",
       "      <td>B000KIH8KM</td>\n",
       "      <td>A2DYMDOAJURO5F</td>\n",
       "      <td>Aceto \"Hope is a Weed Exasperatus: 1:18\"</td>\n",
       "      <td>2</td>\n",
       "      <td>2</td>\n",
       "      <td>1316822400</td>\n",
       "      <td>Make your own unless price is no object</td>\n",
       "      <td>This is one of the top makers in the world.  They also have premium herbs.  You see the white crocks in Williams-Sonoma and here at Amazon.  They make some of the best mustards in the world as well.  The problem is the import cost.  For the delivered price of this one SMALL ceramic cup, serving two people at most, I buy a half a case in Paris. The ceramic cups are nice and reusable.&lt;br /&gt;&lt;br /&gt;This is also their \"everyday\" mix.  Fine stuff without a doubt, but it is not their signature recette.  If cost matters to you, get a good double boiler, top grade melting chocolate and whatever flavorings.  I have to give all five stars for flavor, ease of use and for quality, but the price will drive most of us off. BUT...It is easy to reach for and will impress for a special occasion!</td>\n",
       "      <td>Positive</td>\n",
       "      <td>8</td>\n",
       "    </tr>\n",
       "    <tr>\n",
       "      <th>513037</th>\n",
       "      <td>513038</td>\n",
       "      <td>B000YT7EF6</td>\n",
       "      <td>AROPFTWDVH5QM</td>\n",
       "      <td>B. Houser</td>\n",
       "      <td>2</td>\n",
       "      <td>3</td>\n",
       "      <td>1235865600</td>\n",
       "      <td>From china?? foreign objects found</td>\n",
       "      <td>One star for never replying to my email in which I included a photograph of a foreign object I found in the first package (looked like a dark brown chunk of foam, along with a hair). I was very much concerned when reading the labels' country of origin that among three, included China (Somehow I doubt that Canada beat out China for pricing = most likely China). Although I'll never know for sure since they never responded to any of my questions/concerns. I wouldn't recommend this product if your concerned about food quality.</td>\n",
       "      <td>Negative</td>\n",
       "      <td>5</td>\n",
       "    </tr>\n",
       "  </tbody>\n",
       "</table>\n",
       "</div>"
      ],
      "text/plain": [
       "            Id   ProductId          UserId  \\\n",
       "7963      7964  B004WM0ZTS  A20EEWWSFMZ1PN   \n",
       "14597    14598  B0032BXUJM   AWEE52QL9WOR6   \n",
       "101269  101270  B000IUPND6   ALY6UJUJCXBRE   \n",
       "110620  110621  B00438XVGU  A20EEWWSFMZ1PN   \n",
       "115522  115523  B000WFUL3E   AIDL4DGVARK25   \n",
       "146490  146491  B000WFKWDI   AIDL4DGVARK25   \n",
       "171391  171392  B000WFORH0   AIDL4DGVARK25   \n",
       "191540  191541  B000WFN0VO   AIDL4DGVARK25   \n",
       "211242  211243  B000WFU8O6   AIDL4DGVARK25   \n",
       "221179  221180  B00269E0WW  A1L91NLNUQSOEW   \n",
       "241788  241789  B0081XPTBS  A24E01BFFPXZUS   \n",
       "274512  274513  B001SB2I9Q  A1L91NLNUQSOEW   \n",
       "277990  277991  B000WFKI82   AIDL4DGVARK25   \n",
       "301277  301278  B003Z6ZGZK  A20EEWWSFMZ1PN   \n",
       "320261  320262  B003Z6W32E  A20EEWWSFMZ1PN   \n",
       "343249  343250  B000WFEN74   AIDL4DGVARK25   \n",
       "352349  352350  B0045IO37Y   AWEE52QL9WOR6   \n",
       "357001  357002  B000WFRQQ4   AIDL4DGVARK25   \n",
       "358234  358235  B0032CJPOK  A24E01BFFPXZUS   \n",
       "383700  383701  B00451WLYI  A20EEWWSFMZ1PN   \n",
       "410246  410247  B000084EZ4   AIDL4DGVARK25   \n",
       "433408  433409  B002UZW4LG  A3DMB38LUB5N38   \n",
       "437093  437094  B000WFPJIG   AIDL4DGVARK25   \n",
       "486095  486096  B00008CQVA   AIDL4DGVARK25   \n",
       "503049  503050  B000KIH8KM  A2DYMDOAJURO5F   \n",
       "513037  513038  B000YT7EF6   AROPFTWDVH5QM   \n",
       "\n",
       "                                     ProfileName  HelpfulnessNumerator  \\\n",
       "7963                          bernie \"webviator\"                     4   \n",
       "14597                                Jason Perry                     2   \n",
       "101269                                      Andy                     1   \n",
       "110620                        bernie \"webviator\"                     3   \n",
       "115522                                      zooz                     5   \n",
       "146490                                      zooz                     5   \n",
       "171391                                      zooz                     5   \n",
       "191540                                      zooz                     5   \n",
       "211242                                      zooz                     5   \n",
       "221179                                  C. Rapha                     2   \n",
       "241788                                    Steven                     1   \n",
       "274512                                  C. Rapha                     3   \n",
       "277990                                      zooz                     5   \n",
       "301277                        bernie \"webviator\"                     3   \n",
       "320261                        bernie \"webviator\"                     3   \n",
       "343249                                      zooz                     5   \n",
       "352349                               Jason Perry                     2   \n",
       "357001                                      zooz                     5   \n",
       "358234                                    Steven                     1   \n",
       "383700                        bernie \"webviator\"                     3   \n",
       "410246                                      zooz                     5   \n",
       "433408                       D.D. \"&#60;dd&#62;\"                     3   \n",
       "437093                                      zooz                     5   \n",
       "486095                                      zooz                     5   \n",
       "503049  Aceto \"Hope is a Weed Exasperatus: 1:18\"                     2   \n",
       "513037                                 B. Houser                     2   \n",
       "\n",
       "        HelpfulnessDenominator        Time  \\\n",
       "7963                         5  1281830400   \n",
       "14597                        2  1335225600   \n",
       "101269                       1  1348531200   \n",
       "110620                       3  1342828800   \n",
       "115522                       5  1298592000   \n",
       "146490                       5  1298592000   \n",
       "171391                       5  1298592000   \n",
       "191540                       5  1298592000   \n",
       "211242                       5  1298592000   \n",
       "221179                      10  1292457600   \n",
       "241788                       4  1302652800   \n",
       "274512                      14  1292457600   \n",
       "277990                       5  1298592000   \n",
       "301277                       3  1342828800   \n",
       "320261                       3  1342828800   \n",
       "343249                       5  1298592000   \n",
       "352349                       2  1335225600   \n",
       "357001                       5  1298592000   \n",
       "358234                       4  1302652800   \n",
       "383700                       3  1342828800   \n",
       "410246                       5  1298592000   \n",
       "433408                       5  1295049600   \n",
       "437093                       5  1298592000   \n",
       "486095                       5  1298592000   \n",
       "503049                       2  1316822400   \n",
       "513037                       3  1235865600   \n",
       "\n",
       "                                                                Summary  \\\n",
       "7963                            Take a sharp object to defend your self   \n",
       "14597                                       The best k-cup, objectively   \n",
       "101269                                        Totally objective review.   \n",
       "110620                          Take a sharp object to defend your self   \n",
       "115522                 Objective & subjective (from a particular buyer)   \n",
       "146490                 Objective & subjective (from a particular buyer)   \n",
       "171391                 Objective & subjective (from a particular buyer)   \n",
       "191540                 Objective & subjective (from a particular buyer)   \n",
       "211242                 Objective & subjective (from a particular buyer)   \n",
       "221179                       Watch out for foreign objects in chocolate   \n",
       "241788                                      I found some foreign object   \n",
       "274512           Be careful of foreign objects, i almost broke my tooth   \n",
       "277990                 Objective & subjective (from a particular buyer)   \n",
       "301277                          Take a sharp object to defend your self   \n",
       "320261                          Take a sharp object to defend your self   \n",
       "343249                 Objective & subjective (from a particular buyer)   \n",
       "352349                                      The best k-cup, objectively   \n",
       "357001                 Objective & subjective (from a particular buyer)   \n",
       "358234                                      I found some foreign object   \n",
       "383700                          Take a sharp object to defend your self   \n",
       "410246                 Objective & subjective (from a particular buyer)   \n",
       "433408  Some objectionable ingredients for health consious individuals.   \n",
       "437093                 Objective & subjective (from a particular buyer)   \n",
       "486095                 Objective & subjective (from a particular buyer)   \n",
       "503049                          Make your own unless price is no object   \n",
       "513037                               From china?? foreign objects found   \n",
       "\n",
       "                                                                                                                                                                                                                                                                                                                                                                                                                                                                                                                                                                                                                                                                                                                                                                                                                                                                                                                                                                                                                                                                                                                                                                                                                                                                                                                                                                                                                                                                                                                                                                                                                                                                                                                                                                                                                                                                                                                                                                                                                                                                                                                                                                                                                                                                                                                                                                                                                                                                                                                                                                                                                                                                                                                                                                                                                                                                                                                                                                                                                                                                                                                                                                                                                                                                                                                                                                                                                                                                                                                                                                                                                                                                                                                                                                                                                                                                                                                                                                                                                                                                                                                                                                                                                                                                                                                                                                                                                                                                                          Text  \\\n",
       "7963                                                                                                                                                                                                                                                                                                                                                                                                                                                                                                                                                                                                                                                                                                                                                                                                                                                                                                                                                                                                                                                                                                                                                                                                                                                                                                                                                                                                                                                                                                                                                                                                                                                                                                                                                                                                                                                                                                                                                                                                                                                                                                                                                                                                                                                                                                                                                                                                                                                                                                                                                                                                                                                                                                                                                                                                                                                                                                                                                                                                                                                                                                                                                                                                 Unlike most people, I prefer not a weak coffee but a milder roast than the burnt stuff most coffee houses make that requires many accoutrements to mask like cream, sugar and artificial flavors. Therefore, I purposely only tried the Columbian.<br /><br />I work in a place that has poorly serviced coffee \"dispensing machines.\" They are fun in that you never know what will come out in a day-to-day basis. Some time just your coins back. A few people have illicit electric coffee pots, others use a French press, and still others sneak out for the real thing.<br /><br />Now that I discovered the Columbian Via. I have to defend my cup from all those noses that circle my cup. I know there are directions on the pack; however, I now have my own ritual.  Clean cup, fill 2/3rds filtered water. 90 seconds in the microwave.  Shake contents to bottom of pack.  Rip the whole top off the pack with teeth.  Pour pack in coup and watch sizzle. Stir for a few seconds.  Add a tad of ice. Hope I can make it back to my desk before the cup empties.<br /><br />I was never a fan of reconstituted coffee however I think it is the addition of the micro-ground coffee that adds the edge necessary.<br /><br />In any event you owe it to yourself to try it.   \n",
       "14597                                                                                                                                                                                                                                                                                                                                                                                                                                                                                                                                                                                                                                                                                                                                                                                                                                                                                                                                                                                                                                                                                                                                                                                                                                                                                                                                                                                                                                                                                                                                                                                                                                                                                                                                                                                                                                                                                                                                                                                                                                                                                                                                                                                                                                                                                                                                                                                                                                                                                                                                                                                                                                                                                                                                                                                                                                                                                                                                                                                                                                                                                                                                                                                                                                                                                                                                                                                                                                                                      Look, I'm aware that every K-cup variety has a review saying \"This is the best K-cup.\" But I know what I'm talking about, okay? We all know the kind of people whose favorite flavor is Caramel Vanilla Creme, or heaven forbid, \"Cappuccino\". I'm not talking to them. I don't use cutesy cliches like \"cuppa joe\" or \"packs a punch\". This is also not one of those stupid reviews that claims \"This is the best cup of coffee I EVER DRANK\", because we know K-Cups cannot really compete with fresh-roasted beans. But if you drink K-Cups and you have some discriminating taste in coffee, get this one. Emeril's bold is nice and bold, dark but not too dark, the flavor has some dimension besides \"burnt\"...trust me.<br /><br />P.S. If you did happen to brew any of those flavored kinds in your machine, because it's a shared machine or your mom got you a variety pack or something, brew a cup of water through first. Then look at all the stuff floating in it, and consider yourself educated.   \n",
       "101269                                                                                                                                                                                                                                                                                                                                                                                                                                                                                                                                                                                                                                                                                                                                                                                                                                                                                                                                                                                                                                                                                                                                                                                                                                                                                                                                                                                                                                                                                                                                                                                                                                                                                                                                                                                                                                                                                                                                                                                                                                                                                                                                                                                                                                                                                                                                                                                                                                                                                                                                                                                                                                                                                                                                                                                                                                                                                                                                                                                                                                                                                                                                                                                                                                                                                                                                                                                                                                                                                                                                                                                       Okay, so at first, when I bought it and tried it, I was like, \"holy crap, this tastes odd...\" then I put a little more and then I was like, \"Holy crap, this tastes like crap! I wasted my money!\"<br /><br />I was getting ready to throw it away but I bought 2 bottles of seltzer water and I was like, \"Oh, hell, I'll just drink it. Then, I put a fairly modest amount and started drinking it and then it sort of grew on me.<br /><br />I mean, it's a sort of light taste and it leaves a bit of an after taste, but it's really not that bad.<br /><br />From my personal experience, I hated it and then found out it wasn't too bad.<br /><br />IT DEFINITELY WILL NOT TASTE EXACTLY LIKE ROOT BEER! DON'T HAVE ANY DELUSIONS! I'd suggest you give it a try, though. It's really not that bad... and if it is, experiment and drink it a few more times and it might grow on you :D!   \n",
       "110620                                                                                                                                                                                                                                                                                                                                                                                                                                                                                                                                                                                                                                                                                                                                                                                                                                                                                                                                                                                                                                                                                                                                                                                                                                                                                                                                                                                                                                                                                                                                                                                                                                                                                                                                                                                                                                                                                                                                                                                                                                                                                                                                                                                                                                                                                                                                                                                                                                                                                                                                                                                                                                                                                                                                                                                                                                                                                                                                                                                                                                                                                                                                                                                                    Unlike most people, I prefer not a weak coffee but a milder roast than the burnt stuff most coffee houses make that requires many accoutrements to mask like cream, sugar and artificial flavors. Therefore, I purposely only tried the Columbian.<br /><br />I work in a place that has poorly serviced coffee \"dispensing machines.\" They are fun in that you never know what will come out in a day-to-day basis. Some time just your coins back. A few people have illicit electric coffee pots, others use a French press, and still others sneak out for the real thing.<br /><br />Now that I discovered the Columbian Via. I have to defend my cup from all those noses that circle my cup. I know there are directions on the pack; however, I now have my own ritual. Clean cup, fill 2/3rds filtered water. 90 seconds in the microwave. Shake contents to bottom of pack. Rip the whole top off the pack with teeth. Pour pack in coup and watch sizzle. Stir for a few seconds. Add a tad of ice. Hope I can make it back to my desk before the cup empties.<br /><br />I was never a fan of reconstituted coffee however I think it is the addition of the micro-ground coffee that adds the edge necessary.<br /><br />In any event you owe it to yourself to try it.   \n",
       "115522  This review is for the 24 pack of 3 Oz. cans of the Wellness Brand Cat Food.<br /><br />Objectively speaking...<br />The cans are easy to ope and they have consistently arrived in excellent condition.  There are 24 cans at 3 oz. each.  That's all I can really say objectively about cat food.<br /><br />Subjectively speaking...<br />I could not believe the difference in my cats after switching to a canned cat food from dry food.  My cats are 15 and 16 years old.  They are healthy indoor cats who are still active and playful with no real health problems aside from my 16 year old cat having minor diabetes.  I had been feeding a high priced prescription (vet recommended) dry food for the last 2 years only to have my 15 year old cat begin getting sick and regurgitating his food on a weekly basis.  I took my cat to the vet repeatedly asking why this might be a problem.  The vet simply told me that the cat may be a little under the weather or it was hairball related...which before had not been an issue.  After a conversation with a friend in Dec 2010 they emphatically recommended canned cat food.  I decided to do some research and was I glad that I did.  My cats have been eating canned food for 2 months now and here are the changes I've noticed.  My cat who was throwing up 2-4 times a week has only done so 4 times in 2 months (and I think that was because he was biting at some straw that I didn't know about), their fur is ridiculously softer...like I just spent an hour brushing them, now it feels that way all the time.  And although my cats are not prone to hairballs, my medium haired cat would get them on occasion and he has had only 1 very small one in 2 months as opposed to the weekly ones I'd find in the house.  They have more energy and they just seem happier in how they interact and the littler box has less to be cleaned up and quite frankly it smells less offensive than it did before.  Don't get me wrong...cat boxes smell but I've been told (and now I feel I can attest to this) that dry food would dehydrate a cat and it would enter a system and absorb odors from the body and carry them out into the cat box to amplify the foul odors.  Actual cat food like the Wellness brand (not many brands are grain or rice free)  gets more fully digested by the cat and does not contain grains and rices and other fillers that are expelled with the body.  I must say that I felt the fool not having taken more time to learn about the diet possibilities of my cats.<br /><br />I will note that I also use the Wellness dry food (about 1/4 to 1/2 cup out each night) for my 2 cats to eat between their canned meals.  This is also to keep them used to eating a little dry food in case I am in a situation where I cannot provide their can in the morning and night.  For your reference I feed my cats each 1/2 a can in the morning and 1/2 in the evening (so 2 cans total daily).  I am going to switch to the 12 oz cans though because they are much cheaper, you nearly double your canned food for the same price, I'm just going to buy a resealable lid and scoop out what is needed.<br /><br />And as a side note, my cats eat most of the food when I leave it out but they do not finish it all.  I do leave the food out for them to finish up which they usually do within 1-3 hours.  Some people say you should never do this, some say they will leave it out all day...in my experience over the 2 months I have noticed no mold, illness or rejection of this food being left out for a few hours for my cats.  The longest I've seen food remain in the is at the 7 hour mark and still, it was finished with no negative behaviors or effects noticed in either of my animals.<br /><br />I hope this review helps you and please be aware specifically of what goes into certain brands.  There are cheaper canned foods but they are not as good as this brand.  I've checked and tried a few.  This one is really different.  There are a few websites which explain the health benefits more precisely and if you won't take my word for it on this brand see for yourself.  Also, the cost is well worth the response you will get from your cat and when measured against prescription dry food it really hasn't been much different and the 12 oz sizes will make it even more affordable.  Be good to yourself and your pets!   \n",
       "146490  This review is for the 24 pack of 3 Oz. cans of the Wellness Brand Cat Food.<br /><br />Objectively speaking...<br />The cans are easy to ope and they have consistently arrived in excellent condition.  There are 24 cans at 3 oz. each.  That's all I can really say objectively about cat food.<br /><br />Subjectively speaking...<br />I could not believe the difference in my cats after switching to a canned cat food from dry food.  My cats are 15 and 16 years old.  They are healthy indoor cats who are still active and playful with no real health problems aside from my 16 year old cat having minor diabetes.  I had been feeding a high priced prescription (vet recommended) dry food for the last 2 years only to have my 15 year old cat begin getting sick and regurgitating his food on a weekly basis.  I took my cat to the vet repeatedly asking why this might be a problem.  The vet simply told me that the cat may be a little under the weather or it was hairball related...which before had not been an issue.  After a conversation with a friend in Dec 2010 they emphatically recommended canned cat food.  I decided to do some research and was I glad that I did.  My cats have been eating canned food for 2 months now and here are the changes I've noticed.  My cat who was throwing up 2-4 times a week has only done so 4 times in 2 months (and I think that was because he was biting at some straw that I didn't know about), their fur is ridiculously softer...like I just spent an hour brushing them, now it feels that way all the time.  And although my cats are not prone to hairballs, my medium haired cat would get them on occasion and he has had only 1 very small one in 2 months as opposed to the weekly ones I'd find in the house.  They have more energy and they just seem happier in how they interact and the littler box has less to be cleaned up and quite frankly it smells less offensive than it did before.  Don't get me wrong...cat boxes smell but I've been told (and now I feel I can attest to this) that dry food would dehydrate a cat and it would enter a system and absorb odors from the body and carry them out into the cat box to amplify the foul odors.  Actual cat food like the Wellness brand (not many brands are grain or rice free)  gets more fully digested by the cat and does not contain grains and rices and other fillers that are expelled with the body.  I must say that I felt the fool not having taken more time to learn about the diet possibilities of my cats.<br /><br />I will note that I also use the Wellness dry food (about 1/4 to 1/2 cup out each night) for my 2 cats to eat between their canned meals.  This is also to keep them used to eating a little dry food in case I am in a situation where I cannot provide their can in the morning and night.  For your reference I feed my cats each 1/2 a can in the morning and 1/2 in the evening (so 2 cans total daily).  I am going to switch to the 12 oz cans though because they are much cheaper, you nearly double your canned food for the same price, I'm just going to buy a resealable lid and scoop out what is needed.<br /><br />And as a side note, my cats eat most of the food when I leave it out but they do not finish it all.  I do leave the food out for them to finish up which they usually do within 1-3 hours.  Some people say you should never do this, some say they will leave it out all day...in my experience over the 2 months I have noticed no mold, illness or rejection of this food being left out for a few hours for my cats.  The longest I've seen food remain in the is at the 7 hour mark and still, it was finished with no negative behaviors or effects noticed in either of my animals.<br /><br />I hope this review helps you and please be aware specifically of what goes into certain brands.  There are cheaper canned foods but they are not as good as this brand.  I've checked and tried a few.  This one is really different.  There are a few websites which explain the health benefits more precisely and if you won't take my word for it on this brand see for yourself.  Also, the cost is well worth the response you will get from your cat and when measured against prescription dry food it really hasn't been much different and the 12 oz sizes will make it even more affordable.  Be good to yourself and your pets!   \n",
       "171391  This review is for the 24 pack of 3 Oz. cans of the Wellness Brand Cat Food.<br /><br />Objectively speaking...<br />The cans are easy to ope and they have consistently arrived in excellent condition.  There are 24 cans at 3 oz. each.  That's all I can really say objectively about cat food.<br /><br />Subjectively speaking...<br />I could not believe the difference in my cats after switching to a canned cat food from dry food.  My cats are 15 and 16 years old.  They are healthy indoor cats who are still active and playful with no real health problems aside from my 16 year old cat having minor diabetes.  I had been feeding a high priced prescription (vet recommended) dry food for the last 2 years only to have my 15 year old cat begin getting sick and regurgitating his food on a weekly basis.  I took my cat to the vet repeatedly asking why this might be a problem.  The vet simply told me that the cat may be a little under the weather or it was hairball related...which before had not been an issue.  After a conversation with a friend in Dec 2010 they emphatically recommended canned cat food.  I decided to do some research and was I glad that I did.  My cats have been eating canned food for 2 months now and here are the changes I've noticed.  My cat who was throwing up 2-4 times a week has only done so 4 times in 2 months (and I think that was because he was biting at some straw that I didn't know about), their fur is ridiculously softer...like I just spent an hour brushing them, now it feels that way all the time.  And although my cats are not prone to hairballs, my medium haired cat would get them on occasion and he has had only 1 very small one in 2 months as opposed to the weekly ones I'd find in the house.  They have more energy and they just seem happier in how they interact and the littler box has less to be cleaned up and quite frankly it smells less offensive than it did before.  Don't get me wrong...cat boxes smell but I've been told (and now I feel I can attest to this) that dry food would dehydrate a cat and it would enter a system and absorb odors from the body and carry them out into the cat box to amplify the foul odors.  Actual cat food like the Wellness brand (not many brands are grain or rice free)  gets more fully digested by the cat and does not contain grains and rices and other fillers that are expelled with the body.  I must say that I felt the fool not having taken more time to learn about the diet possibilities of my cats.<br /><br />I will note that I also use the Wellness dry food (about 1/4 to 1/2 cup out each night) for my 2 cats to eat between their canned meals.  This is also to keep them used to eating a little dry food in case I am in a situation where I cannot provide their can in the morning and night.  For your reference I feed my cats each 1/2 a can in the morning and 1/2 in the evening (so 2 cans total daily).  I am going to switch to the 12 oz cans though because they are much cheaper, you nearly double your canned food for the same price, I'm just going to buy a resealable lid and scoop out what is needed.<br /><br />And as a side note, my cats eat most of the food when I leave it out but they do not finish it all.  I do leave the food out for them to finish up which they usually do within 1-3 hours.  Some people say you should never do this, some say they will leave it out all day...in my experience over the 2 months I have noticed no mold, illness or rejection of this food being left out for a few hours for my cats.  The longest I've seen food remain in the is at the 7 hour mark and still, it was finished with no negative behaviors or effects noticed in either of my animals.<br /><br />I hope this review helps you and please be aware specifically of what goes into certain brands.  There are cheaper canned foods but they are not as good as this brand.  I've checked and tried a few.  This one is really different.  There are a few websites which explain the health benefits more precisely and if you won't take my word for it on this brand see for yourself.  Also, the cost is well worth the response you will get from your cat and when measured against prescription dry food it really hasn't been much different and the 12 oz sizes will make it even more affordable.  Be good to yourself and your pets!   \n",
       "191540  This review is for the 24 pack of 3 Oz. cans of the Wellness Brand Cat Food.<br /><br />Objectively speaking...<br />The cans are easy to ope and they have consistently arrived in excellent condition.  There are 24 cans at 3 oz. each.  That's all I can really say objectively about cat food.<br /><br />Subjectively speaking...<br />I could not believe the difference in my cats after switching to a canned cat food from dry food.  My cats are 15 and 16 years old.  They are healthy indoor cats who are still active and playful with no real health problems aside from my 16 year old cat having minor diabetes.  I had been feeding a high priced prescription (vet recommended) dry food for the last 2 years only to have my 15 year old cat begin getting sick and regurgitating his food on a weekly basis.  I took my cat to the vet repeatedly asking why this might be a problem.  The vet simply told me that the cat may be a little under the weather or it was hairball related...which before had not been an issue.  After a conversation with a friend in Dec 2010 they emphatically recommended canned cat food.  I decided to do some research and was I glad that I did.  My cats have been eating canned food for 2 months now and here are the changes I've noticed.  My cat who was throwing up 2-4 times a week has only done so 4 times in 2 months (and I think that was because he was biting at some straw that I didn't know about), their fur is ridiculously softer...like I just spent an hour brushing them, now it feels that way all the time.  And although my cats are not prone to hairballs, my medium haired cat would get them on occasion and he has had only 1 very small one in 2 months as opposed to the weekly ones I'd find in the house.  They have more energy and they just seem happier in how they interact and the littler box has less to be cleaned up and quite frankly it smells less offensive than it did before.  Don't get me wrong...cat boxes smell but I've been told (and now I feel I can attest to this) that dry food would dehydrate a cat and it would enter a system and absorb odors from the body and carry them out into the cat box to amplify the foul odors.  Actual cat food like the Wellness brand (not many brands are grain or rice free)  gets more fully digested by the cat and does not contain grains and rices and other fillers that are expelled with the body.  I must say that I felt the fool not having taken more time to learn about the diet possibilities of my cats.<br /><br />I will note that I also use the Wellness dry food (about 1/4 to 1/2 cup out each night) for my 2 cats to eat between their canned meals.  This is also to keep them used to eating a little dry food in case I am in a situation where I cannot provide their can in the morning and night.  For your reference I feed my cats each 1/2 a can in the morning and 1/2 in the evening (so 2 cans total daily).  I am going to switch to the 12 oz cans though because they are much cheaper, you nearly double your canned food for the same price, I'm just going to buy a resealable lid and scoop out what is needed.<br /><br />And as a side note, my cats eat most of the food when I leave it out but they do not finish it all.  I do leave the food out for them to finish up which they usually do within 1-3 hours.  Some people say you should never do this, some say they will leave it out all day...in my experience over the 2 months I have noticed no mold, illness or rejection of this food being left out for a few hours for my cats.  The longest I've seen food remain in the is at the 7 hour mark and still, it was finished with no negative behaviors or effects noticed in either of my animals.<br /><br />I hope this review helps you and please be aware specifically of what goes into certain brands.  There are cheaper canned foods but they are not as good as this brand.  I've checked and tried a few.  This one is really different.  There are a few websites which explain the health benefits more precisely and if you won't take my word for it on this brand see for yourself.  Also, the cost is well worth the response you will get from your cat and when measured against prescription dry food it really hasn't been much different and the 12 oz sizes will make it even more affordable.  Be good to yourself and your pets!   \n",
       "211242  This review is for the 24 pack of 3 Oz. cans of the Wellness Brand Cat Food.<br /><br />Objectively speaking...<br />The cans are easy to ope and they have consistently arrived in excellent condition.  There are 24 cans at 3 oz. each.  That's all I can really say objectively about cat food.<br /><br />Subjectively speaking...<br />I could not believe the difference in my cats after switching to a canned cat food from dry food.  My cats are 15 and 16 years old.  They are healthy indoor cats who are still active and playful with no real health problems aside from my 16 year old cat having minor diabetes.  I had been feeding a high priced prescription (vet recommended) dry food for the last 2 years only to have my 15 year old cat begin getting sick and regurgitating his food on a weekly basis.  I took my cat to the vet repeatedly asking why this might be a problem.  The vet simply told me that the cat may be a little under the weather or it was hairball related...which before had not been an issue.  After a conversation with a friend in Dec 2010 they emphatically recommended canned cat food.  I decided to do some research and was I glad that I did.  My cats have been eating canned food for 2 months now and here are the changes I've noticed.  My cat who was throwing up 2-4 times a week has only done so 4 times in 2 months (and I think that was because he was biting at some straw that I didn't know about), their fur is ridiculously softer...like I just spent an hour brushing them, now it feels that way all the time.  And although my cats are not prone to hairballs, my medium haired cat would get them on occasion and he has had only 1 very small one in 2 months as opposed to the weekly ones I'd find in the house.  They have more energy and they just seem happier in how they interact and the littler box has less to be cleaned up and quite frankly it smells less offensive than it did before.  Don't get me wrong...cat boxes smell but I've been told (and now I feel I can attest to this) that dry food would dehydrate a cat and it would enter a system and absorb odors from the body and carry them out into the cat box to amplify the foul odors.  Actual cat food like the Wellness brand (not many brands are grain or rice free)  gets more fully digested by the cat and does not contain grains and rices and other fillers that are expelled with the body.  I must say that I felt the fool not having taken more time to learn about the diet possibilities of my cats.<br /><br />I will note that I also use the Wellness dry food (about 1/4 to 1/2 cup out each night) for my 2 cats to eat between their canned meals.  This is also to keep them used to eating a little dry food in case I am in a situation where I cannot provide their can in the morning and night.  For your reference I feed my cats each 1/2 a can in the morning and 1/2 in the evening (so 2 cans total daily).  I am going to switch to the 12 oz cans though because they are much cheaper, you nearly double your canned food for the same price, I'm just going to buy a resealable lid and scoop out what is needed.<br /><br />And as a side note, my cats eat most of the food when I leave it out but they do not finish it all.  I do leave the food out for them to finish up which they usually do within 1-3 hours.  Some people say you should never do this, some say they will leave it out all day...in my experience over the 2 months I have noticed no mold, illness or rejection of this food being left out for a few hours for my cats.  The longest I've seen food remain in the is at the 7 hour mark and still, it was finished with no negative behaviors or effects noticed in either of my animals.<br /><br />I hope this review helps you and please be aware specifically of what goes into certain brands.  There are cheaper canned foods but they are not as good as this brand.  I've checked and tried a few.  This one is really different.  There are a few websites which explain the health benefits more precisely and if you won't take my word for it on this brand see for yourself.  Also, the cost is well worth the response you will get from your cat and when measured against prescription dry food it really hasn't been much different and the 12 oz sizes will make it even more affordable.  Be good to yourself and your pets!   \n",
       "221179                                                                                                                                                                                                                                                                                                                                                                                                                                                                                                                                                                                                                                                                                                                                                                                                                                                                                                                                                                                                                                                                                                                                                                                                                                                                                                                                                                                                                                                                                                                                                                                                                                                                                                                                                                                                                                                                                                                                                                                                                                                                                                                                                                                                                                                                                                                                                                                                                                                                                                                                                                                                                                                                                                                                                                                                                                                                                                                                                                                                                                                                                                                                                                                                                                                                                                                                                                                                                                                                                                                                                                                                                                                                                                                                                                                                                                                                                                                                                                                                              I recently bought a bag of these from the store near my house.  It tasted yummy.  However when I was sampling it, I almost broke my tooth.  There was a metal button in with the chocolate.  It was hard to get hold of them to tell them of my problem.  If you find something they want to get it away from you fast and give you a small amount of money.  I didnt like how they handled it.  Customer service is really unsatisfying so dont bother.  JUST BE CAREFUL!   \n",
       "241788                                                                                                                                                                                                                                                                                                                                                                                                                                                                                                                                                                                                                                                                                                                                                                                                                                                                                                                                                                                                                                                                                                                                                                                                                                                                                                                                                                                                                                                                                                                                                                                                                                                                                                                                                                                                                                                                                                                                                                                                                                                                                                                                                                                                                                                                                                                                                                                                                                                                                                                                                                                                                                                                                                                                                                                                                                                                                                                                                                                                                                                                                                                                                                                                                                                                                                                                                                                                                                                                                                                                                                                                                                                                                                                                                                                                                                                                                                                                                                                                                                                                                                                                                                                                                                                                                                                    I don't write a review but I think I have to as a parent. I found some grey stuff (0.2cm) when I opened the can. I'll never recommned this product to anybody again.   \n",
       "274512                                                                                                                                                                                                                                                                                                                                                                                                                                                                                                                                                                                                                                                                                                                                                                                                                                                                                                                                                                                                                                                                                                                                                                                                                                                                                                                                                                                                                                                                                                                                                                                                                                                                                                                                                                                                                                                                                                                                                                                                                                                                                                                                                                                                                                                                                                                                                                                                                                                                                                                                                                                                                                                                                                                                                                                                                                                                                                                                                                                                                                                                                                                                                                                                                                                                                                                                                                                                                                                                                                                                                                                                                                                                                                                                                                                                                                                                                                                                                                                              I recently bought a bag of these from the store near my house.  It tasted yummy.  However when I was sampling it, I almost broke my tooth.  There was a metal button in with the chocolate.  It was hard to get hold of them to tell them of my problem.  If you find something they want to get it away from you fast and give you a small amount of money.  I didnt like how they handled it.  Customer service is really unsatisfying so dont bother.  JUST BE CAREFUL before you chew.   \n",
       "277990  This review is for the 24 pack of 3 Oz. cans of the Wellness Brand Cat Food.<br /><br />Objectively speaking...<br />The cans are easy to ope and they have consistently arrived in excellent condition.  There are 24 cans at 3 oz. each.  That's all I can really say objectively about cat food.<br /><br />Subjectively speaking...<br />I could not believe the difference in my cats after switching to a canned cat food from dry food.  My cats are 15 and 16 years old.  They are healthy indoor cats who are still active and playful with no real health problems aside from my 16 year old cat having minor diabetes.  I had been feeding a high priced prescription (vet recommended) dry food for the last 2 years only to have my 15 year old cat begin getting sick and regurgitating his food on a weekly basis.  I took my cat to the vet repeatedly asking why this might be a problem.  The vet simply told me that the cat may be a little under the weather or it was hairball related...which before had not been an issue.  After a conversation with a friend in Dec 2010 they emphatically recommended canned cat food.  I decided to do some research and was I glad that I did.  My cats have been eating canned food for 2 months now and here are the changes I've noticed.  My cat who was throwing up 2-4 times a week has only done so 4 times in 2 months (and I think that was because he was biting at some straw that I didn't know about), their fur is ridiculously softer...like I just spent an hour brushing them, now it feels that way all the time.  And although my cats are not prone to hairballs, my medium haired cat would get them on occasion and he has had only 1 very small one in 2 months as opposed to the weekly ones I'd find in the house.  They have more energy and they just seem happier in how they interact and the littler box has less to be cleaned up and quite frankly it smells less offensive than it did before.  Don't get me wrong...cat boxes smell but I've been told (and now I feel I can attest to this) that dry food would dehydrate a cat and it would enter a system and absorb odors from the body and carry them out into the cat box to amplify the foul odors.  Actual cat food like the Wellness brand (not many brands are grain or rice free)  gets more fully digested by the cat and does not contain grains and rices and other fillers that are expelled with the body.  I must say that I felt the fool not having taken more time to learn about the diet possibilities of my cats.<br /><br />I will note that I also use the Wellness dry food (about 1/4 to 1/2 cup out each night) for my 2 cats to eat between their canned meals.  This is also to keep them used to eating a little dry food in case I am in a situation where I cannot provide their can in the morning and night.  For your reference I feed my cats each 1/2 a can in the morning and 1/2 in the evening (so 2 cans total daily).  I am going to switch to the 12 oz cans though because they are much cheaper, you nearly double your canned food for the same price, I'm just going to buy a resealable lid and scoop out what is needed.<br /><br />And as a side note, my cats eat most of the food when I leave it out but they do not finish it all.  I do leave the food out for them to finish up which they usually do within 1-3 hours.  Some people say you should never do this, some say they will leave it out all day...in my experience over the 2 months I have noticed no mold, illness or rejection of this food being left out for a few hours for my cats.  The longest I've seen food remain in the is at the 7 hour mark and still, it was finished with no negative behaviors or effects noticed in either of my animals.<br /><br />I hope this review helps you and please be aware specifically of what goes into certain brands.  There are cheaper canned foods but they are not as good as this brand.  I've checked and tried a few.  This one is really different.  There are a few websites which explain the health benefits more precisely and if you won't take my word for it on this brand see for yourself.  Also, the cost is well worth the response you will get from your cat and when measured against prescription dry food it really hasn't been much different and the 12 oz sizes will make it even more affordable.  Be good to yourself and your pets!   \n",
       "301277                                                                                                                                                                                                                                                                                                                                                                                                                                                                                                                                                                                                                                                                                                                                                                                                                                                                                                                                                                                                                                                                                                                                                                                                                                                                                                                                                                                                                                                                                                                                                                                                                                                                                                                                                                                                                                                                                                                                                                                                                                                                                                                                                                                                                                                                                                                                                                                                                                                                                                                                                                                                                                                                                                                                                                                                                                                                                                                                                                                                                                                                                                                                                                                                    Unlike most people, I prefer not a weak coffee but a milder roast than the burnt stuff most coffee houses make that requires many accoutrements to mask like cream, sugar and artificial flavors. Therefore, I purposely only tried the Columbian.<br /><br />I work in a place that has poorly serviced coffee \"dispensing machines.\" They are fun in that you never know what will come out in a day-to-day basis. Some time just your coins back. A few people have illicit electric coffee pots, others use a French press, and still others sneak out for the real thing.<br /><br />Now that I discovered the Columbian Via. I have to defend my cup from all those noses that circle my cup. I know there are directions on the pack; however, I now have my own ritual. Clean cup, fill 2/3rds filtered water. 90 seconds in the microwave. Shake contents to bottom of pack. Rip the whole top off the pack with teeth. Pour pack in coup and watch sizzle. Stir for a few seconds. Add a tad of ice. Hope I can make it back to my desk before the cup empties.<br /><br />I was never a fan of reconstituted coffee however I think it is the addition of the micro-ground coffee that adds the edge necessary.<br /><br />In any event you owe it to yourself to try it.   \n",
       "320261                                                                                                                                                                                                                                                                                                                                                                                                                                                                                                                                                                                                                                                                                                                                                                                                                                                                                                                                                                                                                                                                                                                                                                                                                                                                                                                                                                                                                                                                                                                                                                                                                                                                                                                                                                                                                                                                                                                                                                                                                                                                                                                                                                                                                                                                                                                                                                                                                                                                                                                                                                                                                                                                                                                                                                                                                                                                                                                                                                                                                                                                                                                                                                                                    Unlike most people, I prefer not a weak coffee but a milder roast than the burnt stuff most coffee houses make that requires many accoutrements to mask like cream, sugar and artificial flavors. Therefore, I purposely only tried the Columbian.<br /><br />I work in a place that has poorly serviced coffee \"dispensing machines.\" They are fun in that you never know what will come out in a day-to-day basis. Some time just your coins back. A few people have illicit electric coffee pots, others use a French press, and still others sneak out for the real thing.<br /><br />Now that I discovered the Columbian Via. I have to defend my cup from all those noses that circle my cup. I know there are directions on the pack; however, I now have my own ritual. Clean cup, fill 2/3rds filtered water. 90 seconds in the microwave. Shake contents to bottom of pack. Rip the whole top off the pack with teeth. Pour pack in coup and watch sizzle. Stir for a few seconds. Add a tad of ice. Hope I can make it back to my desk before the cup empties.<br /><br />I was never a fan of reconstituted coffee however I think it is the addition of the micro-ground coffee that adds the edge necessary.<br /><br />In any event you owe it to yourself to try it.   \n",
       "343249  This review is for the 24 pack of 3 Oz. cans of the Wellness Brand Cat Food.<br /><br />Objectively speaking...<br />The cans are easy to ope and they have consistently arrived in excellent condition.  There are 24 cans at 3 oz. each.  That's all I can really say objectively about cat food.<br /><br />Subjectively speaking...<br />I could not believe the difference in my cats after switching to a canned cat food from dry food.  My cats are 15 and 16 years old.  They are healthy indoor cats who are still active and playful with no real health problems aside from my 16 year old cat having minor diabetes.  I had been feeding a high priced prescription (vet recommended) dry food for the last 2 years only to have my 15 year old cat begin getting sick and regurgitating his food on a weekly basis.  I took my cat to the vet repeatedly asking why this might be a problem.  The vet simply told me that the cat may be a little under the weather or it was hairball related...which before had not been an issue.  After a conversation with a friend in Dec 2010 they emphatically recommended canned cat food.  I decided to do some research and was I glad that I did.  My cats have been eating canned food for 2 months now and here are the changes I've noticed.  My cat who was throwing up 2-4 times a week has only done so 4 times in 2 months (and I think that was because he was biting at some straw that I didn't know about), their fur is ridiculously softer...like I just spent an hour brushing them, now it feels that way all the time.  And although my cats are not prone to hairballs, my medium haired cat would get them on occasion and he has had only 1 very small one in 2 months as opposed to the weekly ones I'd find in the house.  They have more energy and they just seem happier in how they interact and the littler box has less to be cleaned up and quite frankly it smells less offensive than it did before.  Don't get me wrong...cat boxes smell but I've been told (and now I feel I can attest to this) that dry food would dehydrate a cat and it would enter a system and absorb odors from the body and carry them out into the cat box to amplify the foul odors.  Actual cat food like the Wellness brand (not many brands are grain or rice free)  gets more fully digested by the cat and does not contain grains and rices and other fillers that are expelled with the body.  I must say that I felt the fool not having taken more time to learn about the diet possibilities of my cats.<br /><br />I will note that I also use the Wellness dry food (about 1/4 to 1/2 cup out each night) for my 2 cats to eat between their canned meals.  This is also to keep them used to eating a little dry food in case I am in a situation where I cannot provide their can in the morning and night.  For your reference I feed my cats each 1/2 a can in the morning and 1/2 in the evening (so 2 cans total daily).  I am going to switch to the 12 oz cans though because they are much cheaper, you nearly double your canned food for the same price, I'm just going to buy a resealable lid and scoop out what is needed.<br /><br />And as a side note, my cats eat most of the food when I leave it out but they do not finish it all.  I do leave the food out for them to finish up which they usually do within 1-3 hours.  Some people say you should never do this, some say they will leave it out all day...in my experience over the 2 months I have noticed no mold, illness or rejection of this food being left out for a few hours for my cats.  The longest I've seen food remain in the is at the 7 hour mark and still, it was finished with no negative behaviors or effects noticed in either of my animals.<br /><br />I hope this review helps you and please be aware specifically of what goes into certain brands.  There are cheaper canned foods but they are not as good as this brand.  I've checked and tried a few.  This one is really different.  There are a few websites which explain the health benefits more precisely and if you won't take my word for it on this brand see for yourself.  Also, the cost is well worth the response you will get from your cat and when measured against prescription dry food it really hasn't been much different and the 12 oz sizes will make it even more affordable.  Be good to yourself and your pets!   \n",
       "352349                                                                                                                                                                                                                                                                                                                                                                                                                                                                                                                                                                                                                                                                                                                                                                                                                                                                                                                                                                                                                                                                                                                                                                                                                                                                                                                                                                                                                                                                                                                                                                                                                                                                                                                                                                                                                                                                                                                                                                                                                                                                                                                                                                                                                                                                                                                                                                                                                                                                                                                                                                                                                                                                                                                                                                                                                                                                                                                                                                                                                                                                                                                                                                                                                                                                                                                                                                                                                                                                     Look, I'm aware that every K-cup variety has a review saying \"This is the best K-cup.\" But I know what I'm talking about, okay? We all know the kind of people whose favorite flavor is Caramel Vanilla Creme, or heaven forbid, \"Cappuccino\". I'm not talking to them. I don't use cutesy cliches like \"cuppa joe\" or \"packs a punch\". This is also not one of those stupid reviews that claims \"This is the best cup of coffee I EVER DRANK\", because we know K-Cups cannot really compete with fresh-roasted beans. But if you drink K-Cups and you have some discriminating taste in coffee, get this one. Emeril's bold is nice and bold, dark but not too dark, the flavor has some dimension besides \"burnt\"...trust me.<br /><br />P.S. If you did happen to brew any of those flavored kinds in your machine, because it's a shared machine or your mom got you a variety pack or something, brew a cup of water through first. Then look at all the stuff floating in it, and consider yourself educated.   \n",
       "357001  This review is for the 24 pack of 3 Oz. cans of the Wellness Brand Cat Food.<br /><br />Objectively speaking...<br />The cans are easy to ope and they have consistently arrived in excellent condition.  There are 24 cans at 3 oz. each.  That's all I can really say objectively about cat food.<br /><br />Subjectively speaking...<br />I could not believe the difference in my cats after switching to a canned cat food from dry food.  My cats are 15 and 16 years old.  They are healthy indoor cats who are still active and playful with no real health problems aside from my 16 year old cat having minor diabetes.  I had been feeding a high priced prescription (vet recommended) dry food for the last 2 years only to have my 15 year old cat begin getting sick and regurgitating his food on a weekly basis.  I took my cat to the vet repeatedly asking why this might be a problem.  The vet simply told me that the cat may be a little under the weather or it was hairball related...which before had not been an issue.  After a conversation with a friend in Dec 2010 they emphatically recommended canned cat food.  I decided to do some research and was I glad that I did.  My cats have been eating canned food for 2 months now and here are the changes I've noticed.  My cat who was throwing up 2-4 times a week has only done so 4 times in 2 months (and I think that was because he was biting at some straw that I didn't know about), their fur is ridiculously softer...like I just spent an hour brushing them, now it feels that way all the time.  And although my cats are not prone to hairballs, my medium haired cat would get them on occasion and he has had only 1 very small one in 2 months as opposed to the weekly ones I'd find in the house.  They have more energy and they just seem happier in how they interact and the littler box has less to be cleaned up and quite frankly it smells less offensive than it did before.  Don't get me wrong...cat boxes smell but I've been told (and now I feel I can attest to this) that dry food would dehydrate a cat and it would enter a system and absorb odors from the body and carry them out into the cat box to amplify the foul odors.  Actual cat food like the Wellness brand (not many brands are grain or rice free)  gets more fully digested by the cat and does not contain grains and rices and other fillers that are expelled with the body.  I must say that I felt the fool not having taken more time to learn about the diet possibilities of my cats.<br /><br />I will note that I also use the Wellness dry food (about 1/4 to 1/2 cup out each night) for my 2 cats to eat between their canned meals.  This is also to keep them used to eating a little dry food in case I am in a situation where I cannot provide their can in the morning and night.  For your reference I feed my cats each 1/2 a can in the morning and 1/2 in the evening (so 2 cans total daily).  I am going to switch to the 12 oz cans though because they are much cheaper, you nearly double your canned food for the same price, I'm just going to buy a resealable lid and scoop out what is needed.<br /><br />And as a side note, my cats eat most of the food when I leave it out but they do not finish it all.  I do leave the food out for them to finish up which they usually do within 1-3 hours.  Some people say you should never do this, some say they will leave it out all day...in my experience over the 2 months I have noticed no mold, illness or rejection of this food being left out for a few hours for my cats.  The longest I've seen food remain in the is at the 7 hour mark and still, it was finished with no negative behaviors or effects noticed in either of my animals.<br /><br />I hope this review helps you and please be aware specifically of what goes into certain brands.  There are cheaper canned foods but they are not as good as this brand.  I've checked and tried a few.  This one is really different.  There are a few websites which explain the health benefits more precisely and if you won't take my word for it on this brand see for yourself.  Also, the cost is well worth the response you will get from your cat and when measured against prescription dry food it really hasn't been much different and the 12 oz sizes will make it even more affordable.  Be good to yourself and your pets!   \n",
       "358234                                                                                                                                                                                                                                                                                                                                                                                                                                                                                                                                                                                                                                                                                                                                                                                                                                                                                                                                                                                                                                                                                                                                                                                                                                                                                                                                                                                                                                                                                                                                                                                                                                                                                                                                                                                                                                                                                                                                                                                                                                                                                                                                                                                                                                                                                                                                                                                                                                                                                                                                                                                                                                                                                                                                                                                                                                                                                                                                                                                                                                                                                                                                                                                                                                                                                                                                                                                                                                                                                                                                                                                                                                                                                                                                                                                                                                                                                                                                                                                                                                                                                                                                                                                                                                                                                                                    I don't write a review but I think I have to as a parent. I found some grey stuff (0.2cm) when I opened the can. I'll never recommned this product to anybody again.   \n",
       "383700                                                                                                                                                                                                                                                                                                                                                                                                                                                                                                                                                                                                                                                                                                                                                                                                                                                                                                                                                                                                                                                                                                                                                                                                                                                                                                                                                                                                                                                                                                                                                                                                                                                                                                                                                                                                                                                                                                                                                                                                                                                                                                                                                                                                                                                                                                                                                                                                                                                                                                                                                                                                                                                                                                                                                                                                                                                                                                                                                                                                                                                                                                                                                                                                    Unlike most people, I prefer not a weak coffee but a milder roast than the burnt stuff most coffee houses make that requires many accoutrements to mask like cream, sugar and artificial flavors. Therefore, I purposely only tried the Columbian.<br /><br />I work in a place that has poorly serviced coffee \"dispensing machines.\" They are fun in that you never know what will come out in a day-to-day basis. Some time just your coins back. A few people have illicit electric coffee pots, others use a French press, and still others sneak out for the real thing.<br /><br />Now that I discovered the Columbian Via. I have to defend my cup from all those noses that circle my cup. I know there are directions on the pack; however, I now have my own ritual. Clean cup, fill 2/3rds filtered water. 90 seconds in the microwave. Shake contents to bottom of pack. Rip the whole top off the pack with teeth. Pour pack in coup and watch sizzle. Stir for a few seconds. Add a tad of ice. Hope I can make it back to my desk before the cup empties.<br /><br />I was never a fan of reconstituted coffee however I think it is the addition of the micro-ground coffee that adds the edge necessary.<br /><br />In any event you owe it to yourself to try it.   \n",
       "410246  This review is for the 24 pack of 3 Oz. cans of the Wellness Brand Cat Food.<br /><br />Objectively speaking...<br />The cans are easy to ope and they have consistently arrived in excellent condition.  There are 24 cans at 3 oz. each.  That's all I can really say objectively about cat food.<br /><br />Subjectively speaking...<br />I could not believe the difference in my cats after switching to a canned cat food from dry food.  My cats are 15 and 16 years old.  They are healthy indoor cats who are still active and playful with no real health problems aside from my 16 year old cat having minor diabetes.  I had been feeding a high priced prescription (vet recommended) dry food for the last 2 years only to have my 15 year old cat begin getting sick and regurgitating his food on a weekly basis.  I took my cat to the vet repeatedly asking why this might be a problem.  The vet simply told me that the cat may be a little under the weather or it was hairball related...which before had not been an issue.  After a conversation with a friend in Dec 2010 they emphatically recommended canned cat food.  I decided to do some research and was I glad that I did.  My cats have been eating canned food for 2 months now and here are the changes I've noticed.  My cat who was throwing up 2-4 times a week has only done so 4 times in 2 months (and I think that was because he was biting at some straw that I didn't know about), their fur is ridiculously softer...like I just spent an hour brushing them, now it feels that way all the time.  And although my cats are not prone to hairballs, my medium haired cat would get them on occasion and he has had only 1 very small one in 2 months as opposed to the weekly ones I'd find in the house.  They have more energy and they just seem happier in how they interact and the littler box has less to be cleaned up and quite frankly it smells less offensive than it did before.  Don't get me wrong...cat boxes smell but I've been told (and now I feel I can attest to this) that dry food would dehydrate a cat and it would enter a system and absorb odors from the body and carry them out into the cat box to amplify the foul odors.  Actual cat food like the Wellness brand (not many brands are grain or rice free)  gets more fully digested by the cat and does not contain grains and rices and other fillers that are expelled with the body.  I must say that I felt the fool not having taken more time to learn about the diet possibilities of my cats.<br /><br />I will note that I also use the Wellness dry food (about 1/4 to 1/2 cup out each night) for my 2 cats to eat between their canned meals.  This is also to keep them used to eating a little dry food in case I am in a situation where I cannot provide their can in the morning and night.  For your reference I feed my cats each 1/2 a can in the morning and 1/2 in the evening (so 2 cans total daily).  I am going to switch to the 12 oz cans though because they are much cheaper, you nearly double your canned food for the same price, I'm just going to buy a resealable lid and scoop out what is needed.<br /><br />And as a side note, my cats eat most of the food when I leave it out but they do not finish it all.  I do leave the food out for them to finish up which they usually do within 1-3 hours.  Some people say you should never do this, some say they will leave it out all day...in my experience over the 2 months I have noticed no mold, illness or rejection of this food being left out for a few hours for my cats.  The longest I've seen food remain in the is at the 7 hour mark and still, it was finished with no negative behaviors or effects noticed in either of my animals.<br /><br />I hope this review helps you and please be aware specifically of what goes into certain brands.  There are cheaper canned foods but they are not as good as this brand.  I've checked and tried a few.  This one is really different.  There are a few websites which explain the health benefits more precisely and if you won't take my word for it on this brand see for yourself.  Also, the cost is well worth the response you will get from your cat and when measured against prescription dry food it really hasn't been much different and the 12 oz sizes will make it even more affordable.  Be good to yourself and your pets!   \n",
       "433408                                                                                                                                                                                                                                                                                                                                                                                                                                                                                                                                                                                                                                                                                                                                                                                                                                                                                                                                                                                                                                                                                                                                                                                                                                                                                                                                                                                                                                                                                                                                                                                                                                                                                                                                                                                                                                                                                                                                                                                                                                                                                                                                                                                                                                                                                                                                                                                                                                                                                                                                                                                                                                                                                                                                                                                                                                                                                                                                                                                                                                                                                                                                                                                                                                                                                                                                                                                                                                                                                                                                                                                                                                                                                                                                                                                                                                                                                                                                                                              Expected something different. Unable to view entire ingredients before ordering, something I always do. I took a chance ordering because of the name, thinking that the use of the product name \"Trappist Monks\" would not put ingredients detrimental to health in the product. I am health consious and oppose partially hydrogenated vegetable oil and high fructose corn syrup. If you have no objection to these ingredients, than I guess the product is O.K. I personally would not purchase again.   \n",
       "437093  This review is for the 24 pack of 3 Oz. cans of the Wellness Brand Cat Food.<br /><br />Objectively speaking...<br />The cans are easy to ope and they have consistently arrived in excellent condition.  There are 24 cans at 3 oz. each.  That's all I can really say objectively about cat food.<br /><br />Subjectively speaking...<br />I could not believe the difference in my cats after switching to a canned cat food from dry food.  My cats are 15 and 16 years old.  They are healthy indoor cats who are still active and playful with no real health problems aside from my 16 year old cat having minor diabetes.  I had been feeding a high priced prescription (vet recommended) dry food for the last 2 years only to have my 15 year old cat begin getting sick and regurgitating his food on a weekly basis.  I took my cat to the vet repeatedly asking why this might be a problem.  The vet simply told me that the cat may be a little under the weather or it was hairball related...which before had not been an issue.  After a conversation with a friend in Dec 2010 they emphatically recommended canned cat food.  I decided to do some research and was I glad that I did.  My cats have been eating canned food for 2 months now and here are the changes I've noticed.  My cat who was throwing up 2-4 times a week has only done so 4 times in 2 months (and I think that was because he was biting at some straw that I didn't know about), their fur is ridiculously softer...like I just spent an hour brushing them, now it feels that way all the time.  And although my cats are not prone to hairballs, my medium haired cat would get them on occasion and he has had only 1 very small one in 2 months as opposed to the weekly ones I'd find in the house.  They have more energy and they just seem happier in how they interact and the littler box has less to be cleaned up and quite frankly it smells less offensive than it did before.  Don't get me wrong...cat boxes smell but I've been told (and now I feel I can attest to this) that dry food would dehydrate a cat and it would enter a system and absorb odors from the body and carry them out into the cat box to amplify the foul odors.  Actual cat food like the Wellness brand (not many brands are grain or rice free)  gets more fully digested by the cat and does not contain grains and rices and other fillers that are expelled with the body.  I must say that I felt the fool not having taken more time to learn about the diet possibilities of my cats.<br /><br />I will note that I also use the Wellness dry food (about 1/4 to 1/2 cup out each night) for my 2 cats to eat between their canned meals.  This is also to keep them used to eating a little dry food in case I am in a situation where I cannot provide their can in the morning and night.  For your reference I feed my cats each 1/2 a can in the morning and 1/2 in the evening (so 2 cans total daily).  I am going to switch to the 12 oz cans though because they are much cheaper, you nearly double your canned food for the same price, I'm just going to buy a resealable lid and scoop out what is needed.<br /><br />And as a side note, my cats eat most of the food when I leave it out but they do not finish it all.  I do leave the food out for them to finish up which they usually do within 1-3 hours.  Some people say you should never do this, some say they will leave it out all day...in my experience over the 2 months I have noticed no mold, illness or rejection of this food being left out for a few hours for my cats.  The longest I've seen food remain in the is at the 7 hour mark and still, it was finished with no negative behaviors or effects noticed in either of my animals.<br /><br />I hope this review helps you and please be aware specifically of what goes into certain brands.  There are cheaper canned foods but they are not as good as this brand.  I've checked and tried a few.  This one is really different.  There are a few websites which explain the health benefits more precisely and if you won't take my word for it on this brand see for yourself.  Also, the cost is well worth the response you will get from your cat and when measured against prescription dry food it really hasn't been much different and the 12 oz sizes will make it even more affordable.  Be good to yourself and your pets!   \n",
       "486095  This review is for the 24 pack of 3 Oz. cans of the Wellness Brand Cat Food.<br /><br />Objectively speaking...<br />The cans are easy to ope and they have consistently arrived in excellent condition.  There are 24 cans at 3 oz. each.  That's all I can really say objectively about cat food.<br /><br />Subjectively speaking...<br />I could not believe the difference in my cats after switching to a canned cat food from dry food.  My cats are 15 and 16 years old.  They are healthy indoor cats who are still active and playful with no real health problems aside from my 16 year old cat having minor diabetes.  I had been feeding a high priced prescription (vet recommended) dry food for the last 2 years only to have my 15 year old cat begin getting sick and regurgitating his food on a weekly basis.  I took my cat to the vet repeatedly asking why this might be a problem.  The vet simply told me that the cat may be a little under the weather or it was hairball related...which before had not been an issue.  After a conversation with a friend in Dec 2010 they emphatically recommended canned cat food.  I decided to do some research and was I glad that I did.  My cats have been eating canned food for 2 months now and here are the changes I've noticed.  My cat who was throwing up 2-4 times a week has only done so 4 times in 2 months (and I think that was because he was biting at some straw that I didn't know about), their fur is ridiculously softer...like I just spent an hour brushing them, now it feels that way all the time.  And although my cats are not prone to hairballs, my medium haired cat would get them on occasion and he has had only 1 very small one in 2 months as opposed to the weekly ones I'd find in the house.  They have more energy and they just seem happier in how they interact and the littler box has less to be cleaned up and quite frankly it smells less offensive than it did before.  Don't get me wrong...cat boxes smell but I've been told (and now I feel I can attest to this) that dry food would dehydrate a cat and it would enter a system and absorb odors from the body and carry them out into the cat box to amplify the foul odors.  Actual cat food like the Wellness brand (not many brands are grain or rice free)  gets more fully digested by the cat and does not contain grains and rices and other fillers that are expelled with the body.  I must say that I felt the fool not having taken more time to learn about the diet possibilities of my cats.<br /><br />I will note that I also use the Wellness dry food (about 1/4 to 1/2 cup out each night) for my 2 cats to eat between their canned meals.  This is also to keep them used to eating a little dry food in case I am in a situation where I cannot provide their can in the morning and night.  For your reference I feed my cats each 1/2 a can in the morning and 1/2 in the evening (so 2 cans total daily).  I am going to switch to the 12 oz cans though because they are much cheaper, you nearly double your canned food for the same price, I'm just going to buy a resealable lid and scoop out what is needed.<br /><br />And as a side note, my cats eat most of the food when I leave it out but they do not finish it all.  I do leave the food out for them to finish up which they usually do within 1-3 hours.  Some people say you should never do this, some say they will leave it out all day...in my experience over the 2 months I have noticed no mold, illness or rejection of this food being left out for a few hours for my cats.  The longest I've seen food remain in the is at the 7 hour mark and still, it was finished with no negative behaviors or effects noticed in either of my animals.<br /><br />I hope this review helps you and please be aware specifically of what goes into certain brands.  There are cheaper canned foods but they are not as good as this brand.  I've checked and tried a few.  This one is really different.  There are a few websites which explain the health benefits more precisely and if you won't take my word for it on this brand see for yourself.  Also, the cost is well worth the response you will get from your cat and when measured against prescription dry food it really hasn't been much different and the 12 oz sizes will make it even more affordable.  Be good to yourself and your pets!   \n",
       "503049                                                                                                                                                                                                                                                                                                                                                                                                                                                                                                                                                                                                                                                                                                                                                                                                                                                                                                                                                                                                                                                                                                                                                                                                                                                                                                                                                                                                                                                                                                                                                                                                                                                                                                                                                                                                                                                                                                                                                                                                                                                                                                                                                                                                                                                                                                                                                                                                                                                                                                                                                                                                                                                                                                                                                                                                                                                                                                                                                                                                                                                                                                                                                                                                                                                                                                                                                                                                                                                                                                                                                                                                                                                                     This is one of the top makers in the world.  They also have premium herbs.  You see the white crocks in Williams-Sonoma and here at Amazon.  They make some of the best mustards in the world as well.  The problem is the import cost.  For the delivered price of this one SMALL ceramic cup, serving two people at most, I buy a half a case in Paris. The ceramic cups are nice and reusable.<br /><br />This is also their \"everyday\" mix.  Fine stuff without a doubt, but it is not their signature recette.  If cost matters to you, get a good double boiler, top grade melting chocolate and whatever flavorings.  I have to give all five stars for flavor, ease of use and for quality, but the price will drive most of us off. BUT...It is easy to reach for and will impress for a special occasion!   \n",
       "513037                                                                                                                                                                                                                                                                                                                                                                                                                                                                                                                                                                                                                                                                                                                                                                                                                                                                                                                                                                                                                                                                                                                                                                                                                                                                                                                                                                                                                                                                                                                                                                                                                                                                                                                                                                                                                                                                                                                                                                                                                                                                                                                                                                                                                                                                                                                                                                                                                                                                                                                                                                                                                                                                                                                                                                                                                                                                                                                                                                                                                                                                                                                                                                                                                                                                                                                                                                                                                                                                                                                                                                                                                                                                                                                                                                                                                                                                                                                                        One star for never replying to my email in which I included a photograph of a foreign object I found in the first package (looked like a dark brown chunk of foam, along with a hair). I was very much concerned when reading the labels' country of origin that among three, included China (Somehow I doubt that Canada beat out China for pricing = most likely China). Although I'll never know for sure since they never responded to any of my questions/concerns. I wouldn't recommend this product if your concerned about food quality.   \n",
       "\n",
       "           Class  Count  \n",
       "7963    Positive      8  \n",
       "14597   Positive      4  \n",
       "101269  Positive      3  \n",
       "110620  Positive      8  \n",
       "115522  Positive      7  \n",
       "146490  Positive      7  \n",
       "171391  Positive      7  \n",
       "191540  Positive      7  \n",
       "211242  Positive      7  \n",
       "221179  Negative      7  \n",
       "241788  Negative      5  \n",
       "274512  Negative     10  \n",
       "277990  Positive      7  \n",
       "301277  Positive      8  \n",
       "320261  Positive      8  \n",
       "343249  Positive      7  \n",
       "352349  Positive      4  \n",
       "357001  Positive      7  \n",
       "358234  Negative      5  \n",
       "383700  Positive      8  \n",
       "410246  Positive      7  \n",
       "433408  Negative      7  \n",
       "437093  Positive      7  \n",
       "486095  Positive      7  \n",
       "503049  Positive      8  \n",
       "513037  Negative      5  "
      ]
     },
     "execution_count": 77,
     "metadata": {},
     "output_type": "execute_result"
    }
   ],
   "source": [
    "df.loc[df[\"Summary\"].fillna(\"\").str.lower().str.contains(\"object\")]"
   ]
  },
  {
   "cell_type": "code",
   "execution_count": 100,
   "metadata": {},
   "outputs": [],
   "source": [
    "negative_summary = df.loc[df[\"Class\"]==\"Negative\"][\"Summary\"]"
   ]
  },
  {
   "cell_type": "code",
   "execution_count": 101,
   "metadata": {},
   "outputs": [
    {
     "data": {
      "image/png": "[encoded data removed]",
      "text/plain": [
       "<Figure size 432x288 with 1 Axes>"
      ]
     },
     "metadata": {},
     "output_type": "display_data"
    }
   ],
   "source": [
    "show_wordcloud(negative_summary, title=\"Negative Class\")"
   ]
  },
  {
   "cell_type": "code",
   "execution_count": 102,
   "metadata": {},
   "outputs": [
    {
     "data": {
      "text/plain": [
       "['Description, summary, review -- 6 lb cat, several years of these treats',\n",
       " 'Summary: think flavor-less gum + xylitol mouth wash coating']"
      ]
     },
     "execution_count": 102,
     "metadata": {},
     "output_type": "execute_result"
    }
   ],
   "source": [
    "df.loc[df[\"Summary\"].fillna(\"\").str.lower().str.contains(\"summary\")][\"Summary\"].tolist()"
   ]
  },
  {
   "cell_type": "markdown",
   "metadata": {},
   "source": [
    "**This tells us something about data collection - probably some autofill or form data collection**"
   ]
  },
  {
   "cell_type": "markdown",
   "metadata": {},
   "source": [
    "TODO - Investigate dtype"
   ]
  },
  {
   "cell_type": "markdown",
   "metadata": {},
   "source": [
    "### Unigrams - Most Frequent"
   ]
  },
  {
   "cell_type": "code",
   "execution_count": 142,
   "metadata": {},
   "outputs": [],
   "source": [
    "from tqdm.notebook import tqdm"
   ]
  },
  {
   "cell_type": "code",
   "execution_count": 108,
   "metadata": {},
   "outputs": [],
   "source": [
    "from collections import Counter"
   ]
  },
  {
   "cell_type": "code",
   "execution_count": 121,
   "metadata": {},
   "outputs": [],
   "source": [
    "def get_count_words(cls):\n",
    "    words = []\n",
    "    for summary in tqdm(df.loc[df[\"Class\"]==cls][\"Summary\"].str.strip().str.lower().tolist()):\n",
    "        try:\n",
    "            words.extend(summary.split())\n",
    "        except:\n",
    "            print(f\"Error: {summary}\")\n",
    "    words = Counter(words)\n",
    "    keys = set(words.keys()) - set(STOPWORDS)\n",
    "    words = {k:words[k] for k in list(keys)}\n",
    "    return words"
   ]
  },
  {
   "cell_type": "markdown",
   "metadata": {},
   "source": [
    "**Ignore stopwords**\n",
    "\n",
    "* Words - Dictionary\n",
    "* Removing STOPWORDS by set difference between words in summary & STOPWORDS"
   ]
  },
  {
   "cell_type": "markdown",
   "metadata": {},
   "source": [
    "**Positive Class**"
   ]
  },
  {
   "cell_type": "code",
   "execution_count": 122,
   "metadata": {},
   "outputs": [
    {
     "data": {
      "application/vnd.jupyter.widget-view+json": {
       "model_id": "ae89eaf742a34167b973f7c68a774ebc",
       "version_major": 2,
       "version_minor": 0
      },
      "text/plain": [
       "  0%|          | 0/443777 [00:00<?, ?it/s]"
      ]
     },
     "metadata": {},
     "output_type": "display_data"
    }
   ],
   "source": [
    "words = get_count_words(\"Positive\")"
   ]
  },
  {
   "cell_type": "code",
   "execution_count": 123,
   "metadata": {},
   "outputs": [
    {
     "data": {
      "text/plain": [
       "61893"
      ]
     },
     "execution_count": 123,
     "metadata": {},
     "output_type": "execute_result"
    }
   ],
   "source": [
    "len(words)"
   ]
  },
  {
   "cell_type": "code",
   "execution_count": 129,
   "metadata": {},
   "outputs": [],
   "source": [
    "word = list(words.keys())\n",
    "count = list(words.values())\n",
    "temp = pd.DataFrame.from_dict({\"Words\": word, \"Counts\": count})\n",
    "temp = temp.sort_values(by=\"Counts\", ascending=False)"
   ]
  },
  {
   "cell_type": "code",
   "execution_count": 136,
   "metadata": {},
   "outputs": [
    {
     "data": {
      "text/html": [
       "<div>\n",
       "<style scoped>\n",
       "    .dataframe tbody tr th:only-of-type {\n",
       "        vertical-align: middle;\n",
       "    }\n",
       "\n",
       "    .dataframe tbody tr th {\n",
       "        vertical-align: top;\n",
       "    }\n",
       "\n",
       "    .dataframe thead th {\n",
       "        text-align: right;\n",
       "    }\n",
       "</style>\n",
       "<table border=\"1\" class=\"dataframe\">\n",
       "  <thead>\n",
       "    <tr style=\"text-align: right;\">\n",
       "      <th></th>\n",
       "      <th>Words</th>\n",
       "      <th>Counts</th>\n",
       "    </tr>\n",
       "  </thead>\n",
       "  <tbody>\n",
       "    <tr>\n",
       "      <th>34108</th>\n",
       "      <td>great</td>\n",
       "      <td>63219</td>\n",
       "    </tr>\n",
       "    <tr>\n",
       "      <th>39845</th>\n",
       "      <td>good</td>\n",
       "      <td>36161</td>\n",
       "    </tr>\n",
       "    <tr>\n",
       "      <th>60118</th>\n",
       "      <td>best</td>\n",
       "      <td>29712</td>\n",
       "    </tr>\n",
       "    <tr>\n",
       "      <th>4757</th>\n",
       "      <td>love</td>\n",
       "      <td>25224</td>\n",
       "    </tr>\n",
       "    <tr>\n",
       "      <th>32242</th>\n",
       "      <td>coffee</td>\n",
       "      <td>16869</td>\n",
       "    </tr>\n",
       "    <tr>\n",
       "      <th>6725</th>\n",
       "      <td>tea</td>\n",
       "      <td>15343</td>\n",
       "    </tr>\n",
       "    <tr>\n",
       "      <th>52619</th>\n",
       "      <td>delicious</td>\n",
       "      <td>11633</td>\n",
       "    </tr>\n",
       "    <tr>\n",
       "      <th>35303</th>\n",
       "      <td>excellent</td>\n",
       "      <td>11596</td>\n",
       "    </tr>\n",
       "    <tr>\n",
       "      <th>7533</th>\n",
       "      <td>product</td>\n",
       "      <td>10871</td>\n",
       "    </tr>\n",
       "    <tr>\n",
       "      <th>47012</th>\n",
       "      <td>dog</td>\n",
       "      <td>10240</td>\n",
       "    </tr>\n",
       "  </tbody>\n",
       "</table>\n",
       "</div>"
      ],
      "text/plain": [
       "           Words  Counts\n",
       "34108      great   63219\n",
       "39845       good   36161\n",
       "60118       best   29712\n",
       "4757        love   25224\n",
       "32242     coffee   16869\n",
       "6725         tea   15343\n",
       "52619  delicious   11633\n",
       "35303  excellent   11596\n",
       "7533     product   10871\n",
       "47012        dog   10240"
      ]
     },
     "execution_count": 136,
     "metadata": {},
     "output_type": "execute_result"
    }
   ],
   "source": [
    "temp.head(10)"
   ]
  },
  {
   "cell_type": "markdown",
   "metadata": {},
   "source": [
    "**Negative Class**"
   ]
  },
  {
   "cell_type": "code",
   "execution_count": 137,
   "metadata": {},
   "outputs": [
    {
     "data": {
      "application/vnd.jupyter.widget-view+json": {
       "model_id": "4d2f2788e56b472ea003c9690ecda9f2",
       "version_major": 2,
       "version_minor": 0
      },
      "text/plain": [
       "  0%|          | 0/82013 [00:00<?, ?it/s]"
      ]
     },
     "metadata": {},
     "output_type": "display_data"
    },
    {
     "name": "stdout",
     "output_type": "stream",
     "text": [
      "Error: nan\n"
     ]
    }
   ],
   "source": [
    "words = get_count_words(\"Negative\")"
   ]
  },
  {
   "cell_type": "code",
   "execution_count": 138,
   "metadata": {},
   "outputs": [
    {
     "data": {
      "text/plain": [
       "24572"
      ]
     },
     "execution_count": 138,
     "metadata": {},
     "output_type": "execute_result"
    }
   ],
   "source": [
    "len(words)"
   ]
  },
  {
   "cell_type": "code",
   "execution_count": 139,
   "metadata": {},
   "outputs": [],
   "source": [
    "word = list(words.keys())\n",
    "count = list(words.values())\n",
    "temp = pd.DataFrame.from_dict({\"Words\": word, \"Counts\": count})\n",
    "temp = temp.sort_values(by=\"Counts\", ascending=False)"
   ]
  },
  {
   "cell_type": "code",
   "execution_count": 141,
   "metadata": {},
   "outputs": [
    {
     "data": {
      "text/html": [
       "<div>\n",
       "<style scoped>\n",
       "    .dataframe tbody tr th:only-of-type {\n",
       "        vertical-align: middle;\n",
       "    }\n",
       "\n",
       "    .dataframe tbody tr th {\n",
       "        vertical-align: top;\n",
       "    }\n",
       "\n",
       "    .dataframe thead th {\n",
       "        text-align: right;\n",
       "    }\n",
       "</style>\n",
       "<table border=\"1\" class=\"dataframe\">\n",
       "  <thead>\n",
       "    <tr style=\"text-align: right;\">\n",
       "      <th></th>\n",
       "      <th>Words</th>\n",
       "      <th>Counts</th>\n",
       "    </tr>\n",
       "  </thead>\n",
       "  <tbody>\n",
       "    <tr>\n",
       "      <th>17983</th>\n",
       "      <td>taste</td>\n",
       "      <td>3247</td>\n",
       "    </tr>\n",
       "    <tr>\n",
       "      <th>7111</th>\n",
       "      <td>good</td>\n",
       "      <td>3053</td>\n",
       "    </tr>\n",
       "    <tr>\n",
       "      <th>6673</th>\n",
       "      <td>-</td>\n",
       "      <td>2107</td>\n",
       "    </tr>\n",
       "    <tr>\n",
       "      <th>18004</th>\n",
       "      <td>bad</td>\n",
       "      <td>1902</td>\n",
       "    </tr>\n",
       "    <tr>\n",
       "      <th>5975</th>\n",
       "      <td>product</td>\n",
       "      <td>1902</td>\n",
       "    </tr>\n",
       "    <tr>\n",
       "      <th>1191</th>\n",
       "      <td>coffee</td>\n",
       "      <td>1642</td>\n",
       "    </tr>\n",
       "    <tr>\n",
       "      <th>10644</th>\n",
       "      <td>flavor</td>\n",
       "      <td>1612</td>\n",
       "    </tr>\n",
       "    <tr>\n",
       "      <th>2639</th>\n",
       "      <td>great</td>\n",
       "      <td>1567</td>\n",
       "    </tr>\n",
       "    <tr>\n",
       "      <th>12814</th>\n",
       "      <td>dog</td>\n",
       "      <td>1468</td>\n",
       "    </tr>\n",
       "    <tr>\n",
       "      <th>2349</th>\n",
       "      <td>tastes</td>\n",
       "      <td>1441</td>\n",
       "    </tr>\n",
       "    <tr>\n",
       "      <th>9453</th>\n",
       "      <td>buy</td>\n",
       "      <td>1413</td>\n",
       "    </tr>\n",
       "    <tr>\n",
       "      <th>20737</th>\n",
       "      <td>disappointed</td>\n",
       "      <td>1343</td>\n",
       "    </tr>\n",
       "    <tr>\n",
       "      <th>5377</th>\n",
       "      <td>tea</td>\n",
       "      <td>1176</td>\n",
       "    </tr>\n",
       "    <tr>\n",
       "      <th>19480</th>\n",
       "      <td>food</td>\n",
       "      <td>1166</td>\n",
       "    </tr>\n",
       "    <tr>\n",
       "      <th>12659</th>\n",
       "      <td>made</td>\n",
       "      <td>1088</td>\n",
       "    </tr>\n",
       "    <tr>\n",
       "      <th>75</th>\n",
       "      <td>horrible</td>\n",
       "      <td>1086</td>\n",
       "    </tr>\n",
       "    <tr>\n",
       "      <th>9001</th>\n",
       "      <td>terrible</td>\n",
       "      <td>1053</td>\n",
       "    </tr>\n",
       "    <tr>\n",
       "      <th>12763</th>\n",
       "      <td>price</td>\n",
       "      <td>968</td>\n",
       "    </tr>\n",
       "    <tr>\n",
       "      <th>19275</th>\n",
       "      <td>much</td>\n",
       "      <td>960</td>\n",
       "    </tr>\n",
       "    <tr>\n",
       "      <th>24033</th>\n",
       "      <td>poor</td>\n",
       "      <td>937</td>\n",
       "    </tr>\n",
       "  </tbody>\n",
       "</table>\n",
       "</div>"
      ],
      "text/plain": [
       "              Words  Counts\n",
       "17983         taste    3247\n",
       "7111           good    3053\n",
       "6673              -    2107\n",
       "18004           bad    1902\n",
       "5975        product    1902\n",
       "1191         coffee    1642\n",
       "10644        flavor    1612\n",
       "2639          great    1567\n",
       "12814           dog    1468\n",
       "2349         tastes    1441\n",
       "9453            buy    1413\n",
       "20737  disappointed    1343\n",
       "5377            tea    1176\n",
       "19480          food    1166\n",
       "12659          made    1088\n",
       "75         horrible    1086\n",
       "9001       terrible    1053\n",
       "12763         price     968\n",
       "19275          much     960\n",
       "24033          poor     937"
      ]
     },
     "execution_count": 141,
     "metadata": {},
     "output_type": "execute_result"
    }
   ],
   "source": [
    "temp.head(20)"
   ]
  },
  {
   "cell_type": "markdown",
   "metadata": {},
   "source": [
    "### Bigram Analysis"
   ]
  },
  {
   "cell_type": "markdown",
   "metadata": {},
   "source": [
    "### Puncutation Analysis"
   ]
  },
  {
   "cell_type": "code",
   "execution_count": null,
   "metadata": {},
   "outputs": [],
   "source": []
  },
  {
   "cell_type": "markdown",
   "metadata": {},
   "source": [
    "## Review Text"
   ]
  },
  {
   "cell_type": "code",
   "execution_count": 143,
   "metadata": {},
   "outputs": [
    {
     "data": {
      "text/plain": [
       "0"
      ]
     },
     "execution_count": 143,
     "metadata": {},
     "output_type": "execute_result"
    }
   ],
   "source": [
    "df[\"Text\"].isna().sum()"
   ]
  },
  {
   "cell_type": "code",
   "execution_count": 144,
   "metadata": {},
   "outputs": [],
   "source": [
    "df[\"Text\"] = df[\"Text\"].str.strip().str.capitalize()"
   ]
  },
  {
   "cell_type": "markdown",
   "metadata": {},
   "source": [
    "### Length Distribution - Characterwise"
   ]
  },
  {
   "cell_type": "code",
   "execution_count": 149,
   "metadata": {
    "scrolled": false
   },
   "outputs": [
    {
     "data": {
      "image/png": "[encoded data removed]",
      "text/plain": [
       "<Figure size 864x648 with 1 Axes>"
      ]
     },
     "metadata": {},
     "output_type": "display_data"
    }
   ],
   "source": [
    "plt.figure(figsize=(12, 9))\n",
    "_ = df[\"Text\"].str.len().plot(kind=\"hist\", bins=np.arange(0, 3000, 300))"
   ]
  },
  {
   "cell_type": "markdown",
   "metadata": {},
   "source": [
    "### Length distribution by Class"
   ]
  },
  {
   "cell_type": "code",
   "execution_count": 158,
   "metadata": {},
   "outputs": [
    {
     "data": {
      "image/png": "[encoded data removed]",
      "text/plain": [
       "<Figure size 864x648 with 2 Axes>"
      ]
     },
     "metadata": {},
     "output_type": "display_data"
    }
   ],
   "source": [
    "fig, ax = plt.subplots(1, 2, figsize=(12, 9))\n",
    "_ = df.loc[df[\"Class\"]==\"Positive\"][\"Text\"].str.len().plot(kind=\"hist\", bins=np.arange(0, 3000, 300), ax=ax[0])\n",
    "_ = df.loc[df[\"Class\"]==\"Negative\"][\"Text\"].str.len().plot(kind=\"hist\", bins=np.arange(0, 3000, 300), ax=ax[1])"
   ]
  },
  {
   "cell_type": "markdown",
   "metadata": {},
   "source": [
    "### Word distribution by Class"
   ]
  },
  {
   "cell_type": "code",
   "execution_count": 159,
   "metadata": {},
   "outputs": [],
   "source": [
    "def return_len(x):\n",
    "    try:\n",
    "        return len(x)\n",
    "    except Exception as e:\n",
    "        return 0"
   ]
  },
  {
   "cell_type": "code",
   "execution_count": 160,
   "metadata": {},
   "outputs": [],
   "source": [
    "df[\"Count\"] = df[\"Text\"].str.split().apply(lambda x: return_len(x))"
   ]
  },
  {
   "cell_type": "code",
   "execution_count": 163,
   "metadata": {},
   "outputs": [
    {
     "data": {
      "image/png": "[encoded data removed]",
      "text/plain": [
       "<Figure size 864x720 with 2 Axes>"
      ]
     },
     "metadata": {},
     "output_type": "display_data"
    }
   ],
   "source": [
    "fig, ax = plt.subplots(1, 2, figsize=(12, 10))\n",
    "_ = df.loc[df[\"Class\"]==\"Positive\"][\"Count\"].plot(kind=\"hist\", bins=np.arange(0, 50, 10), ax=ax[0])\n",
    "_ = df.loc[df[\"Class\"]==\"Negative\"][\"Count\"].plot(kind=\"hist\", bins=np.arange(0, 50, 10), ax=ax[1])"
   ]
  },
  {
   "cell_type": "markdown",
   "metadata": {},
   "source": []
  },
  {
   "cell_type": "code",
   "execution_count": 170,
   "metadata": {},
   "outputs": [
    {
     "data": {
      "application/vnd.jupyter.widget-view+json": {
       "model_id": "32169b5cfedb4d4d924c5b90dcab8b63",
       "version_major": 2,
       "version_minor": 0
      },
      "text/plain": [
       "  0%|          | 0/100 [00:00<?, ?it/s]"
      ]
     },
     "metadata": {},
     "output_type": "display_data"
    }
   ],
   "source": [
    "pos, neg = [], []\n",
    "\n",
    "for i in tqdm(range(100)):\n",
    "    pos_counts = df.loc[(df[\"Class\"]==\"Positive\") & (df[\"Count\"]==i)].shape[0]\n",
    "    neg_counts = df.loc[(df[\"Class\"]==\"Negative\") & (df[\"Count\"]==i)].shape[0]\n",
    "    pos.append(pos_counts)\n",
    "    neg.append(neg_counts)"
   ]
  },
  {
   "cell_type": "code",
   "execution_count": 171,
   "metadata": {},
   "outputs": [],
   "source": [
    "temp = pd.DataFrame({\"Length\": range(100), \"Pos\": pos, \"Neg\": neg})"
   ]
  },
  {
   "cell_type": "code",
   "execution_count": 175,
   "metadata": {},
   "outputs": [],
   "source": [
    "temp[\"Ratio\"] = temp[\"Pos\"]/temp[\"Neg\"]\n",
    "temp[\"Ratio\"] = temp[\"Ratio\"].apply(lambda x: np.ceil(x))"
   ]
  },
  {
   "cell_type": "code",
   "execution_count": 177,
   "metadata": {},
   "outputs": [
    {
     "data": {
      "text/html": [
       "<div>\n",
       "<style scoped>\n",
       "    .dataframe tbody tr th:only-of-type {\n",
       "        vertical-align: middle;\n",
       "    }\n",
       "\n",
       "    .dataframe tbody tr th {\n",
       "        vertical-align: top;\n",
       "    }\n",
       "\n",
       "    .dataframe thead th {\n",
       "        text-align: right;\n",
       "    }\n",
       "</style>\n",
       "<table border=\"1\" class=\"dataframe\">\n",
       "  <thead>\n",
       "    <tr style=\"text-align: right;\">\n",
       "      <th></th>\n",
       "      <th>Length</th>\n",
       "      <th>Pos</th>\n",
       "      <th>Neg</th>\n",
       "      <th>Ratio</th>\n",
       "    </tr>\n",
       "  </thead>\n",
       "  <tbody>\n",
       "    <tr>\n",
       "      <th>20</th>\n",
       "      <td>20</td>\n",
       "      <td>8018</td>\n",
       "      <td>962</td>\n",
       "      <td>9.0</td>\n",
       "    </tr>\n",
       "    <tr>\n",
       "      <th>21</th>\n",
       "      <td>21</td>\n",
       "      <td>8093</td>\n",
       "      <td>1103</td>\n",
       "      <td>8.0</td>\n",
       "    </tr>\n",
       "    <tr>\n",
       "      <th>22</th>\n",
       "      <td>22</td>\n",
       "      <td>8099</td>\n",
       "      <td>1131</td>\n",
       "      <td>8.0</td>\n",
       "    </tr>\n",
       "    <tr>\n",
       "      <th>23</th>\n",
       "      <td>23</td>\n",
       "      <td>8244</td>\n",
       "      <td>1126</td>\n",
       "      <td>8.0</td>\n",
       "    </tr>\n",
       "    <tr>\n",
       "      <th>24</th>\n",
       "      <td>24</td>\n",
       "      <td>8167</td>\n",
       "      <td>959</td>\n",
       "      <td>9.0</td>\n",
       "    </tr>\n",
       "    <tr>\n",
       "      <th>25</th>\n",
       "      <td>25</td>\n",
       "      <td>7785</td>\n",
       "      <td>1153</td>\n",
       "      <td>7.0</td>\n",
       "    </tr>\n",
       "    <tr>\n",
       "      <th>26</th>\n",
       "      <td>26</td>\n",
       "      <td>7438</td>\n",
       "      <td>993</td>\n",
       "      <td>8.0</td>\n",
       "    </tr>\n",
       "    <tr>\n",
       "      <th>27</th>\n",
       "      <td>27</td>\n",
       "      <td>7521</td>\n",
       "      <td>1101</td>\n",
       "      <td>7.0</td>\n",
       "    </tr>\n",
       "    <tr>\n",
       "      <th>28</th>\n",
       "      <td>28</td>\n",
       "      <td>7231</td>\n",
       "      <td>1039</td>\n",
       "      <td>7.0</td>\n",
       "    </tr>\n",
       "    <tr>\n",
       "      <th>29</th>\n",
       "      <td>29</td>\n",
       "      <td>6879</td>\n",
       "      <td>954</td>\n",
       "      <td>8.0</td>\n",
       "    </tr>\n",
       "  </tbody>\n",
       "</table>\n",
       "</div>"
      ],
      "text/plain": [
       "    Length   Pos   Neg  Ratio\n",
       "20      20  8018   962    9.0\n",
       "21      21  8093  1103    8.0\n",
       "22      22  8099  1131    8.0\n",
       "23      23  8244  1126    8.0\n",
       "24      24  8167   959    9.0\n",
       "25      25  7785  1153    7.0\n",
       "26      26  7438   993    8.0\n",
       "27      27  7521  1101    7.0\n",
       "28      28  7231  1039    7.0\n",
       "29      29  6879   954    8.0"
      ]
     },
     "execution_count": 177,
     "metadata": {},
     "output_type": "execute_result"
    }
   ],
   "source": [
    "temp.iloc[20:30]"
   ]
  },
  {
   "cell_type": "code",
   "execution_count": 178,
   "metadata": {},
   "outputs": [
    {
     "data": {
      "text/plain": [
       "5.0     33\n",
       "6.0     26\n",
       "7.0     13\n",
       "8.0      8\n",
       "9.0      3\n",
       "10.0     3\n",
       "inf      3\n",
       "12.0     2\n",
       "11.0     1\n",
       "35.0     1\n",
       "44.0     1\n",
       "4.0      1\n",
       "3.0      1\n",
       "1.0      1\n",
       "Name: Ratio, dtype: int64"
      ]
     },
     "execution_count": 178,
     "metadata": {},
     "output_type": "execute_result"
    }
   ],
   "source": [
    "temp[\"Ratio\"].value_counts()"
   ]
  },
  {
   "cell_type": "markdown",
   "metadata": {},
   "source": [
    "**There's nothing special/reveling in the text length. This represents the data distribution itself**"
   ]
  },
  {
   "cell_type": "code",
   "execution_count": null,
   "metadata": {},
   "outputs": [],
   "source": []
  },
  {
   "cell_type": "markdown",
   "metadata": {},
   "source": [
    "### WordClouds - Visual Validation"
   ]
  },
  {
   "cell_type": "code",
   "execution_count": 179,
   "metadata": {},
   "outputs": [],
   "source": [
    "from wordcloud import WordCloud, STOPWORDS"
   ]
  },
  {
   "cell_type": "code",
   "execution_count": 180,
   "metadata": {},
   "outputs": [],
   "source": [
    "stopwords = set(STOPWORDS)"
   ]
  },
  {
   "cell_type": "code",
   "execution_count": 193,
   "metadata": {},
   "outputs": [],
   "source": [
    "def show_wordcloud(data, title = None):\n",
    "    wordcloud = WordCloud(\n",
    "        background_color='white',\n",
    "        stopwords=stopwords,\n",
    "        max_words=20000,\n",
    "        max_font_size=60, \n",
    "        scale=3,\n",
    "        random_state=1,\n",
    "        min_font_size=8,\n",
    "        collocation_threshold=10\n",
    "        )\n",
    "    \n",
    "    wordcloud=wordcloud.generate(str(data))\n",
    "    plt.imshow(wordcloud,interpolation='nearest')\n",
    "    plt.axis('off')"
   ]
  },
  {
   "cell_type": "code",
   "execution_count": 194,
   "metadata": {},
   "outputs": [],
   "source": [
    "positive_summary = df.loc[df[\"Class\"]==\"Positive\"][\"Text\"]"
   ]
  },
  {
   "cell_type": "code",
   "execution_count": 195,
   "metadata": {},
   "outputs": [
    {
     "data": {
      "image/png": "[encoded data removed]",
      "text/plain": [
       "<Figure size 1080x720 with 1 Axes>"
      ]
     },
     "metadata": {},
     "output_type": "display_data"
    }
   ],
   "source": [
    "plt.figure(figsize=(15, 10))\n",
    "show_wordcloud(positive_summary, title=\"Positive Class\")"
   ]
  },
  {
   "cell_type": "code",
   "execution_count": 196,
   "metadata": {},
   "outputs": [],
   "source": [
    "negative_summary = df.loc[df[\"Class\"]==\"Negative\"][\"Text\"]"
   ]
  },
  {
   "cell_type": "code",
   "execution_count": 198,
   "metadata": {},
   "outputs": [
    {
     "data": {
      "image/png": "[encoded data removed]",
      "text/plain": [
       "<Figure size 864x648 with 1 Axes>"
      ]
     },
     "metadata": {},
     "output_type": "display_data"
    }
   ],
   "source": [
    "plt.figure(figsize=(12, 9))\n",
    "show_wordcloud(negative_summary, title=\"Negative Class\")"
   ]
  },
  {
   "cell_type": "markdown",
   "metadata": {},
   "source": [
    "### Unigrams - Most Frequent"
   ]
  },
  {
   "cell_type": "code",
   "execution_count": 199,
   "metadata": {},
   "outputs": [],
   "source": [
    "from tqdm.notebook import tqdm"
   ]
  },
  {
   "cell_type": "code",
   "execution_count": 200,
   "metadata": {},
   "outputs": [],
   "source": [
    "from collections import Counter"
   ]
  },
  {
   "cell_type": "code",
   "execution_count": 202,
   "metadata": {},
   "outputs": [],
   "source": [
    "def get_count_words(cls):\n",
    "    words = []\n",
    "    for summary in tqdm(df.loc[df[\"Class\"]==cls][\"Text\"].str.strip().str.lower().tolist()):\n",
    "        try:\n",
    "            words.extend(summary.split())\n",
    "        except:\n",
    "            print(f\"Error: {summary}\")\n",
    "    words = Counter(words)\n",
    "    keys = set(words.keys()) - set(STOPWORDS)\n",
    "    words = {k:words[k] for k in list(keys)}\n",
    "    return words"
   ]
  },
  {
   "cell_type": "markdown",
   "metadata": {},
   "source": [
    "**Ignore stopwords**\n",
    "\n",
    "* Words - Dictionary\n",
    "* Removing STOPWORDS by set difference between words in summary & STOPWORDS"
   ]
  },
  {
   "cell_type": "markdown",
   "metadata": {},
   "source": [
    "**Positive Class**"
   ]
  },
  {
   "cell_type": "code",
   "execution_count": 203,
   "metadata": {},
   "outputs": [
    {
     "data": {
      "application/vnd.jupyter.widget-view+json": {
       "model_id": "d3d6330370a5481dac773dfc9597ec10",
       "version_major": 2,
       "version_minor": 0
      },
      "text/plain": [
       "  0%|          | 0/443777 [00:00<?, ?it/s]"
      ]
     },
     "metadata": {},
     "output_type": "display_data"
    }
   ],
   "source": [
    "words = get_count_words(\"Positive\")"
   ]
  },
  {
   "cell_type": "code",
   "execution_count": 204,
   "metadata": {},
   "outputs": [
    {
     "data": {
      "text/plain": [
       "414784"
      ]
     },
     "execution_count": 204,
     "metadata": {},
     "output_type": "execute_result"
    }
   ],
   "source": [
    "len(words)"
   ]
  },
  {
   "cell_type": "code",
   "execution_count": 205,
   "metadata": {},
   "outputs": [],
   "source": [
    "word = list(words.keys())\n",
    "count = list(words.values())\n",
    "temp = pd.DataFrame.from_dict({\"Words\": word, \"Counts\": count})\n",
    "temp = temp.sort_values(by=\"Counts\", ascending=False)"
   ]
  },
  {
   "cell_type": "code",
   "execution_count": 206,
   "metadata": {},
   "outputs": [
    {
     "data": {
      "text/html": [
       "<div>\n",
       "<style scoped>\n",
       "    .dataframe tbody tr th:only-of-type {\n",
       "        vertical-align: middle;\n",
       "    }\n",
       "\n",
       "    .dataframe tbody tr th {\n",
       "        vertical-align: top;\n",
       "    }\n",
       "\n",
       "    .dataframe thead th {\n",
       "        text-align: right;\n",
       "    }\n",
       "</style>\n",
       "<table border=\"1\" class=\"dataframe\">\n",
       "  <thead>\n",
       "    <tr style=\"text-align: right;\">\n",
       "      <th></th>\n",
       "      <th>Words</th>\n",
       "      <th>Counts</th>\n",
       "    </tr>\n",
       "  </thead>\n",
       "  <tbody>\n",
       "    <tr>\n",
       "      <th>354389</th>\n",
       "      <td>/&gt;&lt;br</td>\n",
       "      <td>188128</td>\n",
       "    </tr>\n",
       "    <tr>\n",
       "      <th>236098</th>\n",
       "      <td>great</td>\n",
       "      <td>119410</td>\n",
       "    </tr>\n",
       "    <tr>\n",
       "      <th>137657</th>\n",
       "      <td>good</td>\n",
       "      <td>118567</td>\n",
       "    </tr>\n",
       "    <tr>\n",
       "      <th>286192</th>\n",
       "      <td>one</td>\n",
       "      <td>115222</td>\n",
       "    </tr>\n",
       "    <tr>\n",
       "      <th>211616</th>\n",
       "      <td>love</td>\n",
       "      <td>107131</td>\n",
       "    </tr>\n",
       "    <tr>\n",
       "      <th>262984</th>\n",
       "      <td>will</td>\n",
       "      <td>94294</td>\n",
       "    </tr>\n",
       "    <tr>\n",
       "      <th>355921</th>\n",
       "      <td>taste</td>\n",
       "      <td>88979</td>\n",
       "    </tr>\n",
       "    <tr>\n",
       "      <th>389885</th>\n",
       "      <td>coffee</td>\n",
       "      <td>87021</td>\n",
       "    </tr>\n",
       "    <tr>\n",
       "      <th>109694</th>\n",
       "      <td>tea</td>\n",
       "      <td>76555</td>\n",
       "    </tr>\n",
       "    <tr>\n",
       "      <th>46535</th>\n",
       "      <td>really</td>\n",
       "      <td>74200</td>\n",
       "    </tr>\n",
       "  </tbody>\n",
       "</table>\n",
       "</div>"
      ],
      "text/plain": [
       "         Words  Counts\n",
       "354389   /><br  188128\n",
       "236098   great  119410\n",
       "137657    good  118567\n",
       "286192     one  115222\n",
       "211616    love  107131\n",
       "262984    will   94294\n",
       "355921   taste   88979\n",
       "389885  coffee   87021\n",
       "109694     tea   76555\n",
       "46535   really   74200"
      ]
     },
     "execution_count": 206,
     "metadata": {},
     "output_type": "execute_result"
    }
   ],
   "source": [
    "temp.head(10)"
   ]
  },
  {
   "cell_type": "markdown",
   "metadata": {},
   "source": [
    "**Negative Class**"
   ]
  },
  {
   "cell_type": "code",
   "execution_count": 207,
   "metadata": {},
   "outputs": [
    {
     "data": {
      "application/vnd.jupyter.widget-view+json": {
       "model_id": "6301a452b6424409acf7350d1d474dd2",
       "version_major": 2,
       "version_minor": 0
      },
      "text/plain": [
       "  0%|          | 0/82013 [00:00<?, ?it/s]"
      ]
     },
     "metadata": {},
     "output_type": "display_data"
    }
   ],
   "source": [
    "words = get_count_words(\"Negative\")"
   ]
  },
  {
   "cell_type": "code",
   "execution_count": 208,
   "metadata": {},
   "outputs": [
    {
     "data": {
      "text/plain": [
       "156271"
      ]
     },
     "execution_count": 208,
     "metadata": {},
     "output_type": "execute_result"
    }
   ],
   "source": [
    "len(words)"
   ]
  },
  {
   "cell_type": "code",
   "execution_count": 209,
   "metadata": {},
   "outputs": [],
   "source": [
    "word = list(words.keys())\n",
    "count = list(words.values())\n",
    "temp = pd.DataFrame.from_dict({\"Words\": word, \"Counts\": count})\n",
    "temp = temp.sort_values(by=\"Counts\", ascending=False)"
   ]
  },
  {
   "cell_type": "code",
   "execution_count": 210,
   "metadata": {},
   "outputs": [
    {
     "data": {
      "text/html": [
       "<div>\n",
       "<style scoped>\n",
       "    .dataframe tbody tr th:only-of-type {\n",
       "        vertical-align: middle;\n",
       "    }\n",
       "\n",
       "    .dataframe tbody tr th {\n",
       "        vertical-align: top;\n",
       "    }\n",
       "\n",
       "    .dataframe thead th {\n",
       "        text-align: right;\n",
       "    }\n",
       "</style>\n",
       "<table border=\"1\" class=\"dataframe\">\n",
       "  <thead>\n",
       "    <tr style=\"text-align: right;\">\n",
       "      <th></th>\n",
       "      <th>Words</th>\n",
       "      <th>Counts</th>\n",
       "    </tr>\n",
       "  </thead>\n",
       "  <tbody>\n",
       "    <tr>\n",
       "      <th>110832</th>\n",
       "      <td>/&gt;&lt;br</td>\n",
       "      <td>41498</td>\n",
       "    </tr>\n",
       "    <tr>\n",
       "      <th>112045</th>\n",
       "      <td>taste</td>\n",
       "      <td>24114</td>\n",
       "    </tr>\n",
       "    <tr>\n",
       "      <th>59576</th>\n",
       "      <td>one</td>\n",
       "      <td>23759</td>\n",
       "    </tr>\n",
       "    <tr>\n",
       "      <th>4811</th>\n",
       "      <td>product</td>\n",
       "      <td>23040</td>\n",
       "    </tr>\n",
       "    <tr>\n",
       "      <th>41955</th>\n",
       "      <td>will</td>\n",
       "      <td>19937</td>\n",
       "    </tr>\n",
       "    <tr>\n",
       "      <th>122757</th>\n",
       "      <td>even</td>\n",
       "      <td>15921</td>\n",
       "    </tr>\n",
       "    <tr>\n",
       "      <th>54692</th>\n",
       "      <td>food</td>\n",
       "      <td>15788</td>\n",
       "    </tr>\n",
       "    <tr>\n",
       "      <th>103336</th>\n",
       "      <td>good</td>\n",
       "      <td>15746</td>\n",
       "    </tr>\n",
       "    <tr>\n",
       "      <th>137591</th>\n",
       "      <td>coffee</td>\n",
       "      <td>15627</td>\n",
       "    </tr>\n",
       "    <tr>\n",
       "      <th>27009</th>\n",
       "      <td>buy</td>\n",
       "      <td>14111</td>\n",
       "    </tr>\n",
       "    <tr>\n",
       "      <th>35038</th>\n",
       "      <td>really</td>\n",
       "      <td>13653</td>\n",
       "    </tr>\n",
       "    <tr>\n",
       "      <th>61816</th>\n",
       "      <td>it.</td>\n",
       "      <td>13496</td>\n",
       "    </tr>\n",
       "    <tr>\n",
       "      <th>63916</th>\n",
       "      <td>-</td>\n",
       "      <td>12829</td>\n",
       "    </tr>\n",
       "    <tr>\n",
       "      <th>86709</th>\n",
       "      <td>flavor</td>\n",
       "      <td>12617</td>\n",
       "    </tr>\n",
       "    <tr>\n",
       "      <th>152107</th>\n",
       "      <td>much</td>\n",
       "      <td>12397</td>\n",
       "    </tr>\n",
       "    <tr>\n",
       "      <th>82484</th>\n",
       "      <td>tea</td>\n",
       "      <td>11240</td>\n",
       "    </tr>\n",
       "    <tr>\n",
       "      <th>76137</th>\n",
       "      <td>tried</td>\n",
       "      <td>11198</td>\n",
       "    </tr>\n",
       "    <tr>\n",
       "      <th>64520</th>\n",
       "      <td>bought</td>\n",
       "      <td>10838</td>\n",
       "    </tr>\n",
       "    <tr>\n",
       "      <th>46154</th>\n",
       "      <td>first</td>\n",
       "      <td>10181</td>\n",
       "    </tr>\n",
       "    <tr>\n",
       "      <th>2369</th>\n",
       "      <td>/&gt;i</td>\n",
       "      <td>10132</td>\n",
       "    </tr>\n",
       "  </tbody>\n",
       "</table>\n",
       "</div>"
      ],
      "text/plain": [
       "          Words  Counts\n",
       "110832    /><br   41498\n",
       "112045    taste   24114\n",
       "59576       one   23759\n",
       "4811    product   23040\n",
       "41955      will   19937\n",
       "122757     even   15921\n",
       "54692      food   15788\n",
       "103336     good   15746\n",
       "137591   coffee   15627\n",
       "27009       buy   14111\n",
       "35038    really   13653\n",
       "61816       it.   13496\n",
       "63916         -   12829\n",
       "86709    flavor   12617\n",
       "152107     much   12397\n",
       "82484       tea   11240\n",
       "76137     tried   11198\n",
       "64520    bought   10838\n",
       "46154     first   10181\n",
       "2369        />i   10132"
      ]
     },
     "execution_count": 210,
     "metadata": {},
     "output_type": "execute_result"
    }
   ],
   "source": [
    "temp.head(20)"
   ]
  },
  {
   "cell_type": "markdown",
   "metadata": {},
   "source": [
    "### Bigram Analysis"
   ]
  },
  {
   "cell_type": "markdown",
   "metadata": {},
   "source": [
    "### Punctuation Analysis"
   ]
  },
  {
   "cell_type": "code",
   "execution_count": null,
   "metadata": {},
   "outputs": [],
   "source": []
  }
 ],
 "metadata": {
  "kernelspec": {
   "display_name": "Python 3",
   "language": "python",
   "name": "python3"
  },
  "language_info": {
   "codemirror_mode": {
    "name": "ipython",
    "version": 3
   },
   "file_extension": ".py",
   "mimetype": "text/x-python",
   "name": "python",
   "nbconvert_exporter": "python",
   "pygments_lexer": "ipython3",
   "version": "3.7.0"
  },
  "toc": {
   "base_numbering": 1,
   "nav_menu": {},
   "number_sections": true,
   "sideBar": true,
   "skip_h1_title": false,
   "title_cell": "Table of Contents",
   "title_sidebar": "Contents",
   "toc_cell": false,
   "toc_position": {},
   "toc_section_display": true,
   "toc_window_display": false
  }
 },
 "nbformat": 4,
 "nbformat_minor": 4
}
