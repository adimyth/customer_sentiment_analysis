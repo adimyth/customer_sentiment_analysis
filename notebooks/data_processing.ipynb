{
 "cells": [
  {
   "cell_type": "code",
   "execution_count": 1,
   "id": "26c39a0d",
   "metadata": {},
   "outputs": [],
   "source": [
    "import pandas as pd\n",
    "import numpy as np"
   ]
  },
  {
   "cell_type": "code",
   "execution_count": 2,
   "id": "4832a8d1",
   "metadata": {},
   "outputs": [],
   "source": [
    "import re\n",
    "import nltk\n",
    "import spacy\n",
    "import string"
   ]
  },
  {
   "cell_type": "code",
   "execution_count": 10,
   "id": "db2d0359",
   "metadata": {},
   "outputs": [],
   "source": [
    "from nltk.corpus import stopwords"
   ]
  },
  {
   "cell_type": "markdown",
   "id": "58be3374",
   "metadata": {},
   "source": [
    "## Loading Data"
   ]
  },
  {
   "cell_type": "code",
   "execution_count": 4,
   "id": "161e721e",
   "metadata": {},
   "outputs": [],
   "source": [
    "df = pd.read_csv(\"../data/intermediate/food_reviews.csv\")"
   ]
  },
  {
   "cell_type": "markdown",
   "id": "259c2783",
   "metadata": {},
   "source": [
    "## Casing"
   ]
  },
  {
   "cell_type": "markdown",
   "id": "efeb7cfe",
   "metadata": {},
   "source": [
    "**Tradeoffs** -\n",
    "1. Difference in sentiment\n",
    "2. Lesser time & compute"
   ]
  },
  {
   "cell_type": "code",
   "execution_count": 5,
   "id": "83f10cc5",
   "metadata": {},
   "outputs": [],
   "source": [
    "df[\"Summary\"] = df[\"Summary\"].str.lower()"
   ]
  },
  {
   "cell_type": "markdown",
   "id": "869e757c",
   "metadata": {},
   "source": [
    "## Puncutations Removal"
   ]
  },
  {
   "cell_type": "code",
   "execution_count": 8,
   "id": "3e177795",
   "metadata": {},
   "outputs": [],
   "source": [
    "PUNCT_TO_REMOVE = '\"#$%&\\'*+,-./<=>?@[\\\\]^_`{|}~'"
   ]
  },
  {
   "cell_type": "code",
   "execution_count": null,
   "id": "a317dabf",
   "metadata": {},
   "outputs": [],
   "source": [
    "def remove_punctuation(text):\n",
    "    return text.translate(str.maketrans('', '', PUNCT_TO_REMOVE))"
   ]
  },
  {
   "cell_type": "code",
   "execution_count": 9,
   "id": "9403b0b7",
   "metadata": {},
   "outputs": [],
   "source": [
    "df[\"Summary\"] = df[\"Summary\"].apply(lambda text: remove_punctuation(text))"
   ]
  },
  {
   "cell_type": "markdown",
   "id": "d889e95a",
   "metadata": {},
   "source": [
    "## Removal of stopwords"
   ]
  },
  {
   "cell_type": "code",
   "execution_count": 11,
   "id": "4355e7b1",
   "metadata": {},
   "outputs": [],
   "source": [
    "STOPWORDS = set(stopwords.words('english'))"
   ]
  },
  {
   "cell_type": "code",
   "execution_count": 13,
   "id": "a224cf01",
   "metadata": {},
   "outputs": [],
   "source": [
    "def remove_stopwords(text):\n",
    "    return \" \".join([word for word in str(text).split() if word not in STOPWORDS])"
   ]
  },
  {
   "cell_type": "code",
   "execution_count": 14,
   "id": "16e3cf80",
   "metadata": {},
   "outputs": [],
   "source": [
    "df[\"Summary\"] = df[\"Summary\"].apply(lambda text: remove_stopwords(text))"
   ]
  },
  {
   "cell_type": "markdown",
   "id": "7c96ec2d",
   "metadata": {},
   "source": [
    "## Remove Frequent Words?\n",
    "\n",
    "Nope for summary. Revisit the unigram & bigram analysis for summary"
   ]
  },
  {
   "cell_type": "markdown",
   "id": "7eb30da0",
   "metadata": {},
   "source": [
    "## Remove Rare Words?\n",
    "Nope for summary. Yes for Text"
   ]
  },
  {
   "cell_type": "markdown",
   "id": "d26b4f5e",
   "metadata": {},
   "source": [
    "## Lemmatization\n",
    "Yes for both"
   ]
  },
  {
   "cell_type": "markdown",
   "id": "6c912cf3",
   "metadata": {},
   "source": [
    "## Conversion of Emoticon to Words\n",
    "Yes for both"
   ]
  },
  {
   "cell_type": "markdown",
   "id": "1648b645",
   "metadata": {},
   "source": [
    "## Removal of URLs"
   ]
  },
  {
   "cell_type": "markdown",
   "id": "c7831066",
   "metadata": {},
   "source": [
    "## Chat Words Conversion"
   ]
  },
  {
   "cell_type": "code",
   "execution_count": null,
   "id": "8cd359a9",
   "metadata": {},
   "outputs": [],
   "source": []
  }
 ],
 "metadata": {
  "kernelspec": {
   "display_name": "Python 3",
   "language": "python",
   "name": "python3"
  },
  "language_info": {
   "codemirror_mode": {
    "name": "ipython",
    "version": 3
   },
   "file_extension": ".py",
   "mimetype": "text/x-python",
   "name": "python",
   "nbconvert_exporter": "python",
   "pygments_lexer": "ipython3",
   "version": "3.7.0"
  },
  "toc": {
   "base_numbering": 1,
   "nav_menu": {},
   "number_sections": true,
   "sideBar": true,
   "skip_h1_title": false,
   "title_cell": "Table of Contents",
   "title_sidebar": "Contents",
   "toc_cell": false,
   "toc_position": {},
   "toc_section_display": true,
   "toc_window_display": false
  }
 },
 "nbformat": 4,
 "nbformat_minor": 5
}
