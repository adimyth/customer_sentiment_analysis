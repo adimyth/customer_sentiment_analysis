{
 "cells": [
  {
   "cell_type": "code",
   "execution_count": 1,
   "metadata": {},
   "outputs": [],
   "source": [
    "import warnings\n",
    "warnings.filterwarnings(\"ignore\")"
   ]
  },
  {
   "cell_type": "code",
   "execution_count": 2,
   "metadata": {},
   "outputs": [],
   "source": [
    "import sys"
   ]
  },
  {
   "cell_type": "code",
   "execution_count": 3,
   "metadata": {},
   "outputs": [
    {
     "name": "stdout",
     "output_type": "stream",
     "text": [
      "\u001b[31mtensorboard 2.3.0 has requirement setuptools>=41.0.0, but you'll have setuptools 39.0.1 which is incompatible.\u001b[0m\n",
      "\u001b[31mgoogle-auth 1.22.1 has requirement setuptools>=40.3.0, but you'll have setuptools 39.0.1 which is incompatible.\u001b[0m\n",
      "\u001b[33mYou are using pip version 10.0.1, however version 21.0.1 is available.\n",
      "You should consider upgrading via the 'pip install --upgrade pip' command.\u001b[0m\n"
     ]
    }
   ],
   "source": [
    "!pip -q install seaborn"
   ]
  },
  {
   "cell_type": "code",
   "execution_count": 4,
   "metadata": {},
   "outputs": [],
   "source": [
    "import pandas as pd\n",
    "import numpy as np\n",
    "import matplotlib.pyplot as plt\n",
    "import seaborn as sns"
   ]
  },
  {
   "cell_type": "code",
   "execution_count": 51,
   "metadata": {},
   "outputs": [
    {
     "data": {
      "text/plain": [
       "<Figure size 864x648 with 0 Axes>"
      ]
     },
     "metadata": {},
     "output_type": "display_data"
    }
   ],
   "source": [
    "_ = plt.figure(figsize=(12, 9))"
   ]
  },
  {
   "cell_type": "code",
   "execution_count": 5,
   "metadata": {},
   "outputs": [],
   "source": [
    "sns.set_style(\"darkgrid\")"
   ]
  },
  {
   "cell_type": "code",
   "execution_count": null,
   "metadata": {},
   "outputs": [],
   "source": []
  },
  {
   "cell_type": "markdown",
   "metadata": {},
   "source": [
    "## Load Data"
   ]
  },
  {
   "cell_type": "code",
   "execution_count": 6,
   "metadata": {},
   "outputs": [],
   "source": [
    "df = pd.read_csv(\"../data/raw/Reviews.csv\")"
   ]
  },
  {
   "cell_type": "code",
   "execution_count": 7,
   "metadata": {},
   "outputs": [
    {
     "data": {
      "text/plain": [
       "(568454, 10)"
      ]
     },
     "execution_count": 7,
     "metadata": {},
     "output_type": "execute_result"
    }
   ],
   "source": [
    "df.shape"
   ]
  },
  {
   "cell_type": "code",
   "execution_count": 8,
   "metadata": {},
   "outputs": [
    {
     "data": {
      "text/plain": [
       "467433592"
      ]
     },
     "execution_count": 8,
     "metadata": {},
     "output_type": "execute_result"
    }
   ],
   "source": [
    "sys.getsizeof(df)"
   ]
  },
  {
   "cell_type": "code",
   "execution_count": 9,
   "metadata": {},
   "outputs": [
    {
     "data": {
      "text/html": [
       "<div>\n",
       "<style scoped>\n",
       "    .dataframe tbody tr th:only-of-type {\n",
       "        vertical-align: middle;\n",
       "    }\n",
       "\n",
       "    .dataframe tbody tr th {\n",
       "        vertical-align: top;\n",
       "    }\n",
       "\n",
       "    .dataframe thead th {\n",
       "        text-align: right;\n",
       "    }\n",
       "</style>\n",
       "<table border=\"1\" class=\"dataframe\">\n",
       "  <thead>\n",
       "    <tr style=\"text-align: right;\">\n",
       "      <th></th>\n",
       "      <th>Id</th>\n",
       "      <th>ProductId</th>\n",
       "      <th>UserId</th>\n",
       "      <th>ProfileName</th>\n",
       "      <th>HelpfulnessNumerator</th>\n",
       "      <th>HelpfulnessDenominator</th>\n",
       "      <th>Score</th>\n",
       "      <th>Time</th>\n",
       "      <th>Summary</th>\n",
       "      <th>Text</th>\n",
       "    </tr>\n",
       "  </thead>\n",
       "  <tbody>\n",
       "    <tr>\n",
       "      <th>0</th>\n",
       "      <td>363281</td>\n",
       "      <td>B000G6Q4GW</td>\n",
       "      <td>A1WX42M589VAMQ</td>\n",
       "      <td>Mir</td>\n",
       "      <td>11</td>\n",
       "      <td>11</td>\n",
       "      <td>5</td>\n",
       "      <td>1215907200</td>\n",
       "      <td>Really Surprisingly Good Baked P-Chips! MMmm!</td>\n",
       "      <td>I'd pretty much given up on baked potato chips...</td>\n",
       "    </tr>\n",
       "    <tr>\n",
       "      <th>1</th>\n",
       "      <td>485391</td>\n",
       "      <td>B001RVFERK</td>\n",
       "      <td>A350NHMBGYXEDP</td>\n",
       "      <td>C. Lee</td>\n",
       "      <td>0</td>\n",
       "      <td>0</td>\n",
       "      <td>2</td>\n",
       "      <td>1330300800</td>\n",
       "      <td>so disappointing</td>\n",
       "      <td>I love sweet potato and especially sweet potat...</td>\n",
       "    </tr>\n",
       "    <tr>\n",
       "      <th>2</th>\n",
       "      <td>287488</td>\n",
       "      <td>B002T0IHJ0</td>\n",
       "      <td>A57AL4UMTTPDG</td>\n",
       "      <td>J. Jackson \"Jacq\"</td>\n",
       "      <td>1</td>\n",
       "      <td>1</td>\n",
       "      <td>2</td>\n",
       "      <td>1331942400</td>\n",
       "      <td>Diet Flavors are Not Great - Nasty Aftertaste</td>\n",
       "      <td>I absolutely love my Sodastream because I drin...</td>\n",
       "    </tr>\n",
       "    <tr>\n",
       "      <th>3</th>\n",
       "      <td>424479</td>\n",
       "      <td>B002N2T0GI</td>\n",
       "      <td>A1RDHASSNJE6XE</td>\n",
       "      <td>m</td>\n",
       "      <td>1</td>\n",
       "      <td>1</td>\n",
       "      <td>2</td>\n",
       "      <td>1295740800</td>\n",
       "      <td>Not as good as the Soulistic in Gelee</td>\n",
       "      <td>Having purchased the Soulistic \"Gelee\" and BFF...</td>\n",
       "    </tr>\n",
       "    <tr>\n",
       "      <th>4</th>\n",
       "      <td>212248</td>\n",
       "      <td>B001X7R32C</td>\n",
       "      <td>ATVD3UHXVNLFH</td>\n",
       "      <td>Diane Brzozowski \"Diane B.\"</td>\n",
       "      <td>0</td>\n",
       "      <td>0</td>\n",
       "      <td>5</td>\n",
       "      <td>1320624000</td>\n",
       "      <td>Very tasty, great price</td>\n",
       "      <td>My husband and I use this sauce all the time. ...</td>\n",
       "    </tr>\n",
       "  </tbody>\n",
       "</table>\n",
       "</div>"
      ],
      "text/plain": [
       "       Id   ProductId          UserId                  ProfileName  \\\n",
       "0  363281  B000G6Q4GW  A1WX42M589VAMQ                          Mir   \n",
       "1  485391  B001RVFERK  A350NHMBGYXEDP                       C. Lee   \n",
       "2  287488  B002T0IHJ0   A57AL4UMTTPDG            J. Jackson \"Jacq\"   \n",
       "3  424479  B002N2T0GI  A1RDHASSNJE6XE                            m   \n",
       "4  212248  B001X7R32C   ATVD3UHXVNLFH  Diane Brzozowski \"Diane B.\"   \n",
       "\n",
       "   HelpfulnessNumerator  HelpfulnessDenominator  Score        Time  \\\n",
       "0                    11                      11      5  1215907200   \n",
       "1                     0                       0      2  1330300800   \n",
       "2                     1                       1      2  1331942400   \n",
       "3                     1                       1      2  1295740800   \n",
       "4                     0                       0      5  1320624000   \n",
       "\n",
       "                                         Summary  \\\n",
       "0  Really Surprisingly Good Baked P-Chips! MMmm!   \n",
       "1                               so disappointing   \n",
       "2  Diet Flavors are Not Great - Nasty Aftertaste   \n",
       "3          Not as good as the Soulistic in Gelee   \n",
       "4                        Very tasty, great price   \n",
       "\n",
       "                                                Text  \n",
       "0  I'd pretty much given up on baked potato chips...  \n",
       "1  I love sweet potato and especially sweet potat...  \n",
       "2  I absolutely love my Sodastream because I drin...  \n",
       "3  Having purchased the Soulistic \"Gelee\" and BFF...  \n",
       "4  My husband and I use this sauce all the time. ...  "
      ]
     },
     "execution_count": 9,
     "metadata": {},
     "output_type": "execute_result"
    }
   ],
   "source": [
    "df.sample(n=5).reset_index(drop=True)"
   ]
  },
  {
   "cell_type": "code",
   "execution_count": 10,
   "metadata": {},
   "outputs": [
    {
     "data": {
      "text/html": [
       "<div>\n",
       "<style scoped>\n",
       "    .dataframe tbody tr th:only-of-type {\n",
       "        vertical-align: middle;\n",
       "    }\n",
       "\n",
       "    .dataframe tbody tr th {\n",
       "        vertical-align: top;\n",
       "    }\n",
       "\n",
       "    .dataframe thead th {\n",
       "        text-align: right;\n",
       "    }\n",
       "</style>\n",
       "<table border=\"1\" class=\"dataframe\">\n",
       "  <thead>\n",
       "    <tr style=\"text-align: right;\">\n",
       "      <th></th>\n",
       "      <th>Id</th>\n",
       "      <th>HelpfulnessNumerator</th>\n",
       "      <th>HelpfulnessDenominator</th>\n",
       "      <th>Score</th>\n",
       "      <th>Time</th>\n",
       "    </tr>\n",
       "  </thead>\n",
       "  <tbody>\n",
       "    <tr>\n",
       "      <th>count</th>\n",
       "      <td>568454.000000</td>\n",
       "      <td>568454.000000</td>\n",
       "      <td>568454.00000</td>\n",
       "      <td>568454.000000</td>\n",
       "      <td>5.684540e+05</td>\n",
       "    </tr>\n",
       "    <tr>\n",
       "      <th>mean</th>\n",
       "      <td>284227.500000</td>\n",
       "      <td>1.743817</td>\n",
       "      <td>2.22881</td>\n",
       "      <td>4.183199</td>\n",
       "      <td>1.296257e+09</td>\n",
       "    </tr>\n",
       "    <tr>\n",
       "      <th>std</th>\n",
       "      <td>164098.679298</td>\n",
       "      <td>7.636513</td>\n",
       "      <td>8.28974</td>\n",
       "      <td>1.310436</td>\n",
       "      <td>4.804331e+07</td>\n",
       "    </tr>\n",
       "    <tr>\n",
       "      <th>min</th>\n",
       "      <td>1.000000</td>\n",
       "      <td>0.000000</td>\n",
       "      <td>0.00000</td>\n",
       "      <td>1.000000</td>\n",
       "      <td>9.393408e+08</td>\n",
       "    </tr>\n",
       "    <tr>\n",
       "      <th>25%</th>\n",
       "      <td>142114.250000</td>\n",
       "      <td>0.000000</td>\n",
       "      <td>0.00000</td>\n",
       "      <td>4.000000</td>\n",
       "      <td>1.271290e+09</td>\n",
       "    </tr>\n",
       "    <tr>\n",
       "      <th>50%</th>\n",
       "      <td>284227.500000</td>\n",
       "      <td>0.000000</td>\n",
       "      <td>1.00000</td>\n",
       "      <td>5.000000</td>\n",
       "      <td>1.311120e+09</td>\n",
       "    </tr>\n",
       "    <tr>\n",
       "      <th>75%</th>\n",
       "      <td>426340.750000</td>\n",
       "      <td>2.000000</td>\n",
       "      <td>2.00000</td>\n",
       "      <td>5.000000</td>\n",
       "      <td>1.332720e+09</td>\n",
       "    </tr>\n",
       "    <tr>\n",
       "      <th>max</th>\n",
       "      <td>568454.000000</td>\n",
       "      <td>866.000000</td>\n",
       "      <td>923.00000</td>\n",
       "      <td>5.000000</td>\n",
       "      <td>1.351210e+09</td>\n",
       "    </tr>\n",
       "  </tbody>\n",
       "</table>\n",
       "</div>"
      ],
      "text/plain": [
       "                  Id  HelpfulnessNumerator  HelpfulnessDenominator  \\\n",
       "count  568454.000000         568454.000000            568454.00000   \n",
       "mean   284227.500000              1.743817                 2.22881   \n",
       "std    164098.679298              7.636513                 8.28974   \n",
       "min         1.000000              0.000000                 0.00000   \n",
       "25%    142114.250000              0.000000                 0.00000   \n",
       "50%    284227.500000              0.000000                 1.00000   \n",
       "75%    426340.750000              2.000000                 2.00000   \n",
       "max    568454.000000            866.000000               923.00000   \n",
       "\n",
       "               Score          Time  \n",
       "count  568454.000000  5.684540e+05  \n",
       "mean        4.183199  1.296257e+09  \n",
       "std         1.310436  4.804331e+07  \n",
       "min         1.000000  9.393408e+08  \n",
       "25%         4.000000  1.271290e+09  \n",
       "50%         5.000000  1.311120e+09  \n",
       "75%         5.000000  1.332720e+09  \n",
       "max         5.000000  1.351210e+09  "
      ]
     },
     "execution_count": 10,
     "metadata": {},
     "output_type": "execute_result"
    }
   ],
   "source": [
    "df.describe()"
   ]
  },
  {
   "cell_type": "markdown",
   "metadata": {},
   "source": [
    "## Field wise Analysis"
   ]
  },
  {
   "cell_type": "markdown",
   "metadata": {},
   "source": [
    "### ProductId\n",
    "\n",
    "Unique for each different product"
   ]
  },
  {
   "cell_type": "code",
   "execution_count": 11,
   "metadata": {},
   "outputs": [
    {
     "data": {
      "text/plain": [
       "74258"
      ]
     },
     "execution_count": 11,
     "metadata": {},
     "output_type": "execute_result"
    }
   ],
   "source": [
    "df[\"ProductId\"].nunique()"
   ]
  },
  {
   "cell_type": "code",
   "execution_count": 12,
   "metadata": {},
   "outputs": [
    {
     "data": {
      "text/plain": [
       "B007JFMH8M    913\n",
       "B002QWP89S    632\n",
       "B002QWHJOU    632\n",
       "B0026RQTGE    632\n",
       "B002QWP8H0    632\n",
       "Name: ProductId, dtype: int64"
      ]
     },
     "execution_count": 12,
     "metadata": {},
     "output_type": "execute_result"
    }
   ],
   "source": [
    "df[\"ProductId\"].value_counts().head()"
   ]
  },
  {
   "cell_type": "code",
   "execution_count": 13,
   "metadata": {},
   "outputs": [
    {
     "data": {
      "text/plain": [
       "B004D4UQ8A    4\n",
       "B00061MISK    4\n",
       "B001ET5Y0C    4\n",
       "B000LKUVXU    4\n",
       "B0002LIU9K    4\n",
       "             ..\n",
       "B000CESJNO    1\n",
       "B007BLXQ3Y    1\n",
       "B004V0SPUM    1\n",
       "B0055X2Y4M    1\n",
       "B002GJCP7E    1\n",
       "Name: ProductId, Length: 50000, dtype: int64"
      ]
     },
     "execution_count": 13,
     "metadata": {},
     "output_type": "execute_result"
    }
   ],
   "source": [
    "df[\"ProductId\"].value_counts().tail(50000)"
   ]
  },
  {
   "cell_type": "markdown",
   "metadata": {},
   "source": [
    "### Making Sense of Data"
   ]
  },
  {
   "cell_type": "markdown",
   "metadata": {},
   "source": [
    "Check if product ids are of uniform length"
   ]
  },
  {
   "cell_type": "code",
   "execution_count": 14,
   "metadata": {},
   "outputs": [
    {
     "data": {
      "text/plain": [
       "10    568454\n",
       "Name: ProductId, dtype: int64"
      ]
     },
     "execution_count": 14,
     "metadata": {},
     "output_type": "execute_result"
    }
   ],
   "source": [
    "df[\"ProductId\"].str.len().value_counts()"
   ]
  },
  {
   "cell_type": "markdown",
   "metadata": {},
   "source": [
    "**TODO** - Implement a regex check to validate if all the product ids follow a particular pattern `B00[0-9][A-Z]*4[0-9|A-Z]*2`"
   ]
  },
  {
   "cell_type": "code",
   "execution_count": 15,
   "metadata": {},
   "outputs": [],
   "source": [
    "pd.set_option('display.max_colwidth', None)"
   ]
  },
  {
   "cell_type": "markdown",
   "metadata": {},
   "source": [
    "**Verify if the dataset contains text explicitly about food products. Here, we focus on products with single reviews**"
   ]
  },
  {
   "cell_type": "code",
   "execution_count": 16,
   "metadata": {},
   "outputs": [
    {
     "data": {
      "text/html": [
       "<div>\n",
       "<style scoped>\n",
       "    .dataframe tbody tr th:only-of-type {\n",
       "        vertical-align: middle;\n",
       "    }\n",
       "\n",
       "    .dataframe tbody tr th {\n",
       "        vertical-align: top;\n",
       "    }\n",
       "\n",
       "    .dataframe thead th {\n",
       "        text-align: right;\n",
       "    }\n",
       "</style>\n",
       "<table border=\"1\" class=\"dataframe\">\n",
       "  <thead>\n",
       "    <tr style=\"text-align: right;\">\n",
       "      <th></th>\n",
       "      <th>Text</th>\n",
       "    </tr>\n",
       "  </thead>\n",
       "  <tbody>\n",
       "    <tr>\n",
       "      <th>11596</th>\n",
       "      <td>I love this syrup, it doesnt have all those added ingredients, its not like dark amber syrup thats extra sweet. A little bit goes a long way. When i pour it on my waffles i only need to pour it in the middle and thats enough for 1 whole waffle. So if you think this little bottle wont work for big families you would be mistaken, i use half as much as i would with the fructose added syrups.</td>\n",
       "    </tr>\n",
       "    <tr>\n",
       "      <th>46726</th>\n",
       "      <td>I am allergic to corn, so eating marshmallows, candy, pecan pie etc. without being able to have corn syrup is a real problem.&lt;p&gt;The Lyle's Golden Syrup, which is made from cane sugar syrup, can be used as a substitute for corn syrup.  It doesn't taste quite the same, though very good.  So I think, if one calls the pecan pie made from Lyle's Golden Syrup sugar pecan pie, for instance, it will be very satisfying as its own thing instead of a substitute for pecan pie.&lt;p&gt;To me, it seems a little sweeter than corn syrup.</td>\n",
       "    </tr>\n",
       "    <tr>\n",
       "      <th>60205</th>\n",
       "      <td>I was super excited about receiving my gluten free communion crackers. Let me tell you. These do not taste like Jesus at all!! Not only that, but I ate these after molesting some alter boys this morning and I did not feel any better. I think when removing the gluten, they accidentally removed the Christ! 1/10 - would not buy again :(</td>\n",
       "    </tr>\n",
       "    <tr>\n",
       "      <th>127659</th>\n",
       "      <td>This is a great flavor.  Lots of great watermelon taste.  Great in tea, great in soda water.  Packaged very well.  Glass bottle.</td>\n",
       "    </tr>\n",
       "    <tr>\n",
       "      <th>138756</th>\n",
       "      <td>Words fail to express the utter delight of sinking my teeth into this little creamy cloud of heavenly flavor.  No undifferentiated sweetness here.  The experience is layered (crunchy pecans, caramel that melts on the tongue), almost hypnotic (when tasting it I can almost see it fresh out of the copper pot, still warm on a slab of marble).  This is my review of ONE praline, original flavor.  I cannot imagine the 3 additional flavors included in this purchase, but am biding my time.  This is an experience not a quick snack.  The box of was delivered earlier than predicted, safely, and with all the generously sized pralines in perfect form.</td>\n",
       "    </tr>\n",
       "    <tr>\n",
       "      <th>256081</th>\n",
       "      <td>These are delightful light soft pepermint mint.  Great for snack or after dinner mint.  I think they deserve the five star rating.</td>\n",
       "    </tr>\n",
       "    <tr>\n",
       "      <th>337690</th>\n",
       "      <td>I'm a catering chef with almost 40 years experience and have a new friend.&lt;br /&gt;Great on corn on the cob&lt;br /&gt;Pasta salad&lt;br /&gt;Fried chicken&lt;br /&gt;Likewise mac &amp; cheese&lt;br /&gt;french fries&lt;br /&gt; THe point is if you like garlic you can bend &amp; twist this seasoning by adding a pinch of chile, basil or grated cheese to make any dish better.........good job</td>\n",
       "    </tr>\n",
       "    <tr>\n",
       "      <th>352216</th>\n",
       "      <td>This product is poorly made.  The stitching comes apart very easily, and our pug dog destroyed it in less than a minute.  There are better products on the market.</td>\n",
       "    </tr>\n",
       "    <tr>\n",
       "      <th>440368</th>\n",
       "      <td>I have been using this product instead of regular salt and it has made a difference in my health and level of wellbeing.</td>\n",
       "    </tr>\n",
       "    <tr>\n",
       "      <th>464925</th>\n",
       "      <td>I eat gluten free and always carry this bar in my purse and take them along when I travel. It provides adequate protein, good fat, and the lowest sugar (mostly dates) content of any of the \"protein\" type food bars I've looked at. Tastes good too. I use part of it for a snack if needed and sometimes whole bar for main part of a meal if I can't eat what is available.</td>\n",
       "    </tr>\n",
       "  </tbody>\n",
       "</table>\n",
       "</div>"
      ],
      "text/plain": [
       "                                                                                                                                                                                                                                                                                                                                                                                                                                                                                                                                                                                                                                                                         Text\n",
       "11596                                                                                                                                                                                                                                                                 I love this syrup, it doesnt have all those added ingredients, its not like dark amber syrup thats extra sweet. A little bit goes a long way. When i pour it on my waffles i only need to pour it in the middle and thats enough for 1 whole waffle. So if you think this little bottle wont work for big families you would be mistaken, i use half as much as i would with the fructose added syrups.\n",
       "46726                                                                                                                               I am allergic to corn, so eating marshmallows, candy, pecan pie etc. without being able to have corn syrup is a real problem.<p>The Lyle's Golden Syrup, which is made from cane sugar syrup, can be used as a substitute for corn syrup.  It doesn't taste quite the same, though very good.  So I think, if one calls the pecan pie made from Lyle's Golden Syrup sugar pecan pie, for instance, it will be very satisfying as its own thing instead of a substitute for pecan pie.<p>To me, it seems a little sweeter than corn syrup.\n",
       "60205                                                                                                                                                                                                                                                                                                                         I was super excited about receiving my gluten free communion crackers. Let me tell you. These do not taste like Jesus at all!! Not only that, but I ate these after molesting some alter boys this morning and I did not feel any better. I think when removing the gluten, they accidentally removed the Christ! 1/10 - would not buy again :(\n",
       "127659                                                                                                                                                                                                                                                                                                                                                                                                                                                                                                                                       This is a great flavor.  Lots of great watermelon taste.  Great in tea, great in soda water.  Packaged very well.  Glass bottle.\n",
       "138756  Words fail to express the utter delight of sinking my teeth into this little creamy cloud of heavenly flavor.  No undifferentiated sweetness here.  The experience is layered (crunchy pecans, caramel that melts on the tongue), almost hypnotic (when tasting it I can almost see it fresh out of the copper pot, still warm on a slab of marble).  This is my review of ONE praline, original flavor.  I cannot imagine the 3 additional flavors included in this purchase, but am biding my time.  This is an experience not a quick snack.  The box of was delivered earlier than predicted, safely, and with all the generously sized pralines in perfect form.\n",
       "256081                                                                                                                                                                                                                                                                                                                                                                                                                                                                                                                                     These are delightful light soft pepermint mint.  Great for snack or after dinner mint.  I think they deserve the five star rating.\n",
       "337690                                                                                                                                                                                                                                                                                                        I'm a catering chef with almost 40 years experience and have a new friend.<br />Great on corn on the cob<br />Pasta salad<br />Fried chicken<br />Likewise mac & cheese<br />french fries<br /> THe point is if you like garlic you can bend & twist this seasoning by adding a pinch of chile, basil or grated cheese to make any dish better.........good job\n",
       "352216                                                                                                                                                                                                                                                                                                                                                                                                                                                                                                     This product is poorly made.  The stitching comes apart very easily, and our pug dog destroyed it in less than a minute.  There are better products on the market.\n",
       "440368                                                                                                                                                                                                                                                                                                                                                                                                                                                                                                                                               I have been using this product instead of regular salt and it has made a difference in my health and level of wellbeing.\n",
       "464925                                                                                                                                                                                                                                                                                        I eat gluten free and always carry this bar in my purse and take them along when I travel. It provides adequate protein, good fat, and the lowest sugar (mostly dates) content of any of the \"protein\" type food bars I've looked at. Tastes good too. I use part of it for a snack if needed and sometimes whole bar for main part of a meal if I can't eat what is available."
      ]
     },
     "execution_count": 16,
     "metadata": {},
     "output_type": "execute_result"
    }
   ],
   "source": [
    "df.loc[df[\"ProductId\"].isin(df[\"ProductId\"].value_counts().tail(10).index.tolist())][\"Text\"].to_frame()"
   ]
  },
  {
   "cell_type": "code",
   "execution_count": 17,
   "metadata": {},
   "outputs": [
    {
     "data": {
      "text/html": [
       "<div>\n",
       "<style scoped>\n",
       "    .dataframe tbody tr th:only-of-type {\n",
       "        vertical-align: middle;\n",
       "    }\n",
       "\n",
       "    .dataframe tbody tr th {\n",
       "        vertical-align: top;\n",
       "    }\n",
       "\n",
       "    .dataframe thead th {\n",
       "        text-align: right;\n",
       "    }\n",
       "</style>\n",
       "<table border=\"1\" class=\"dataframe\">\n",
       "  <thead>\n",
       "    <tr style=\"text-align: right;\">\n",
       "      <th></th>\n",
       "      <th>Summary</th>\n",
       "    </tr>\n",
       "  </thead>\n",
       "  <tbody>\n",
       "    <tr>\n",
       "      <th>11596</th>\n",
       "      <td>A little goes a long way</td>\n",
       "    </tr>\n",
       "    <tr>\n",
       "      <th>46726</th>\n",
       "      <td>Lyle's Golden Syrup can substitute for corn syrup</td>\n",
       "    </tr>\n",
       "    <tr>\n",
       "      <th>60205</th>\n",
       "      <td>Not actually Jesus!</td>\n",
       "    </tr>\n",
       "    <tr>\n",
       "      <th>127659</th>\n",
       "      <td>Delicious</td>\n",
       "    </tr>\n",
       "    <tr>\n",
       "      <th>138756</th>\n",
       "      <td>Heavenly pralines</td>\n",
       "    </tr>\n",
       "    <tr>\n",
       "      <th>256081</th>\n",
       "      <td>wonderful soft mints</td>\n",
       "    </tr>\n",
       "    <tr>\n",
       "      <th>337690</th>\n",
       "      <td>awesome general seasoning</td>\n",
       "    </tr>\n",
       "    <tr>\n",
       "      <th>352216</th>\n",
       "      <td>Baby Bear Disaster</td>\n",
       "    </tr>\n",
       "    <tr>\n",
       "      <th>440368</th>\n",
       "      <td>Great Product!</td>\n",
       "    </tr>\n",
       "    <tr>\n",
       "      <th>464925</th>\n",
       "      <td>Great on the go</td>\n",
       "    </tr>\n",
       "  </tbody>\n",
       "</table>\n",
       "</div>"
      ],
      "text/plain": [
       "                                                  Summary\n",
       "11596                            A little goes a long way\n",
       "46726   Lyle's Golden Syrup can substitute for corn syrup\n",
       "60205                                 Not actually Jesus!\n",
       "127659                                          Delicious\n",
       "138756                                  Heavenly pralines\n",
       "256081                               wonderful soft mints\n",
       "337690                          awesome general seasoning\n",
       "352216                                 Baby Bear Disaster\n",
       "440368                                     Great Product!\n",
       "464925                                    Great on the go"
      ]
     },
     "execution_count": 17,
     "metadata": {},
     "output_type": "execute_result"
    }
   ],
   "source": [
    "df.loc[df[\"ProductId\"].isin(df[\"ProductId\"].value_counts().tail(10).index.tolist())][\"Summary\"].to_frame()"
   ]
  },
  {
   "cell_type": "markdown",
   "metadata": {},
   "source": [
    "Looks like Summary & Text are in sync & Summary is representative of the review text"
   ]
  },
  {
   "cell_type": "markdown",
   "metadata": {},
   "source": [
    "## UserId"
   ]
  },
  {
   "cell_type": "code",
   "execution_count": 18,
   "metadata": {},
   "outputs": [
    {
     "data": {
      "text/plain": [
       "count             568454\n",
       "unique            256059\n",
       "top       A3OXHLG6DIBRW8\n",
       "freq                 448\n",
       "Name: UserId, dtype: object"
      ]
     },
     "execution_count": 18,
     "metadata": {},
     "output_type": "execute_result"
    }
   ],
   "source": [
    "df[\"UserId\"].describe()"
   ]
  },
  {
   "cell_type": "markdown",
   "metadata": {},
   "source": [
    "About half of the reviewers are unique"
   ]
  },
  {
   "cell_type": "code",
   "execution_count": 19,
   "metadata": {},
   "outputs": [
    {
     "data": {
      "text/plain": [
       "A3OXHLG6DIBRW8    448\n",
       "A1YUL9PCJR3JTY    421\n",
       "AY12DBB0U420B     389\n",
       "A281NPSIMI1C2R    365\n",
       "A1Z54EM24Y40LL    256\n",
       "A1TMAVN4CEM8U8    204\n",
       "A2MUGFV2TDQ47K    201\n",
       "A3TVZM3ZIXG8YW    199\n",
       "A3PJZ8TU8FDQ1K    178\n",
       "AQQLWCMRNDFGI     176\n",
       "Name: UserId, dtype: int64"
      ]
     },
     "execution_count": 19,
     "metadata": {},
     "output_type": "execute_result"
    }
   ],
   "source": [
    "df[\"UserId\"].value_counts().head(10)"
   ]
  },
  {
   "cell_type": "code",
   "execution_count": 20,
   "metadata": {},
   "outputs": [
    {
     "data": {
      "text/plain": [
       "A2YPRR1I02W7IC    2\n",
       "A1OG87A25DYGAG    2\n",
       "AWHLC7VUU5UL2     2\n",
       "AE3DFQ1NN1DWV     2\n",
       "A1FP4DFC0D5E90    2\n",
       "                 ..\n",
       "A3F5HW2RDYJ3GO    1\n",
       "A11N045YYLW4NU    1\n",
       "A2HDERT6VTAS61    1\n",
       "AQWG2S5RF2I0R     1\n",
       "ABH1WJ0TWJT8D     1\n",
       "Name: UserId, Length: 200000, dtype: int64"
      ]
     },
     "execution_count": 20,
     "metadata": {},
     "output_type": "execute_result"
    }
   ],
   "source": [
    "df[\"UserId\"].value_counts().tail(200000)"
   ]
  },
  {
   "cell_type": "markdown",
   "metadata": {},
   "source": [
    "Since about >0.2M of reviewers have a single review - it might be challenging to map their review text to scores."
   ]
  },
  {
   "cell_type": "code",
   "execution_count": 21,
   "metadata": {},
   "outputs": [
    {
     "data": {
      "text/plain": [
       "B0012BUR8Q    4\n",
       "B000CQC050    4\n",
       "B000CQID2Y    4\n",
       "B000CQG89Y    4\n",
       "B003CK0XC0    4\n",
       "             ..\n",
       "B000E1587K    1\n",
       "B003N657V0    1\n",
       "B000E199RA    1\n",
       "B0001GSP9G    1\n",
       "B002HFPDCQ    1\n",
       "Name: ProductId, Length: 309, dtype: int64"
      ]
     },
     "execution_count": 21,
     "metadata": {},
     "output_type": "execute_result"
    }
   ],
   "source": [
    "df.loc[df[\"UserId\"].str.strip()==\"A1YUL9PCJR3JTY\"][\"ProductId\"].value_counts()"
   ]
  },
  {
   "cell_type": "code",
   "execution_count": 22,
   "metadata": {},
   "outputs": [
    {
     "data": {
      "text/html": [
       "<div>\n",
       "<style scoped>\n",
       "    .dataframe tbody tr th:only-of-type {\n",
       "        vertical-align: middle;\n",
       "    }\n",
       "\n",
       "    .dataframe tbody tr th {\n",
       "        vertical-align: top;\n",
       "    }\n",
       "\n",
       "    .dataframe thead th {\n",
       "        text-align: right;\n",
       "    }\n",
       "</style>\n",
       "<table border=\"1\" class=\"dataframe\">\n",
       "  <thead>\n",
       "    <tr style=\"text-align: right;\">\n",
       "      <th></th>\n",
       "      <th>Text</th>\n",
       "      <th>Score</th>\n",
       "      <th>Summary</th>\n",
       "    </tr>\n",
       "  </thead>\n",
       "  <tbody>\n",
       "    <tr>\n",
       "      <th>179429</th>\n",
       "      <td>***&lt;br /&gt;Stash's Lemon Ginger Caffeine Free Herbal Tea is a basic lemon ginger tea, tasting strongly of ginger, and full of flavorings, and oddly, even contains soy. This is one of the better commercial highly processed, non-organic teas. I much prefer organic teas that are made without artificial flavorings and certainly without soy, but if you are not picky about herb teas, and are looking something very strongly flavored as an introduction to the world of teasans and decaffeinated beverages, this would be fine. If you like your tea more subtle, with true pure tastes, and can discern complex differences between natural and commercial teas, then this definitely is not for you, and I would recommend any Numi tea, Yogi Tea, Traditional Medicinals, or even Stash's organic line of teas (which comes in a wonderful Lemon Ginger Organic Tea!)&lt;br /&gt;&lt;br /&gt;Stash Lemon Ginger Tea contains ginger root, lemongrass, lemon flavor, safflower, hibiscus, citric acid, and soy.&lt;br /&gt;&lt;br /&gt;Unfortunately, nothing special.&lt;br /&gt;***</td>\n",
       "      <td>3</td>\n",
       "      <td>Basic Lemon Ginger Herbal Tea</td>\n",
       "    </tr>\n",
       "    <tr>\n",
       "      <th>179434</th>\n",
       "      <td>****&lt;br /&gt;Stash's Chamomile Caffeine Free Herbal Tea is one of their totally natural teas, containing only chamomile flowers. Although I do like this, it means that the tea is rather weak, but still a fine tea---just use two teabags. Many people will find this tea too subtle. I think that Stash's more natural teas seem to be a little mild and undistinguished, while their flavored teas are super-powerful, erring on the side of too powerful, overwhelming the tea drinker with all types of strong added flavorings. If I had to pick, I'd always take subtle, as you can make these teas, like this chamomile tea, stronger by doubling up on the bags, but you can't make the strongly flavored teas weaker!&lt;br /&gt;&lt;br /&gt;Stash Tea has been around for over 35 years, and they are moving in the direction of more organic and loose teas, more true flavors instead of added flavorings. I appreciate that their chamomile is so pure, but wish it could be a little more flavorful.&lt;br /&gt;&lt;br /&gt;Still, recommended.&lt;br /&gt;****</td>\n",
       "      <td>4</td>\n",
       "      <td>Subtle, Mild Chamomile Tea</td>\n",
       "    </tr>\n",
       "    <tr>\n",
       "      <th>179450</th>\n",
       "      <td>*****&lt;br /&gt;Stash's Licorice Spice Caffeine Free Herbal Tea has a the sweet flavor licorice teas are known for, along with several nice spices that complement the licorice in a lovely, more-subtle-than-chai way. Licorice Spice Tea contains licorice root, cinnamon, orange peel, star anise, sarsaparilla, natural vanilla flavor, natural orange flavor, natural clove flavor, natural cardamom flavor, and natural cinnamon flavor. Sweet and delicious!&lt;br /&gt;&lt;br /&gt;You don't need to add anything at all to Licorice Spice Tea, even if you normally like your tea sweetened. It is perfect just as is. It also has a very smooth taste, despite all of the flavorings. The tea bags come stamped with an expiration date, which I like, so that you can be sure the tea is fresh. The date on mine is 26 months away, so you can take your time :)&lt;br /&gt;&lt;br /&gt;Definitely recommended.&lt;br /&gt;*****</td>\n",
       "      <td>5</td>\n",
       "      <td>Sweet and Lovely Tea</td>\n",
       "    </tr>\n",
       "    <tr>\n",
       "      <th>179485</th>\n",
       "      <td>****&lt;br /&gt;Stash's Wild Raspberry Caffeine Free Herbal Tea is strong and fruity, great if you love the taste of raspberry and hibiscus, which I do. It contains hibiscus, orange peel, lemongrass, rosehips, natural raspberry flavor, licorice powder, and citric acid. The package says it also contains soy, but that makes little sense to me. It is a fine tasting herb tea.&lt;br /&gt;&lt;br /&gt;If you like a more subtle tea, you may not be crazy about Wild Raspberry. But if you like Celestial Seasonings and other commercial teas, I think that this is a good one. The reason I gave this tea four stars instead of five is that it isn't as pure as it could be (contains additives and flavorings) and I can tell. I prefer a more subtle tea. And I save five stars for the very best teas I've tried. But for those of you who like a lot of flavor, and can't taste the additives, it's just fine!&lt;br /&gt;&lt;br /&gt;Recommended.&lt;br /&gt;****</td>\n",
       "      <td>4</td>\n",
       "      <td>Hibiscus and Raspberry Delight</td>\n",
       "    </tr>\n",
       "  </tbody>\n",
       "</table>\n",
       "</div>"
      ],
      "text/plain": [
       "                                                                                                                                                                                                                                                                                                                                                                                                                                                                                                                                                                                                                                                                                                                                                                                                                                                                                                                                                                                                                                                                     Text  \\\n",
       "179429  ***<br />Stash's Lemon Ginger Caffeine Free Herbal Tea is a basic lemon ginger tea, tasting strongly of ginger, and full of flavorings, and oddly, even contains soy. This is one of the better commercial highly processed, non-organic teas. I much prefer organic teas that are made without artificial flavorings and certainly without soy, but if you are not picky about herb teas, and are looking something very strongly flavored as an introduction to the world of teasans and decaffeinated beverages, this would be fine. If you like your tea more subtle, with true pure tastes, and can discern complex differences between natural and commercial teas, then this definitely is not for you, and I would recommend any Numi tea, Yogi Tea, Traditional Medicinals, or even Stash's organic line of teas (which comes in a wonderful Lemon Ginger Organic Tea!)<br /><br />Stash Lemon Ginger Tea contains ginger root, lemongrass, lemon flavor, safflower, hibiscus, citric acid, and soy.<br /><br />Unfortunately, nothing special.<br />***   \n",
       "179434                     ****<br />Stash's Chamomile Caffeine Free Herbal Tea is one of their totally natural teas, containing only chamomile flowers. Although I do like this, it means that the tea is rather weak, but still a fine tea---just use two teabags. Many people will find this tea too subtle. I think that Stash's more natural teas seem to be a little mild and undistinguished, while their flavored teas are super-powerful, erring on the side of too powerful, overwhelming the tea drinker with all types of strong added flavorings. If I had to pick, I'd always take subtle, as you can make these teas, like this chamomile tea, stronger by doubling up on the bags, but you can't make the strongly flavored teas weaker!<br /><br />Stash Tea has been around for over 35 years, and they are moving in the direction of more organic and loose teas, more true flavors instead of added flavorings. I appreciate that their chamomile is so pure, but wish it could be a little more flavorful.<br /><br />Still, recommended.<br />****   \n",
       "179450                                                                                                                                                           *****<br />Stash's Licorice Spice Caffeine Free Herbal Tea has a the sweet flavor licorice teas are known for, along with several nice spices that complement the licorice in a lovely, more-subtle-than-chai way. Licorice Spice Tea contains licorice root, cinnamon, orange peel, star anise, sarsaparilla, natural vanilla flavor, natural orange flavor, natural clove flavor, natural cardamom flavor, and natural cinnamon flavor. Sweet and delicious!<br /><br />You don't need to add anything at all to Licorice Spice Tea, even if you normally like your tea sweetened. It is perfect just as is. It also has a very smooth taste, despite all of the flavorings. The tea bags come stamped with an expiration date, which I like, so that you can be sure the tea is fresh. The date on mine is 26 months away, so you can take your time :)<br /><br />Definitely recommended.<br />*****   \n",
       "179485                                                                                                                      ****<br />Stash's Wild Raspberry Caffeine Free Herbal Tea is strong and fruity, great if you love the taste of raspberry and hibiscus, which I do. It contains hibiscus, orange peel, lemongrass, rosehips, natural raspberry flavor, licorice powder, and citric acid. The package says it also contains soy, but that makes little sense to me. It is a fine tasting herb tea.<br /><br />If you like a more subtle tea, you may not be crazy about Wild Raspberry. But if you like Celestial Seasonings and other commercial teas, I think that this is a good one. The reason I gave this tea four stars instead of five is that it isn't as pure as it could be (contains additives and flavorings) and I can tell. I prefer a more subtle tea. And I save five stars for the very best teas I've tried. But for those of you who like a lot of flavor, and can't taste the additives, it's just fine!<br /><br />Recommended.<br />****   \n",
       "\n",
       "        Score                         Summary  \n",
       "179429      3   Basic Lemon Ginger Herbal Tea  \n",
       "179434      4      Subtle, Mild Chamomile Tea  \n",
       "179450      5            Sweet and Lovely Tea  \n",
       "179485      4  Hibiscus and Raspberry Delight  "
      ]
     },
     "execution_count": 22,
     "metadata": {},
     "output_type": "execute_result"
    }
   ],
   "source": [
    "df.loc[(df[\"UserId\"].str.strip()==\"A1YUL9PCJR3JTY\") & (df[\"ProductId\"]==\"B000CQC050\")][[\"Text\", \"Score\", \"Summary\"]]"
   ]
  },
  {
   "cell_type": "markdown",
   "metadata": {},
   "source": [
    "**For different productids a single reviewer has same review text**"
   ]
  },
  {
   "cell_type": "markdown",
   "metadata": {},
   "source": [
    "**Can use the text between last two breaks as an additional data field**"
   ]
  },
  {
   "cell_type": "markdown",
   "metadata": {},
   "source": [
    "## ProfileName"
   ]
  },
  {
   "cell_type": "code",
   "execution_count": 23,
   "metadata": {},
   "outputs": [
    {
     "data": {
      "text/plain": [
       "(213222, 256059)"
      ]
     },
     "execution_count": 23,
     "metadata": {},
     "output_type": "execute_result"
    }
   ],
   "source": [
    "df[\"ProfileName\"].str.strip().str.upper().nunique(), df[\"UserId\"].str.strip().str.upper().nunique()"
   ]
  },
  {
   "cell_type": "code",
   "execution_count": 24,
   "metadata": {},
   "outputs": [
    {
     "name": "stdout",
     "output_type": "stream",
     "text": [
      "Karl\n",
      "R. James\n",
      "LT\n",
      "Becca\n",
      "Greg\n",
      "Garrett\n",
      "Peggy\n",
      "Doug\n",
      "Chet\n",
      "Marie\n"
     ]
    }
   ],
   "source": [
    "count = 0\n",
    "\n",
    "for name in df[\"ProfileName\"].unique():\n",
    "    if df.loc[df[\"ProfileName\"]==name][\"UserId\"].nunique() > 2:\n",
    "        print(name)\n",
    "        count += 1\n",
    "    if count==10:\n",
    "        break"
   ]
  },
  {
   "cell_type": "code",
   "execution_count": 25,
   "metadata": {},
   "outputs": [
    {
     "data": {
      "text/html": [
       "<div>\n",
       "<style scoped>\n",
       "    .dataframe tbody tr th:only-of-type {\n",
       "        vertical-align: middle;\n",
       "    }\n",
       "\n",
       "    .dataframe tbody tr th {\n",
       "        vertical-align: top;\n",
       "    }\n",
       "\n",
       "    .dataframe thead th {\n",
       "        text-align: right;\n",
       "    }\n",
       "</style>\n",
       "<table border=\"1\" class=\"dataframe\">\n",
       "  <thead>\n",
       "    <tr style=\"text-align: right;\">\n",
       "      <th></th>\n",
       "      <th>ProfileName</th>\n",
       "      <th>UserId</th>\n",
       "      <th>Text</th>\n",
       "    </tr>\n",
       "  </thead>\n",
       "  <tbody>\n",
       "    <tr>\n",
       "      <th>12</th>\n",
       "      <td>LT</td>\n",
       "      <td>A327PCT23YH90</td>\n",
       "      <td>My cats have been happily eating Felidae Platinum for more than two years. I just got a new bag and the shape of the food is different. They tried the new food when I first put it in their bowls and now the bowls sit full and the kitties will not touch the food. I've noticed similar reviews related to formula changes in the past. Unfortunately, I now need to find a new food that my cats will eat.</td>\n",
       "    </tr>\n",
       "    <tr>\n",
       "      <th>64079</th>\n",
       "      <td>LT</td>\n",
       "      <td>AKSY4AKCMKXIW</td>\n",
       "      <td>I am very picky when it comes to coffee, but I've really been enjoying this product and would definitely recommend it to anyone for their choice of coffee. Very good flavor and just the right strength.</td>\n",
       "    </tr>\n",
       "    <tr>\n",
       "      <th>121009</th>\n",
       "      <td>LT</td>\n",
       "      <td>A2JZMZJ4D61RP0</td>\n",
       "      <td>Gluten Free Folks!  You will love these.  I buy them by the case.  They are a staple for me.  I do like rice cakes; but I like these much more.</td>\n",
       "    </tr>\n",
       "    <tr>\n",
       "      <th>249880</th>\n",
       "      <td>LT</td>\n",
       "      <td>A2E7AQO7EP45QB</td>\n",
       "      <td>The jerkey tasted great however I feel the cans were very underfilled. All the cans were under half full and I know its says .44 oz but good grief, two pinches and its gone. Over priced in my opinion.</td>\n",
       "    </tr>\n",
       "    <tr>\n",
       "      <th>287167</th>\n",
       "      <td>LT</td>\n",
       "      <td>A2NKIHD5MDFD0A</td>\n",
       "      <td>I use the Special K protein water mix with my daily protein drinks...it gives it an extra kick and taste great with all the favors I use; and ordering from Amazon was a breeze.  In fact, I had ordered the product and it was delivered immediately~~what service!!</td>\n",
       "    </tr>\n",
       "    <tr>\n",
       "      <th>306024</th>\n",
       "      <td>LT</td>\n",
       "      <td>A2QXOJWNPCYUWG</td>\n",
       "      <td>This product is delicious!  I got a bottle once at a little boutique store and sort of lost it in my fridge.  Well I found it again just recently after I had grilled pork chops.  Yum.  I had some with my pork chops AND on top of the baked potato.  I love the flavor and the texture.&lt;br /&gt;&lt;br /&gt;I've also had this with brie or cream cheese on crackers.  Yummmmm.  My bottle is now empty and I'm planning on looking at the grocery store tomorrow.  If they do NOT have it... I'll be back... probably buying 3 bottles.</td>\n",
       "    </tr>\n",
       "    <tr>\n",
       "      <th>315946</th>\n",
       "      <td>LT</td>\n",
       "      <td>A2JYPA4AL8ICG7</td>\n",
       "      <td>The item was advertised as having no MSG, there is a sticker attached to the package that says no MSG, however the original blue package lists monosodium glutamate (which is MSG!) as ingredient.</td>\n",
       "    </tr>\n",
       "    <tr>\n",
       "      <th>324824</th>\n",
       "      <td>LT</td>\n",
       "      <td>A3BWHISEIKAUCY</td>\n",
       "      <td>For those of you who like Indian food, and do not know how to cook it, or want to spend the time preparing the cuisine, these are a good way to get a decent meal on the table in the time it takes to make rice.  Though not as great tasting as the Real Deal, they are okay.  Our son is at college, living in an apartment, so makes a lot of his own meals.  He loves these as he knows he can have a meal on the table in 20 minutes.  These are also a good way to introduce those who have never had real Indian cuisine, since most are not that spicy/hot.  Buying an individual pouch can be expensive, but once you find ones you like, buy a case.  They keep forever in the pantry.</td>\n",
       "    </tr>\n",
       "    <tr>\n",
       "      <th>367646</th>\n",
       "      <td>LT</td>\n",
       "      <td>A3PPSOC2489H9N</td>\n",
       "      <td>This product works great on my hair as a hot oil treatment and conditioner.  It is also great for skin care and is gentle enough for children.</td>\n",
       "    </tr>\n",
       "    <tr>\n",
       "      <th>385749</th>\n",
       "      <td>LT</td>\n",
       "      <td>A2W911E5RJHZ02</td>\n",
       "      <td>One fizzie for 6 oz. of water is about right.  If you use a big glass, use more fizzies.&lt;br /&gt;&lt;br /&gt;It does have the artificial sweetener taste to it, but our kids love this stuff.  I bought them years ago, and they have asked for them regularly ever since.  The place I bought them no longer carries them and it FINALLy occured to me to check Amazon, and here they are!&lt;br /&gt;&lt;br /&gt;The biggest problem your kids will have is waiting for the fizzie to finish fizzing before drinking it to get the full flavor.  They will want to drink it while it is still fizzing.  That's how kids are.&lt;br /&gt;&lt;br /&gt;You would buy this instead of some other kid drink because, well, it fizzes and makes itself!  That's the fun of it.&lt;br /&gt;&lt;br /&gt;You get 6 boxes with 12 fizzies in each box.  Each fizzie is individually wrapped.&lt;br /&gt;&lt;br /&gt;Orange does seem to be the best working flavor.</td>\n",
       "    </tr>\n",
       "    <tr>\n",
       "      <th>413478</th>\n",
       "      <td>LT</td>\n",
       "      <td>A2FPEK8YNULOM6</td>\n",
       "      <td>I have clothing moths.I bought 5 boxes of this product and put it in my closets, living room &amp; storage area. Not one moth has been caught. Unfortunately, I know I still have clothing. moths</td>\n",
       "    </tr>\n",
       "    <tr>\n",
       "      <th>440533</th>\n",
       "      <td>LT</td>\n",
       "      <td>A21QJG7F9E0LMQ</td>\n",
       "      <td>My dogs are a little bit picky about treats, but they absolutely loved these! In fact, one of them even snuck in the pantry and grabbed the whole bag and tried to make off with them.  It was very cute and I will definitely order these again.</td>\n",
       "    </tr>\n",
       "    <tr>\n",
       "      <th>440692</th>\n",
       "      <td>LT</td>\n",
       "      <td>A327PCT23YH90</td>\n",
       "      <td>I chose to switch my cats to Felidae after the food they'd been eating for five years was discontinued and I had trouble finding something they liked that was safe for them to eat. Felidae seems to be one of the only brands not involved in the constant pet food recalls. I did start them on the non-senior variety and then moved to this when it was time to more closely watch their weight. They are healthy and shiny with fewer hairballs than they had in the past. UPDATE (June 13, 2012): I just got a new bag of this food. The formula seems to have changed (indicated by a new food shape), and my cats will no longer eat it.</td>\n",
       "    </tr>\n",
       "    <tr>\n",
       "      <th>464035</th>\n",
       "      <td>LT</td>\n",
       "      <td>A21QJG7F9E0LMQ</td>\n",
       "      <td>Product arrived quickly and the treats were very fresh! Will definitely order again when the dogs run out, these treats are low cal too which is an added bonus.</td>\n",
       "    </tr>\n",
       "    <tr>\n",
       "      <th>489672</th>\n",
       "      <td>LT</td>\n",
       "      <td>A2T4HURXU05SDQ</td>\n",
       "      <td>Black Tiger was my third Coffee People flavor after trying Donut Shop and Jet Fuel. Donut Shop is a bit weak for me and Jet Fuel was too strong, so I hoped this would be the perfect strength. The strength is right on, but this flavor has an overly bitter taste that really turns me off. It is drinkable, but I think I'll be going back to Donut Shop (which is super smooth) for my next order.</td>\n",
       "    </tr>\n",
       "  </tbody>\n",
       "</table>\n",
       "</div>"
      ],
      "text/plain": [
       "       ProfileName          UserId  \\\n",
       "12              LT   A327PCT23YH90   \n",
       "64079           LT   AKSY4AKCMKXIW   \n",
       "121009          LT  A2JZMZJ4D61RP0   \n",
       "249880          LT  A2E7AQO7EP45QB   \n",
       "287167          LT  A2NKIHD5MDFD0A   \n",
       "306024          LT  A2QXOJWNPCYUWG   \n",
       "315946          LT  A2JYPA4AL8ICG7   \n",
       "324824          LT  A3BWHISEIKAUCY   \n",
       "367646          LT  A3PPSOC2489H9N   \n",
       "385749          LT  A2W911E5RJHZ02   \n",
       "413478          LT  A2FPEK8YNULOM6   \n",
       "440533          LT  A21QJG7F9E0LMQ   \n",
       "440692          LT   A327PCT23YH90   \n",
       "464035          LT  A21QJG7F9E0LMQ   \n",
       "489672          LT  A2T4HURXU05SDQ   \n",
       "\n",
       "                                                                                                                                                                                                                                                                                                                                                                                                                                                                                                                                                                                                                                                                                                                                                                                                                                                                                                      Text  \n",
       "12                                                                                                                                                                                                                                                                                                                                                                                                                                                                                         My cats have been happily eating Felidae Platinum for more than two years. I just got a new bag and the shape of the food is different. They tried the new food when I first put it in their bowls and now the bowls sit full and the kitties will not touch the food. I've noticed similar reviews related to formula changes in the past. Unfortunately, I now need to find a new food that my cats will eat.  \n",
       "64079                                                                                                                                                                                                                                                                                                                                                                                                                                                                                                                                                                                                                                                                                            I am very picky when it comes to coffee, but I've really been enjoying this product and would definitely recommend it to anyone for their choice of coffee. Very good flavor and just the right strength.  \n",
       "121009                                                                                                                                                                                                                                                                                                                                                                                                                                                                                                                                                                                                                                                                                                                                                     Gluten Free Folks!  You will love these.  I buy them by the case.  They are a staple for me.  I do like rice cakes; but I like these much more.  \n",
       "249880                                                                                                                                                                                                                                                                                                                                                                                                                                                                                                                                                                                                                                                                                            The jerkey tasted great however I feel the cans were very underfilled. All the cans were under half full and I know its says .44 oz but good grief, two pinches and its gone. Over priced in my opinion.  \n",
       "287167                                                                                                                                                                                                                                                                                                                                                                                                                                                                                                                                                                                                                               I use the Special K protein water mix with my daily protein drinks...it gives it an extra kick and taste great with all the favors I use; and ordering from Amazon was a breeze.  In fact, I had ordered the product and it was delivered immediately~~what service!!  \n",
       "306024                                                                                                                                                                                                                                                                                                                                                                  This product is delicious!  I got a bottle once at a little boutique store and sort of lost it in my fridge.  Well I found it again just recently after I had grilled pork chops.  Yum.  I had some with my pork chops AND on top of the baked potato.  I love the flavor and the texture.<br /><br />I've also had this with brie or cream cheese on crackers.  Yummmmm.  My bottle is now empty and I'm planning on looking at the grocery store tomorrow.  If they do NOT have it... I'll be back... probably buying 3 bottles.  \n",
       "315946                                                                                                                                                                                                                                                                                                                                                                                                                                                                                                                                                                                                                                                                                                  The item was advertised as having no MSG, there is a sticker attached to the package that says no MSG, however the original blue package lists monosodium glutamate (which is MSG!) as ingredient.  \n",
       "324824                                                                                                                                                                                                   For those of you who like Indian food, and do not know how to cook it, or want to spend the time preparing the cuisine, these are a good way to get a decent meal on the table in the time it takes to make rice.  Though not as great tasting as the Real Deal, they are okay.  Our son is at college, living in an apartment, so makes a lot of his own meals.  He loves these as he knows he can have a meal on the table in 20 minutes.  These are also a good way to introduce those who have never had real Indian cuisine, since most are not that spicy/hot.  Buying an individual pouch can be expensive, but once you find ones you like, buy a case.  They keep forever in the pantry.  \n",
       "367646                                                                                                                                                                                                                                                                                                                                                                                                                                                                                                                                                                                                                                                                                                                                                      This product works great on my hair as a hot oil treatment and conditioner.  It is also great for skin care and is gentle enough for children.  \n",
       "385749  One fizzie for 6 oz. of water is about right.  If you use a big glass, use more fizzies.<br /><br />It does have the artificial sweetener taste to it, but our kids love this stuff.  I bought them years ago, and they have asked for them regularly ever since.  The place I bought them no longer carries them and it FINALLy occured to me to check Amazon, and here they are!<br /><br />The biggest problem your kids will have is waiting for the fizzie to finish fizzing before drinking it to get the full flavor.  They will want to drink it while it is still fizzing.  That's how kids are.<br /><br />You would buy this instead of some other kid drink because, well, it fizzes and makes itself!  That's the fun of it.<br /><br />You get 6 boxes with 12 fizzies in each box.  Each fizzie is individually wrapped.<br /><br />Orange does seem to be the best working flavor.  \n",
       "413478                                                                                                                                                                                                                                                                                                                                                                                                                                                                                                                                                                                                                                                                                                       I have clothing moths.I bought 5 boxes of this product and put it in my closets, living room & storage area. Not one moth has been caught. Unfortunately, I know I still have clothing. moths  \n",
       "440533                                                                                                                                                                                                                                                                                                                                                                                                                                                                                                                                                                                                                                                   My dogs are a little bit picky about treats, but they absolutely loved these! In fact, one of them even snuck in the pantry and grabbed the whole bag and tried to make off with them.  It was very cute and I will definitely order these again.  \n",
       "440692                                                                                                                                                                                                                                                   I chose to switch my cats to Felidae after the food they'd been eating for five years was discontinued and I had trouble finding something they liked that was safe for them to eat. Felidae seems to be one of the only brands not involved in the constant pet food recalls. I did start them on the non-senior variety and then moved to this when it was time to more closely watch their weight. They are healthy and shiny with fewer hairballs than they had in the past. UPDATE (June 13, 2012): I just got a new bag of this food. The formula seems to have changed (indicated by a new food shape), and my cats will no longer eat it.  \n",
       "464035                                                                                                                                                                                                                                                                                                                                                                                                                                                                                                                                                                                                                                                                                                                                    Product arrived quickly and the treats were very fresh! Will definitely order again when the dogs run out, these treats are low cal too which is an added bonus.  \n",
       "489672                                                                                                                                                                                                                                                                                                                                                                                                                                                                                             Black Tiger was my third Coffee People flavor after trying Donut Shop and Jet Fuel. Donut Shop is a bit weak for me and Jet Fuel was too strong, so I hoped this would be the perfect strength. The strength is right on, but this flavor has an overly bitter taste that really turns me off. It is drinkable, but I think I'll be going back to Donut Shop (which is super smooth) for my next order.  "
      ]
     },
     "execution_count": 25,
     "metadata": {},
     "output_type": "execute_result"
    }
   ],
   "source": [
    "df.loc[df[\"ProfileName\"].str.strip()==\"LT\"][[\"ProfileName\", \"UserId\", \"Text\"]]"
   ]
  },
  {
   "cell_type": "markdown",
   "metadata": {},
   "source": [
    "**Some profilenames have >1 UserIds - possibly because `ProfileName` field captures just the first name & these are very common names**\n",
    "\n",
    "> Text can still be used & are unique"
   ]
  },
  {
   "cell_type": "markdown",
   "metadata": {},
   "source": [
    "## HelpfulnessNumerator & HelpfulnessDenominator"
   ]
  },
  {
   "cell_type": "code",
   "execution_count": 26,
   "metadata": {},
   "outputs": [
    {
     "data": {
      "text/html": [
       "<div>\n",
       "<style scoped>\n",
       "    .dataframe tbody tr th:only-of-type {\n",
       "        vertical-align: middle;\n",
       "    }\n",
       "\n",
       "    .dataframe tbody tr th {\n",
       "        vertical-align: top;\n",
       "    }\n",
       "\n",
       "    .dataframe thead th {\n",
       "        text-align: right;\n",
       "    }\n",
       "</style>\n",
       "<table border=\"1\" class=\"dataframe\">\n",
       "  <thead>\n",
       "    <tr style=\"text-align: right;\">\n",
       "      <th></th>\n",
       "      <th>HelpfulnessNumerator</th>\n",
       "      <th>HelpfulnessDenominator</th>\n",
       "    </tr>\n",
       "  </thead>\n",
       "  <tbody>\n",
       "    <tr>\n",
       "      <th>count</th>\n",
       "      <td>568454.000000</td>\n",
       "      <td>568454.00000</td>\n",
       "    </tr>\n",
       "    <tr>\n",
       "      <th>mean</th>\n",
       "      <td>1.743817</td>\n",
       "      <td>2.22881</td>\n",
       "    </tr>\n",
       "    <tr>\n",
       "      <th>std</th>\n",
       "      <td>7.636513</td>\n",
       "      <td>8.28974</td>\n",
       "    </tr>\n",
       "    <tr>\n",
       "      <th>min</th>\n",
       "      <td>0.000000</td>\n",
       "      <td>0.00000</td>\n",
       "    </tr>\n",
       "    <tr>\n",
       "      <th>25%</th>\n",
       "      <td>0.000000</td>\n",
       "      <td>0.00000</td>\n",
       "    </tr>\n",
       "    <tr>\n",
       "      <th>50%</th>\n",
       "      <td>0.000000</td>\n",
       "      <td>1.00000</td>\n",
       "    </tr>\n",
       "    <tr>\n",
       "      <th>75%</th>\n",
       "      <td>2.000000</td>\n",
       "      <td>2.00000</td>\n",
       "    </tr>\n",
       "    <tr>\n",
       "      <th>max</th>\n",
       "      <td>866.000000</td>\n",
       "      <td>923.00000</td>\n",
       "    </tr>\n",
       "  </tbody>\n",
       "</table>\n",
       "</div>"
      ],
      "text/plain": [
       "       HelpfulnessNumerator  HelpfulnessDenominator\n",
       "count         568454.000000            568454.00000\n",
       "mean               1.743817                 2.22881\n",
       "std                7.636513                 8.28974\n",
       "min                0.000000                 0.00000\n",
       "25%                0.000000                 0.00000\n",
       "50%                0.000000                 1.00000\n",
       "75%                2.000000                 2.00000\n",
       "max              866.000000               923.00000"
      ]
     },
     "execution_count": 26,
     "metadata": {},
     "output_type": "execute_result"
    }
   ],
   "source": [
    "df[[\"HelpfulnessNumerator\", \"HelpfulnessDenominator\"]].describe()"
   ]
  },
  {
   "cell_type": "code",
   "execution_count": 27,
   "metadata": {},
   "outputs": [
    {
     "data": {
      "text/plain": [
       "0     303826\n",
       "1     116467\n",
       "2      53727\n",
       "3      29007\n",
       "4      16963\n",
       "5      11462\n",
       "6       7387\n",
       "7       5402\n",
       "8       3887\n",
       "9       3082\n",
       "10      2453\n",
       "11      2012\n",
       "12      1627\n",
       "13      1185\n",
       "14      1009\n",
       "Name: HelpfulnessNumerator, dtype: int64"
      ]
     },
     "execution_count": 27,
     "metadata": {},
     "output_type": "execute_result"
    }
   ],
   "source": [
    "df[\"HelpfulnessNumerator\"].value_counts().head(15)"
   ]
  },
  {
   "cell_type": "code",
   "execution_count": 28,
   "metadata": {},
   "outputs": [
    {
     "data": {
      "text/plain": [
       "<AxesSubplot:ylabel='Frequency'>"
      ]
     },
     "execution_count": 28,
     "metadata": {},
     "output_type": "execute_result"
    },
    {
     "data": {
      "image/png": "[encoded data removed]",
      "text/plain": [
       "<Figure size 432x288 with 1 Axes>"
      ]
     },
     "metadata": {},
     "output_type": "display_data"
    }
   ],
   "source": [
    "df[\"HelpfulnessNumerator\"].plot(kind=\"hist\")"
   ]
  },
  {
   "cell_type": "markdown",
   "metadata": {},
   "source": [
    "HelpfulnessNumerator - Upvote"
   ]
  },
  {
   "cell_type": "code",
   "execution_count": 29,
   "metadata": {},
   "outputs": [
    {
     "data": {
      "text/plain": [
       "0     270052\n",
       "1     112753\n",
       "2      61482\n",
       "3      34394\n",
       "4      22306\n",
       "5      14824\n",
       "6      10378\n",
       "7       7461\n",
       "8       5416\n",
       "9       4406\n",
       "10      3519\n",
       "11      2975\n",
       "12      2282\n",
       "13      1854\n",
       "14      1567\n",
       "Name: HelpfulnessDenominator, dtype: int64"
      ]
     },
     "execution_count": 29,
     "metadata": {},
     "output_type": "execute_result"
    }
   ],
   "source": [
    "df[\"HelpfulnessDenominator\"].value_counts().head(15)"
   ]
  },
  {
   "cell_type": "code",
   "execution_count": 30,
   "metadata": {},
   "outputs": [
    {
     "data": {
      "text/plain": [
       "2"
      ]
     },
     "execution_count": 30,
     "metadata": {},
     "output_type": "execute_result"
    }
   ],
   "source": [
    "df.loc[df[\"HelpfulnessNumerator\"]>df[\"HelpfulnessDenominator\"]].shape[0]"
   ]
  },
  {
   "cell_type": "code",
   "execution_count": 31,
   "metadata": {},
   "outputs": [
    {
     "data": {
      "text/plain": [
       "115091"
      ]
     },
     "execution_count": 31,
     "metadata": {},
     "output_type": "execute_result"
    }
   ],
   "source": [
    "df.loc[df[\"HelpfulnessNumerator\"]<df[\"HelpfulnessDenominator\"]].shape[0]"
   ]
  },
  {
   "cell_type": "code",
   "execution_count": 32,
   "metadata": {},
   "outputs": [],
   "source": [
    "diff = df[\"HelpfulnessDenominator\"] - df[\"HelpfulnessNumerator\"]"
   ]
  },
  {
   "cell_type": "code",
   "execution_count": 33,
   "metadata": {},
   "outputs": [
    {
     "data": {
      "text/plain": [
       "count    568454.000000\n",
       "mean          0.484993\n",
       "std           1.905591\n",
       "min          -2.000000\n",
       "25%           0.000000\n",
       "50%           0.000000\n",
       "75%           0.000000\n",
       "max         140.000000\n",
       "dtype: float64"
      ]
     },
     "execution_count": 33,
     "metadata": {},
     "output_type": "execute_result"
    }
   ],
   "source": [
    "diff.describe()"
   ]
  },
  {
   "cell_type": "code",
   "execution_count": 34,
   "metadata": {},
   "outputs": [
    {
     "data": {
      "image/png": "[encoded data removed]",
      "text/plain": [
       "<Figure size 432x288 with 1 Axes>"
      ]
     },
     "metadata": {},
     "output_type": "display_data"
    }
   ],
   "source": [
    "_ = diff.plot(kind=\"hist\")"
   ]
  },
  {
   "cell_type": "markdown",
   "metadata": {},
   "source": [
    "## Score"
   ]
  },
  {
   "cell_type": "code",
   "execution_count": 35,
   "metadata": {},
   "outputs": [
    {
     "data": {
      "text/plain": [
       "5    363122\n",
       "4     80655\n",
       "1     52268\n",
       "3     42640\n",
       "2     29769\n",
       "Name: Score, dtype: int64"
      ]
     },
     "execution_count": 35,
     "metadata": {},
     "output_type": "execute_result"
    }
   ],
   "source": [
    "df[\"Score\"].value_counts()"
   ]
  },
  {
   "cell_type": "markdown",
   "metadata": {},
   "source": [
    "Categorisation -\n",
    "\n",
    "* Scores 1 & 2 - Negative\n",
    "* Scores 4 & 5 - Positive"
   ]
  },
  {
   "cell_type": "code",
   "execution_count": 36,
   "metadata": {},
   "outputs": [],
   "source": [
    "df.loc[df[\"Score\"].isin([1, 2]), \"Class\"] = \"Negative\"\n",
    "df.loc[df[\"Score\"].isin([4, 5]), \"Class\"] = \"Positive\""
   ]
  },
  {
   "cell_type": "code",
   "execution_count": 37,
   "metadata": {},
   "outputs": [],
   "source": [
    "df = df.loc[df[\"Score\"].isin([1,2,4,5])]"
   ]
  },
  {
   "cell_type": "code",
   "execution_count": 38,
   "metadata": {},
   "outputs": [
    {
     "data": {
      "text/plain": [
       "(525814, 11)"
      ]
     },
     "execution_count": 38,
     "metadata": {},
     "output_type": "execute_result"
    }
   ],
   "source": [
    "df.shape"
   ]
  },
  {
   "cell_type": "code",
   "execution_count": 39,
   "metadata": {},
   "outputs": [],
   "source": [
    "df = df.drop(columns=[\"Score\"])"
   ]
  },
  {
   "cell_type": "markdown",
   "metadata": {},
   "source": [
    "**Depending upon Business requirement we have currently converted it to a binary classification. We can switch back to scoring based system anytime back**"
   ]
  },
  {
   "cell_type": "code",
   "execution_count": 40,
   "metadata": {},
   "outputs": [
    {
     "data": {
      "text/plain": [
       "Positive    443777\n",
       "Negative     82037\n",
       "Name: Class, dtype: int64"
      ]
     },
     "execution_count": 40,
     "metadata": {},
     "output_type": "execute_result"
    }
   ],
   "source": [
    "df[\"Class\"].value_counts()"
   ]
  },
  {
   "cell_type": "markdown",
   "metadata": {},
   "source": [
    "> Not Imbalanced neither balanced"
   ]
  },
  {
   "cell_type": "markdown",
   "metadata": {},
   "source": [
    "**Solutions for handling imbalance**\n",
    "- SMOTE\n",
    "- Undersampling\n",
    "- Oversampling\n",
    "\n",
    "https://towardsdatascience.com/metrics-to-evaluate-your-machine-learning-algorithm-f10ba6e38234"
   ]
  },
  {
   "cell_type": "markdown",
   "metadata": {},
   "source": [
    "## Summary"
   ]
  },
  {
   "cell_type": "code",
   "execution_count": 42,
   "metadata": {},
   "outputs": [],
   "source": [
    "df[\"Summary\"] = df[\"Summary\"].str.strip().str.capitalize()"
   ]
  },
  {
   "cell_type": "code",
   "execution_count": 44,
   "metadata": {},
   "outputs": [
    {
     "data": {
      "text/plain": [
       "(252623, 243414)"
      ]
     },
     "execution_count": 44,
     "metadata": {},
     "output_type": "execute_result"
    }
   ],
   "source": [
    "df[\"Summary\"].nunique(), df[\"UserId\"].nunique()"
   ]
  },
  {
   "cell_type": "code",
   "execution_count": 45,
   "metadata": {},
   "outputs": [
    {
     "data": {
      "text/plain": [
       "Delicious                              2852\n",
       "Delicious!                             2742\n",
       "Great product                          2536\n",
       "Yummy!                                 2006\n",
       "Yummy                                  1936\n",
       "                                       ... \n",
       "My favorite ramen noodles                 1\n",
       "The best \"hot dog\" out there!             1\n",
       "Excellent for a soybean oil sardine       1\n",
       "Cafe escapes hot cocoa                    1\n",
       "Big nut bar                               1\n",
       "Name: Summary, Length: 252623, dtype: int64"
      ]
     },
     "execution_count": 45,
     "metadata": {},
     "output_type": "execute_result"
    }
   ],
   "source": [
    "df[\"Summary\"].value_counts()"
   ]
  },
  {
   "cell_type": "markdown",
   "metadata": {},
   "source": [
    "### Length Distribution"
   ]
  },
  {
   "cell_type": "code",
   "execution_count": 54,
   "metadata": {},
   "outputs": [
    {
     "data": {
      "image/png": "[encoded data removed]",
      "text/plain": [
       "<Figure size 864x648 with 1 Axes>"
      ]
     },
     "metadata": {},
     "output_type": "display_data"
    }
   ],
   "source": [
    "plt.figure(figsize=(12, 9))\n",
    "_ = df[\"Summary\"].str.len().plot(kind=\"hist\")"
   ]
  },
  {
   "cell_type": "markdown",
   "metadata": {},
   "source": [
    "### Length distribution by Class"
   ]
  },
  {
   "cell_type": "code",
   "execution_count": 55,
   "metadata": {},
   "outputs": [
    {
     "data": {
      "image/png": "[encoded data removed]",
      "text/plain": [
       "<Figure size 864x648 with 1 Axes>"
      ]
     },
     "metadata": {},
     "output_type": "display_data"
    }
   ],
   "source": [
    "plt.figure(figsize=(12, 9))\n",
    "_ = df.loc[df[\"Class\"]==\"Positive\"][\"Summary\"].str.len().plot(kind=\"hist\")"
   ]
  },
  {
   "cell_type": "code",
   "execution_count": 56,
   "metadata": {},
   "outputs": [
    {
     "data": {
      "image/png": "[encoded data removed]",
      "text/plain": [
       "<Figure size 864x648 with 1 Axes>"
      ]
     },
     "metadata": {},
     "output_type": "display_data"
    }
   ],
   "source": [
    "plt.figure(figsize=(12, 9))\n",
    "_ = df.loc[df[\"Class\"]==\"Negative\"][\"Summary\"].str.len().plot(kind=\"hist\")"
   ]
  },
  {
   "cell_type": "markdown",
   "metadata": {},
   "source": [
    "### Word distribution by Class"
   ]
  },
  {
   "cell_type": "code",
   "execution_count": 68,
   "metadata": {},
   "outputs": [],
   "source": [
    "def return_len(x):\n",
    "    try:\n",
    "        return len(x)\n",
    "    except Exception as e:\n",
    "        return 0"
   ]
  },
  {
   "cell_type": "code",
   "execution_count": 69,
   "metadata": {},
   "outputs": [],
   "source": [
    "df[\"Count\"] = df[\"Summary\"].str.split().apply(lambda x: return_len(x))"
   ]
  },
  {
   "cell_type": "code",
   "execution_count": 80,
   "metadata": {},
   "outputs": [
    {
     "data": {
      "image/png": "[encoded data removed]",
      "text/plain": [
       "<Figure size 864x720 with 2 Axes>"
      ]
     },
     "metadata": {},
     "output_type": "display_data"
    }
   ],
   "source": [
    "fig, ax = plt.subplots(1, 2, figsize=(12, 10))\n",
    "_ = df.loc[df[\"Class\"]==\"Positive\"][\"Count\"].plot(kind=\"hist\", bins=np.arange(0, 50, 5), ax=ax[0])\n",
    "_ = df.loc[df[\"Class\"]==\"Negative\"][\"Count\"].plot(kind=\"hist\", bins=np.arange(0, 50, 5), ax=ax[1])"
   ]
  },
  {
   "cell_type": "markdown",
   "metadata": {},
   "source": [
    "### WordClouds"
   ]
  },
  {
   "cell_type": "code",
   "execution_count": null,
   "metadata": {},
   "outputs": [],
   "source": []
  },
  {
   "cell_type": "code",
   "execution_count": null,
   "metadata": {},
   "outputs": [],
   "source": []
  },
  {
   "cell_type": "code",
   "execution_count": null,
   "metadata": {},
   "outputs": [],
   "source": []
  },
  {
   "cell_type": "code",
   "execution_count": null,
   "metadata": {},
   "outputs": [],
   "source": []
  }
 ],
 "metadata": {
  "kernelspec": {
   "display_name": "Python 3",
   "language": "python",
   "name": "python3"
  },
  "language_info": {
   "codemirror_mode": {
    "name": "ipython",
    "version": 3
   },
   "file_extension": ".py",
   "mimetype": "text/x-python",
   "name": "python",
   "nbconvert_exporter": "python",
   "pygments_lexer": "ipython3",
   "version": "3.7.0"
  }
 },
 "nbformat": 4,
 "nbformat_minor": 4
}
