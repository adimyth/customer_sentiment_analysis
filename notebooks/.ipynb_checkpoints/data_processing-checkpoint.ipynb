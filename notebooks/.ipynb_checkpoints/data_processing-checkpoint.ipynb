{
 "cells": [
  {
   "cell_type": "code",
   "execution_count": 1,
   "id": "f7a4866f",
   "metadata": {},
   "outputs": [],
   "source": [
    "import pandas as pd\n",
    "import numpy as np"
   ]
  },
  {
   "cell_type": "code",
   "execution_count": 2,
   "id": "ba0d57f0",
   "metadata": {},
   "outputs": [],
   "source": [
    "import re\n",
    "import nltk\n",
    "import spacy\n",
    "import string"
   ]
  },
  {
   "cell_type": "code",
   "execution_count": 10,
   "id": "7e0d5619",
   "metadata": {},
   "outputs": [],
   "source": [
    "from nltk.corpus import stopwords"
   ]
  },
  {
   "cell_type": "markdown",
   "id": "c42bc054",
   "metadata": {},
   "source": [
    "## Loading Data"
   ]
  },
  {
   "cell_type": "code",
   "execution_count": 4,
   "id": "100b6182",
   "metadata": {},
   "outputs": [],
   "source": [
    "df = pd.read_csv(\"../data/intermediate/food_reviews.csv\")"
   ]
  },
  {
   "cell_type": "markdown",
   "id": "c9554a52",
   "metadata": {},
   "source": [
    "## Casing"
   ]
  },
  {
   "cell_type": "markdown",
   "id": "a771264f",
   "metadata": {},
   "source": [
    "**Tradeoffs** -\n",
    "1. Difference in sentiment\n",
    "2. Lesser time & compute"
   ]
  },
  {
   "cell_type": "code",
   "execution_count": 5,
   "id": "17fc96f4",
   "metadata": {},
   "outputs": [],
   "source": [
    "df[\"Summary\"] = df[\"Summary\"].str.lower()"
   ]
  },
  {
   "cell_type": "markdown",
   "id": "f948bc9c",
   "metadata": {},
   "source": [
    "## Puncutations Removal"
   ]
  },
  {
   "cell_type": "code",
   "execution_count": 8,
   "id": "c26ea590",
   "metadata": {},
   "outputs": [],
   "source": [
    "PUNCT_TO_REMOVE = '\"#$%&\\'*+,-./<=>?@[\\\\]^_`{|}~'"
   ]
  },
  {
   "cell_type": "code",
   "execution_count": null,
   "id": "e6fb9efa",
   "metadata": {},
   "outputs": [],
   "source": [
    "def remove_punctuation(text):\n",
    "    return text.translate(str.maketrans('', '', PUNCT_TO_REMOVE))"
   ]
  },
  {
   "cell_type": "code",
   "execution_count": 9,
   "id": "067e88ae",
   "metadata": {},
   "outputs": [],
   "source": [
    "df[\"Summary\"] = df[\"Summary\"].apply(lambda text: remove_punctuation(text))"
   ]
  },
  {
   "cell_type": "markdown",
   "id": "402a88a0",
   "metadata": {},
   "source": [
    "## Removal of stopwords"
   ]
  },
  {
   "cell_type": "code",
   "execution_count": 11,
   "id": "85cacb3f",
   "metadata": {},
   "outputs": [],
   "source": [
    "STOPWORDS = set(stopwords.words('english'))"
   ]
  },
  {
   "cell_type": "code",
   "execution_count": 13,
   "id": "b4123314",
   "metadata": {},
   "outputs": [],
   "source": [
    "def remove_stopwords(text):\n",
    "    return \" \".join([word for word in str(text).split() if word not in STOPWORDS])"
   ]
  },
  {
   "cell_type": "code",
   "execution_count": 14,
   "id": "561b421e",
   "metadata": {},
   "outputs": [],
   "source": [
    "df[\"Summary\"] = df[\"Summary\"].apply(lambda text: remove_stopwords(text))"
   ]
  },
  {
   "cell_type": "markdown",
   "id": "91c1f208",
   "metadata": {},
   "source": [
    "## Remove Frequent Words?\n",
    "\n",
    "Nope for summary. Revisit the unigram & bigram analysis for summary"
   ]
  },
  {
   "cell_type": "markdown",
   "id": "0cf98e18",
   "metadata": {},
   "source": [
    "## Remove Rare Words?"
   ]
  },
  {
   "cell_type": "markdown",
   "id": "5f884ef2",
   "metadata": {},
   "source": [
    "## Stemming"
   ]
  },
  {
   "cell_type": "markdown",
   "id": "57d9bcc9",
   "metadata": {},
   "source": [
    "## Lemmatization"
   ]
  },
  {
   "cell_type": "markdown",
   "id": "e2e664b2",
   "metadata": {},
   "source": [
    "## Conversion of Emoticon to Words"
   ]
  },
  {
   "cell_type": "markdown",
   "id": "cf0cc569",
   "metadata": {},
   "source": [
    "## Conversion of Emoji to Words"
   ]
  },
  {
   "cell_type": "markdown",
   "id": "14253a69",
   "metadata": {},
   "source": [
    "## Removal of URLs"
   ]
  },
  {
   "cell_type": "markdown",
   "id": "99b95f02",
   "metadata": {},
   "source": [
    "## Chat Words Conversion"
   ]
  },
  {
   "cell_type": "code",
   "execution_count": null,
   "id": "15565893",
   "metadata": {},
   "outputs": [],
   "source": []
  }
 ],
 "metadata": {
  "kernelspec": {
   "display_name": "Python 3",
   "language": "python",
   "name": "python3"
  },
  "language_info": {
   "codemirror_mode": {
    "name": "ipython",
    "version": 3
   },
   "file_extension": ".py",
   "mimetype": "text/x-python",
   "name": "python",
   "nbconvert_exporter": "python",
   "pygments_lexer": "ipython3",
   "version": "3.7.0"
  },
  "toc": {
   "base_numbering": 1,
   "nav_menu": {},
   "number_sections": true,
   "sideBar": true,
   "skip_h1_title": false,
   "title_cell": "Table of Contents",
   "title_sidebar": "Contents",
   "toc_cell": false,
   "toc_position": {},
   "toc_section_display": true,
   "toc_window_display": false
  }
 },
 "nbformat": 4,
 "nbformat_minor": 5
}
