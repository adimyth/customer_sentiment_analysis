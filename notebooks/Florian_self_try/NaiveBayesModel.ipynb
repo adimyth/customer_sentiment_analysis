{
 "cells": [
  {
   "cell_type": "code",
   "execution_count": 4,
   "id": "4dcd1365",
   "metadata": {},
   "outputs": [],
   "source": [
    "#all imports\n",
    "import numpy as np\n",
    "import re\n",
    "import pandas as pd\n",
    "from sklearn.model_selection import train_test_split\n",
    "from sklearn.feature_extraction.text import TfidfVectorizer, CountVectorizer\n",
    "from sklearn.naive_bayes import MultinomialNB\n",
    "from sklearn import metrics"
   ]
  },
  {
   "cell_type": "markdown",
   "id": "25302ea8",
   "metadata": {},
   "source": [
    "### Loading Data"
   ]
  },
  {
   "cell_type": "code",
   "execution_count": null,
   "id": "ac1f0caf",
   "metadata": {},
   "outputs": [],
   "source": []
  },
  {
   "cell_type": "code",
   "execution_count": 5,
   "id": "b937bf8b",
   "metadata": {},
   "outputs": [],
   "source": [
    "dfp = pd.read_csv(\"../../data/processed/Reviews_processed_binary_classification.csv\")"
   ]
  },
  {
   "cell_type": "code",
   "execution_count": 8,
   "id": "405dcbe5",
   "metadata": {},
   "outputs": [],
   "source": [
    "dfp = dfp.dropna()"
   ]
  },
  {
   "cell_type": "markdown",
   "id": "8ee8bcab",
   "metadata": {},
   "source": [
    "### Model Training `Summary`"
   ]
  },
  {
   "cell_type": "code",
   "execution_count": 15,
   "id": "912f924e",
   "metadata": {},
   "outputs": [],
   "source": [
    "y = dfp[\"Class_numerical\"]\n",
    "X = dfp[\"Summary_processed\"]\n",
    "X_tr, X_te, y_train, y_test = train_test_split(X, y, test_size=0.2, stratify=y,random_state=33)"
   ]
  },
  {
   "cell_type": "code",
   "execution_count": 16,
   "id": "c6c6c505",
   "metadata": {},
   "outputs": [],
   "source": [
    "tf_vectorizer = CountVectorizer()\n",
    "\n",
    "X_tr_tf =  tf_vectorizer.fit_transform(X_tr)\n",
    "X_te_tf = tf_vectorizer.transform(X_te)"
   ]
  },
  {
   "cell_type": "code",
   "execution_count": 17,
   "id": "2042452a",
   "metadata": {},
   "outputs": [
    {
     "data": {
      "text/plain": [
       "MultinomialNB()"
      ]
     },
     "execution_count": 17,
     "metadata": {},
     "output_type": "execute_result"
    }
   ],
   "source": [
    "naive_bayes_classifier = MultinomialNB()\n",
    "naive_bayes_classifier.fit(X_tr_tf, y_train)"
   ]
  },
  {
   "cell_type": "markdown",
   "id": "07d0323e",
   "metadata": {},
   "source": [
    "### Model Test  `Summary`"
   ]
  },
  {
   "cell_type": "code",
   "execution_count": 18,
   "id": "d12c85bd",
   "metadata": {},
   "outputs": [
    {
     "name": "stdout",
     "output_type": "stream",
     "text": [
      "accuracy:   0.870\n",
      "              precision    recall  f1-score   support\n",
      "\n",
      "    Positive       0.76      0.61      0.67     17408\n",
      "    Negative       0.89      0.95      0.92     61516\n",
      "\n",
      "    accuracy                           0.87     78924\n",
      "   macro avg       0.83      0.78      0.80     78924\n",
      "weighted avg       0.86      0.87      0.86     78924\n",
      "\n",
      "confusion matrix:\n",
      "[[10534  6874]\n",
      " [ 3366 58150]]\n",
      "------------------------------\n"
     ]
    }
   ],
   "source": [
    "# predict the new document from the testing dataset\n",
    "y_pred = naive_bayes_classifier.predict(X_te_tf)\n",
    "\n",
    "\n",
    "# compute the performance measures7\n",
    "score1 = metrics.accuracy_score(y_test, y_pred)\n",
    "print(\"accuracy:   %0.3f\" % score1)\n",
    "\n",
    "\n",
    "print(metrics.classification_report(y_test, y_pred, target_names=['Positive', 'Negative']))\n",
    "\n",
    "print(\"confusion matrix:\")\n",
    "print(metrics.confusion_matrix(y_test, y_pred))\n",
    "\n",
    "print('------------------------------')"
   ]
  },
  {
   "cell_type": "markdown",
   "id": "911d4c2c",
   "metadata": {},
   "source": [
    "### Model Training `Text`"
   ]
  },
  {
   "cell_type": "code",
   "execution_count": 24,
   "id": "a6832609",
   "metadata": {},
   "outputs": [],
   "source": [
    "y = dfp[\"Class_numerical\"]\n",
    "X = dfp[\"Text_processed\"]\n",
    "X_tr, X_te, y_train, y_test = train_test_split(X, y, test_size=0.2, stratify=y,random_state=33)"
   ]
  },
  {
   "cell_type": "code",
   "execution_count": 25,
   "id": "283c65ec",
   "metadata": {},
   "outputs": [],
   "source": [
    "tf_vectorizer = CountVectorizer()\n",
    "\n",
    "X_tr_tf =  tf_vectorizer.fit_transform(X_tr)\n",
    "X_te_tf = tf_vectorizer.transform(X_te)"
   ]
  },
  {
   "cell_type": "code",
   "execution_count": 26,
   "id": "fee648f1",
   "metadata": {},
   "outputs": [
    {
     "data": {
      "text/plain": [
       "MultinomialNB()"
      ]
     },
     "execution_count": 26,
     "metadata": {},
     "output_type": "execute_result"
    }
   ],
   "source": [
    "naive_bayes_classifier = MultinomialNB()\n",
    "naive_bayes_classifier.fit(X_tr_tf, y_train)\n",
    "\n",
    "next model \n",
    "fit next model\n",
    "\n",
    "\n",
    "next model \n",
    "fit next model \n",
    "\n"
   ]
  },
  {
   "cell_type": "markdown",
   "id": "1ab23a15",
   "metadata": {},
   "source": [
    "### Model Test `Text`"
   ]
  },
  {
   "cell_type": "code",
   "execution_count": 28,
   "id": "c23f28be",
   "metadata": {},
   "outputs": [
    {
     "name": "stdout",
     "output_type": "stream",
     "text": [
      "accuracy:   0.869\n",
      "              precision    recall  f1-score   support\n",
      "\n",
      "    Positive       0.76      0.60      0.67     17408\n",
      "    Negative       0.89      0.95      0.92     61516\n",
      "\n",
      "    accuracy                           0.87     78924\n",
      "   macro avg       0.83      0.77      0.79     78924\n",
      "weighted avg       0.86      0.87      0.86     78924\n",
      "\n",
      "confusion matrix:\n",
      "[10384  7024  3306 58210]\n",
      "------------------------------\n"
     ]
    }
   ],
   "source": [
    "# predict the new document from the testing dataset\n",
    "y_pred = naive_bayes_classifier.predict(X_te_tf)\n",
    "\n",
    "\n",
    "# compute the performance measures7\n",
    "score1 = metrics.accuracy_score(y_test, y_pred)\n",
    "print(\"accuracy:   %0.3f\" % score1)\n",
    "\n",
    "\n",
    "print(metrics.classification_report(y_test, y_pred, target_names=['Positive', 'Negative']))\n",
    "\n",
    "print(\"confusion matrix:\")\n",
    "print(metrics.confusion_matrix(y_test, y_pred).ravel())\n",
    "\n",
    "print('------------------------------')"
   ]
  },
  {
   "cell_type": "code",
   "execution_count": null,
   "id": "4d74bb12",
   "metadata": {},
   "outputs": [],
   "source": []
  }
 ],
 "metadata": {
  "kernelspec": {
   "display_name": "Python 3",
   "language": "python",
   "name": "python3"
  },
  "language_info": {
   "codemirror_mode": {
    "name": "ipython",
    "version": 3
   },
   "file_extension": ".py",
   "mimetype": "text/x-python",
   "name": "python",
   "nbconvert_exporter": "python",
   "pygments_lexer": "ipython3",
   "version": "3.7.10"
  }
 },
 "nbformat": 4,
 "nbformat_minor": 5
}
